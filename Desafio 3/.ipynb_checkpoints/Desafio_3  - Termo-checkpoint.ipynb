{
 "cells": [
  {
   "cell_type": "markdown",
   "metadata": {
    "id": "T2z8-VbYVz9d"
   },
   "source": [
    "<h2 align=\"center\"> Estudo da termodinâmica de uma usina elétrica a vapor </h3>\n",
    "\n",
    "<h4 align=\"center\"> Ilum - Escola de Ciência | Curso: Termodinâmica Avançada (2023) | Ministrada pelo Profº Amauri Jardim de Paula </h3>\n"
   ]
  },
  {
   "cell_type": "markdown",
   "metadata": {
    "id": "J6kZ4wISV1rU"
   },
   "source": [
    "<h3 align=\"justify\">  Descrição da Atividade </h3>\n",
    "\n",
    "<p style=\"text-align: justify\">  As usinas termoelétricas são instalações industriais utilizadas para a geração de energia elétrica, por meio de um processo que libera energia pela queima de algum tipo de combustível, seja este, renovável ou não. No Brasil, a usina termoelétrica é utilizada desde o final do século XIX, e hoje seu uso é feito de modo estratégico, para suprir as demandas de energia nos períodos de seca. </p>\n",
    "\n",
    "<p style=\"text-align: justify\"> Dada a relevância deste método de geração de energia e a vasta gama de conceitos da termodinâmica envoltos no processo desta, a disciplina tem como objetivo o estabelecimento dos parâmetros relevantes envolvidos no funcionamento de um sistema composto por uma usina elétrica a vapor operando a partir da combustão de uma mistura líquida de combustíveis. Logo, as discentes irão desenvolver um projeto de estudo do funcionamento de uma usina termoelétrica que é divido em seis etapadas nomeadas de Desafio. </p> \n",
    "<p style=\"text-align: justify\"> No presente arquivo, introduz a combustão dos compostos escolhidos para o Ciclo de Rankine (Desafio 3). </p>\n",
    "\n",
    "**Desafio 3 - Calculo da combustão dos combustíveis que fornecem energia ao Ciclo de Rankine** \n",
    "<p style=\"text-align: justify\"> O terceiro desafio para solução do problema principal da disciplina envolve: </p>\n",
    "\n",
    "- Os potenciais termodinâmicos (energia interna, entalpia, energia livre de Gibbs) envolvidos na reação de combustão.\n",
    "\n",
    "- A entropia envolvida na reação de combustão.\n",
    "\n",
    "- A equação de estado a ser usada para o sistema.\n",
    "\n",
    "<p align=\"center\"><img src=\"https://user-images.githubusercontent.com/106619091/225313553-b47b8234-48aa-4ef2-aeb5-2177a5c42312.png\" witdh = \"300\" height = \"300\" ></p>\n",
    "\n",
    "<h2 align=\"center\"> <img src=\"https://user-images.githubusercontent.com/106678040/226234219-007276df-12e9-46ee-af02-68471b39f593.png\" witdh = \"100\" height = \"100\"/>  </h2>\n",
    "\n",
    "\n",
    "\n",
    " <hr>"
   ]
  },
  {
   "cell_type": "markdown",
   "metadata": {
    "id": "2Dh6-m5qV7wl"
   },
   "source": [
    "<h2 align=\"center\"> <b> PLANO DE PROJETO: TERMOELÉTRICA BELA PIT S.A. </b>  </h2>\n",
    "\n",
    "<p style=\"text-align: justify\">\n",
    "Termoelétricas produzem energia a partir do ciclo de potência a vapor, sendo o vapor gerado pela queima de combustíveis que fazem girar as turbinas convertendo este trabalho em energia. O processo que faz essa produção de energia é denominado de Ciclo Rankine que aproveita o vapor que sai das turbinas condensando-o e transformando-o em líquido para realizar o ciclo repetidamente.</p>\n",
    "<p style=\"text-align: justify\"> \n",
    "Em síntese, ele possibilita por meio de ciclos termodinâmicos que o trabalho mecânico seja extraído de um fluido à medida que ele se move entre uma fonte de calor e um dissipador de calor. A fim de se ter essa energia é necessário ter uma boa queima de combustíveis com o intuito de promover uma grande quantidade de calor e energia, desse modo, o questionamento que se perpetua é:</p>\n",
    "<p style=\"text-align: center\">\n",
    "\"Como determinar bons combustíveis para a geração de energia?\"\n",
    "\n",
    "<p style=\"text-align: justify\"> No Desafio 1, determinou-se como mistura ideal para o projeto, a mistura: Methanol + Ethyl Acetate. Esses combustíveis foram determinados por meio de conceitos termodinâmicos, como a Entalpia - a quantidade de calor (energia) recebida ou absorvida no sistema por conta de uma mudança no próprio sistema ou pela quantidade de calor expelido pelo sistema como resultado da alteração deste; e a Entalpia de Combustão - utilizada para comparar quais combustíveis ou substâncias liberam mais energia quando são queimados. Nesse contexto, identificou-se na Tabela 1, as características gerais do composto que se apresentaram como bons candidatos de combustível para uso na Termoelétrica Bela Pit. </p>\n",
    "\n",
    "<br align=\"center\">\n",
    "\n",
    "<th> <table border=\"1\">\n",
    "    <tr>\n",
    "        <td>Fórmula </td>\n",
    "        <td>Massa Molar</td>\n",
    "        <td>Nome do composto</td>\n",
    "        <td>Entalpia de combustão</td>\n",
    "    </tr>\n",
    "    <tr>\n",
    "        <td>CH4O</td>\n",
    "        <td>32.042 g/mol</td>\n",
    "        <td>Methanol</td>\n",
    "        <td>−715,0 kJ/mol</td>\n",
    "    </tr>\n",
    "    <tr>\n",
    "        <td>C4H8O2</td>\n",
    "        <td>88.106 g/mol</td>\n",
    "        <td>Ethyl acetate</td>\n",
    "        <td>-2238,54 kJ/mol</td>\n",
    "    </tr>\n",
    "</table>\n",
    "</th>\n",
    "\n",
    "</br> \n",
    "\n",
    "<p align=\"justify\"> \n",
    "Tabela 1. Características gerais dos compostos puros Methanol e Ethyl acetate.\n",
    "</p>\n",
    "<p style=\"text-align: justify\"> Destaca-se que esta mistura é composta por dois compostos utilizados como combustíveis o que contribui para a formação de combustão destes e consequentemente, a liberação de energia. A entalpia dos compostos apresenta um valor médio-alto de excecução, sendo o do Methanol de -725.7 ± 0.1\t kJ/mol e do Ethyl acetate cerca de -2238.54 ± 0.48\tkJ/mol - os valores são negativos, pois apresentam a liberação da energia. Observou-se que a mistura é não-ideal, apresentando um ponto azeótopo com fraçar molar de 0.64 Methanol. </p>\n",
    "\n",
    "<p style=\"text-align: justify\"> Retomada as discussões abordadas no Desafio 1 e 2, o próximo desafio consiste na determinação da combustão do composto escolhido. Para tal, alguns aspectos importantes devem ser considerados.\n",
    "\n",
    " - Os potenciais termodinâmicos (energia interna, entalpia, energia livre de Gibbs) envolvidos na reação de combustão;\n",
    "\n",
    "- A entropia envolvida na reação de combustão;\n",
    "\n",
    "- A equação de estado a ser usada para o sistema.\n",
    "</p>\n"
   ]
  },
  {
   "cell_type": "markdown",
   "metadata": {
    "id": "-ZLSbQ-dbikP"
   },
   "source": [
    "<h2 p align=\"justify\"> <b> OS POTENCIAIS TERMODINÂMICOS </b>  </h2>\n",
    "\n",
    "<p style=\"text-align: justify\"> Na terceira fase do presente estudo, nos voltamos às energias presentes no sistema, essencialmente a aquelas que estão envolvidas na combustão dos compostos - sendo este, um passo fundamental para a determinação do Ciclo de Rankine. Dito isto, sabe-se que características como a Entalpia e a Energia livre de Gibbs estão relacionados diretamente com a energia interna e a entropia do sistema. Essas, no entanto, são funções dependentes de parâmetros extensivos difíceis de serem controlados experimentalmente. Sendo assim, busca-se trabalhar com parâmetros intensivos, como temperatura e pressão, que são facilmente controlados. </p>\n",
    "\n",
    "<p style=\"text-align: justify\"> Como foi discutido no Desafio 2, funções que trabalham com parâmetros extensivos podem ser substituídas por meio da <i> Transformação de Legendre </i>, desta forma, quando aplicamos esta transformação sobre a energia interna $U(S,V, n_1,...,n_n)$, o que se obtém é uma função $G(T, P, n_1, ...n_n)$, que representa justamente a Energia Livre de Gibbs. Vimos também que ao diferenciar esta função, o que se obtém são as quantidades parciais molares do sistema, seja para o volume, como feito anteriormente, ou para energia, como agora. </p>\n",
    "\n",
    "<p style=\"text-align: justify\"> Sabendo disto, podemos definir a Energia Livre de Gibbs por </p>\n",
    "\n",
    "<p style=\"text-align: justify\"> $dG = dH – T dS$ </p>\n",
    "\n",
    "<p style=\"text-align: justify\"> Assim, podemos iniciar os cálculos das energias do sistema com a variação de entalpia gerada pela combustão de cada composto de nossa mistura. </p>\n",
    "\n",
    "<p style=\"text-align: justify\"> No Desafio 2, realizamos o cálculo de volume total da reação, o que nos possibilitou a determinação da reação do volume total da mistura de 1194.32 L, entretanto, esse é o valor da mistura de uma reação composta por 0,64 mol de Methanol e 0,36 mol de Ethyl Acetato. Para realizar os cálculos dos potenciais termodinâmicos, iremos considerar uma mistura de 764.3648 L de Methanol e 429.9552 L de Ethyl Acetato - que totalizam os 1194.32L, os cálculos de entropia e entalpia serão realizados considerado cada composto isolado e posteriormente, serão somados para consideração total da combustão da mistura. </p>\n"
   ]
  },
  {
   "cell_type": "code",
   "execution_count": 1,
   "metadata": {
    "colab": {
     "base_uri": "https://localhost:8080/"
    },
    "id": "Uqi4uA1DJf4-",
    "outputId": "fc14227e-2974-4e31-9292-eb9263a4c815"
   },
   "outputs": [
    {
     "name": "stdout",
     "output_type": "stream",
     "text": [
      "A mistura possui 12290.913634410268 mols de metanol e 6880.059761267408 mols de ethil-acetato\n"
     ]
    }
   ],
   "source": [
    "# número de mol de cada composto \n",
    "\n",
    "X1 = 0.641121\n",
    "DENSIDADE = 0.83730 # g/cm3\n",
    "MASSA_METANOL = 32.042 # g\n",
    "MASSA_ETIL = 88.106 # g\n",
    "MASSA_MISTURA = 1000000 # g\n",
    "\n",
    "def molaridade_mistura(x1, M1, M2, massa_mistura):\n",
    "    \"\"\" \n",
    "    Calcula massa molar e número de mol da mistura\n",
    "\n",
    "      args: \n",
    "        x1: fração molar do composto 1\n",
    "        M1: massa molar do composto 1\n",
    "        M2: massa molar do composto 2\n",
    "        massa_mistura: massa total da mistura\n",
    "\n",
    "      return:\n",
    "        número de mols da mistura \n",
    "  \"\"\"\n",
    "\n",
    "    massa_molar = (x1*M1) + ((1-x1)*M2)\n",
    "\n",
    "    num_mols = massa_mistura/massa_molar\n",
    "\n",
    "    return num_mols, massa_molar \n",
    "\n",
    "num_mols_methanol = molaridade_mistura(X1, MASSA_METANOL, MASSA_ETIL, MASSA_MISTURA)[0] * X1\n",
    "num_mols_ethil = molaridade_mistura(X1, MASSA_METANOL, MASSA_ETIL, MASSA_MISTURA)[0] * (1-X1)\n",
    "\n",
    "print(\"A mistura possui\", num_mols_methanol,\"mols de metanol e\", num_mols_ethil,\"mols de ethil-acetato\")\n",
    "#print(num_mols_ethil+num_mols_methanol)"
   ]
  },
  {
   "cell_type": "markdown",
   "metadata": {
    "id": "0IgMrF3fDfIj"
   },
   "source": [
    "<h3> <p style=”text-align: justify\"> <b> Vamos analisar a combustão do Methanol? </b>  </h3> </p>\n",
    "\n",
    "<p style=\"text-align: justify\"> A reação de combustão completa do Methanol é dada por: </p>\n",
    "\n",
    "<p style=\"text-align: center\"> $ 2 \\ \\text{CH}_3\\  \\text{OH} + 3  \\text{O}_2 \\rightleftharpoons 2\\  \\text{CO}_2 + 4 \\ \\text{H}_2\\text{O} $</p>\n",
    "\n",
    "<p style=\"text-align: justify\"> Para encontrar a entalpia de combustão do Methanol, basta calcular a diferença entre a soma das entalpias de formação dos reagentes e a soma das entalpias de fomação dos produtos. Como pode ser visto:\n",
    "</p>\n",
    "\n",
    "<p style=\"text-align: center\"> $ \\Delta_r H = H_{produto} - H_{reagente} $</p>\n",
    "\n",
    "<p style=\"text-align: justify\">  Logo, sabendo dessa informação, temos que a entalpia de  do Methanol será dada por: </p>\n",
    "\n",
    "<p style=\"text-align: center\"> $ \\Delta_r H = (\\Delta H (2\\  \\text{CO}_2)  + \\Delta H (4\\  \\text{H}_2\\text{O})) - (\\Delta H (3\\ \\text{O}_2) + \\Delta H (\\text{CH}_3 \\text{OH})) $</p>\n",
    "\n",
    "<h4p align=\"justify\"> <b> E como determinamos a Entalpia de Combustão do Methanol? </b>  </h4>\n",
    "<p style=\"text-align: justify\"> Entalpia é uma medida termodinâmica que está relacionada com o quantidade de energia recebida ou absorvida por uma mudança do sistema, por sua vez, quando nos referimos a entalpia de combustão estamos interessados em determinar a energia liberada no modo de calor por meio de uma combustão de 1 mol de substância. Sabendo das nossas entalpias de formação, por meio do dataset da NST (https://webbook.nist.gov/chemistry/name-ser/), iremos calcular a combustão: </p>\n",
    "  </p\n"
   ]
  },
  {
   "cell_type": "code",
   "execution_count": 2,
   "metadata": {
    "id": "zjzNNyMreX5Q"
   },
   "outputs": [],
   "source": [
    "#Importações\n",
    "# Para uso matemático\n",
    "import numpy as np\n",
    "import math\n",
    "from uncertainties import ufloat\n"
   ]
  },
  {
   "cell_type": "markdown",
   "metadata": {},
   "source": [
    "<h4 align=\"justify\"> <b> Dados de Entalpia </b>  </h4>"
   ]
  },
  {
   "cell_type": "code",
   "execution_count": 3,
   "metadata": {
    "colab": {
     "base_uri": "https://localhost:8080/",
     "height": 573
    },
    "id": "9ewMYnGdeMAe",
    "outputId": "7d803a59-14a1-45b7-e2e0-5f82f096e95a"
   },
   "outputs": [],
   "source": [
    "ENTALPIA_DE_FORMACAO_METHANOL = ufloat(-205, 0.5)\n",
    "ENTALPIA_DE_FORMACAO_ETHYL_ACETATE = ufloat(-445.43, 0.6)\n",
    "ENTALPIA_DE_FORMACAO_O2 = 0\n",
    "ENTALPIA_DE_FORMACAO_H2O = ufloat(-241.83, 0.04)\n",
    "ENTALPIA_DE_FORMACAO_CO2 = ufloat(-393.52, 0.1)"
   ]
  },
  {
   "cell_type": "markdown",
   "metadata": {
    "id": "XFON9tLYxqiH"
   },
   "source": [
    "<h4p align=\"justify\"> <b> Analisando o Methanol </b>  </h4>"
   ]
  },
  {
   "cell_type": "code",
   "execution_count": 4,
   "metadata": {},
   "outputs": [
    {
     "name": "stdout",
     "output_type": "stream",
     "text": [
      "A entalpia de combustão do methanol, em 1 mol,  é -1549.4+/-0.6 kJ/mol\n",
      "A entalpia de combustão do methanol, em 12290.913634410268 mols, é (-1.9043+/-0.0007)e+07 kJ/mol\n"
     ]
    }
   ],
   "source": [
    "# Para 1 mol:\n",
    "entalpia_methanol_produto = 2 * ENTALPIA_DE_FORMACAO_CO2 + (4 *ENTALPIA_DE_FORMACAO_H2O)\n",
    "entalpia_methanol_reagente =  3 * ENTALPIA_DE_FORMACAO_O2 + (ENTALPIA_DE_FORMACAO_METHANOL)\n",
    "entalpia_methanol = entalpia_methanol_produto - entalpia_methanol_reagente\n",
    "\n",
    "#Para a combustão completa\n",
    "entalpia_methanol_total = entalpia_methanol * num_mols_methanol\n",
    "\n",
    "#Print\n",
    "print(f'A entalpia de combustão do methanol, em 1 mol,  é {entalpia_methanol} kJ/mol')\n",
    "print(f'A entalpia de combustão do methanol, em {num_mols_methanol} mols, é {entalpia_methanol_total} kJ/mol')"
   ]
  },
  {
   "cell_type": "markdown",
   "metadata": {
    "id": "GARgecj_i078"
   },
   "source": [
    "<h3 p align=\"justify\"> <b> Vamos analisar a combustão do Ethyl Acetate? </b>  </h3>\n",
    "<p style=\"text-align: justify\"> A reação de combustão completa do Ethyl Acetate é dada por: </p>\n",
    "\n",
    "$ \\text{C}_4 \\text{H}_8 \\text{O}_2 + 5  \\text{O}_2 \\rightleftharpoons 4 \\text{CO}_2 + 4 \\text{H}_2\\text{O} $\n",
    "\n",
    "<p style=\"text-align: justify\"> Para encontrar a entalpia de combustão do Ethyl Acetate, basta calcular a diferença entre a soma das entalpias de formação dos reagentes e a soma das entalpias de fomação dos produtos. Como pode ser visto:\n",
    "</p>\n",
    "\n",
    "$ \\Delta_r H = H_{produto} - H_{reagente} $\n",
    "\n",
    "<p style=\"text-align: justify\">  Logo, sabendo dessa informação, temos que a entalpia  do Ethyl Acetate será dada por: </p>\n",
    "\n",
    "$ \\Delta_r H = (\\Delta H (4 CO_2) + \\Delta H (4 H_2O) - (\\Delta H ( C_4H_8O_2) - \\Delta ( 5 O_2)) $\n",
    "\n",
    "<p style=\"text-align: justify\"> Vamos calcular?\n",
    "</p>"
   ]
  },
  {
   "cell_type": "code",
   "execution_count": 5,
   "metadata": {
    "colab": {
     "base_uri": "https://localhost:8080/",
     "height": 577
    },
    "id": "Za1FCb3DouEt",
    "outputId": "9c6372e3-d516-40ed-c969-d51332674f48"
   },
   "outputs": [
    {
     "name": "stdout",
     "output_type": "stream",
     "text": [
      "A entalpia de combustão do ethyl acetate, em 1 mol,  é -2096.0+/-0.7 kJ/mol\n",
      "A entalpia de combustão do ethyl acetate, em 6880.059761267408 mols, é (-1.4420+/-0.0005)e+07 kJ/mol\n"
     ]
    }
   ],
   "source": [
    "# Para 1 mol:\n",
    "entalpia_ethyl_produto = 4 * ENTALPIA_DE_FORMACAO_CO2 + (4 *ENTALPIA_DE_FORMACAO_H2O)\n",
    "entalpia_ethyl_reagente =  5 * ENTALPIA_DE_FORMACAO_O2 + (ENTALPIA_DE_FORMACAO_ETHYL_ACETATE)\n",
    "entalpia_ethyl = entalpia_ethyl_produto - entalpia_ethyl_reagente\n",
    "\n",
    "#Para todos os mols:\n",
    "entalpia_ethyl_total = entalpia_ethyl * num_mols_ethil\n",
    "\n",
    "#Print\n",
    "print(f'A entalpia de combustão do ethyl acetate, em 1 mol,  é {entalpia_ethyl} kJ/mol')\n",
    "print(f'A entalpia de combustão do ethyl acetate, em {num_mols_ethil} mols, é {entalpia_ethyl_total} kJ/mol')"
   ]
  },
  {
   "cell_type": "markdown",
   "metadata": {
    "id": "exmNbkmPi4V8"
   },
   "source": [
    "<h3 p align=\"justify\"> <b> E a entalpia de combustão total? </b>  </h3>\n",
    "<p align = 'justify'>  A entalpia de combustão total, ocorre por meio da somatória das entalpias obtidas de cada composto. Determina-se a molaridade de cada composto no sistema e multiplica-se esse valor pela entalpia gerada por seu respectivo composto, por fim, soma-se os valores de forma a se obter o resultado. </p>\n"
   ]
  },
  {
   "cell_type": "code",
   "execution_count": 6,
   "metadata": {
    "colab": {
     "base_uri": "https://localhost:8080/"
    },
    "id": "fYdCF-RAp55p",
    "outputId": "f5a5b5da-9843-4c1f-b890-814d48027df3"
   },
   "outputs": [
    {
     "name": "stdout",
     "output_type": "stream",
     "text": [
      "A entalpia total é de  (-3.3463+/-0.0010)e+07 kJ/mol\n"
     ]
    }
   ],
   "source": [
    "entalpia_total = entalpia_ethyl_total + entalpia_methanol_total\n",
    "print(\"A entalpia total é de \", entalpia_total , \"kJ/mol\")"
   ]
  },
  {
   "cell_type": "markdown",
   "metadata": {},
   "source": [
    "<h3 p align=\"justify\"> <b> COMENTÁRIOS </b>  </h3>\n",
    "<p align = 'justify'>  Obtivemos como valor de entalpia total um grande valor negativo - produtos menor energéticos que os reagentes, o que é muito importante para o nosso ciclo de Rankine, visto que demonstra um comportamento de combustíveis que tem alta tendência de liberação de energia. Essa liberação de energia, por meio da combustão, nos permite ter uma mistura de componentes bem reativas, já que há maior liberação de energia na forma de calor, para o meio externo do que absorção, sendo uma condição boa para o nosso maquinário.</p>\n"
   ]
  },
  {
   "cell_type": "markdown",
   "metadata": {
    "id": "DM5RVqzPbuRS"
   },
   "source": [
    "<h2 p align=\"justify\"> <b> ENTROPIA ENVOLVIDA NA REAÇÃO DE COMBUSTÃO </b>  </h2>\n"
   ]
  },
  {
   "cell_type": "markdown",
   "metadata": {
    "id": "reoe3BzwF_x9"
   },
   "source": [
    "<p style=\"text-align: justify\"> Agora vamos calcular uma grandeza de suma importância, a <b>entropia</b>. Ela está relacionada com a desordem ou aleatoriedade de um sistema, a sua variação é determinada pela subtração da entropia dos produtos pela entropia dos reagentes - um quanto similar ao abordado pela entalpia, logo, vamos repetir o processo. A postulação da variação de entropia é dada por: </p>\n",
    "<p style=\"text-align: center\"> $ \\Delta_r S = S_{produto} - S_{reagente} $</p>"
   ]
  },
  {
   "cell_type": "markdown",
   "metadata": {},
   "source": [
    "<h4 align=\"justify\"> <b> Dados de Entropia </b> </h4>"
   ]
  },
  {
   "cell_type": "code",
   "execution_count": 7,
   "metadata": {
    "id": "xSNXLyxgFsy0"
   },
   "outputs": [],
   "source": [
    "ENTROPIA_METHANOL = ufloat(237.23, 0.5)\n",
    "ENTROPIA_ETHYL_ACETATE =  ufloat(362.75, 0.5)\n",
    "ENTROPIA_O2 = ufloat(205.152, 0.05)\n",
    "ENTROPIA_H2O = ufloat(188.8355, 0.01)\n",
    "ENTROPIA_CO2 = ufloat(213.785, 0.01)"
   ]
  },
  {
   "cell_type": "markdown",
   "metadata": {},
   "source": [
    "<h3 p align=\"justify\"> <b> Vamos analisar a combustão do Methanol? </b>  </h3>\n",
    "<p align = 'justify'> A entalpia de formação do Methanol será dada por: </p>\n",
    "\n",
    "$ \\Delta_r H = (\\Delta H (2\\  \\text{CO}_2)  + \\Delta H (4\\  \\text{H}_2\\text{O})) - (\\Delta H (3\\ \\text{O}_2) + \\Delta H (\\text{CH}_3 \\text{OH})) $</p>\n",
    "\n",
    "<p align = 'justify'> Logo, realiza-se os cálculos: </p>"
   ]
  },
  {
   "cell_type": "code",
   "execution_count": 8,
   "metadata": {},
   "outputs": [
    {
     "name": "stdout",
     "output_type": "stream",
     "text": [
      "A entalpia de combustão do methanol, em 1 mol,  é 330.2+/-0.5 kJ/mol\n",
      "A entalpia de combustão do methanol, em 12290.913634410268 mols, é (4.059+/-0.006)e+06 kJ/mol\n"
     ]
    }
   ],
   "source": [
    "# Para 1 mol:\n",
    "entropia_methanol_produto = 2 * ENTROPIA_CO2 + (4 *ENTROPIA_H2O)\n",
    "entropia_methanol_reagente =  3 * ENTROPIA_O2 + (ENTROPIA_METHANOL)\n",
    "entropia_methanol = entropia_methanol_produto - entropia_methanol_reagente\n",
    "\n",
    "#Para a combustão completa\n",
    "entropia_methanol_total = entropia_methanol * num_mols_methanol\n",
    "\n",
    "#Print\n",
    "print(f'A entalpia de combustão do methanol, em 1 mol,  é {entropia_methanol} kJ/mol')\n",
    "print(f'A entalpia de combustão do methanol, em {num_mols_methanol} mols, é {entropia_methanol_total} kJ/mol')"
   ]
  },
  {
   "cell_type": "markdown",
   "metadata": {},
   "source": [
    "<h3 p align=\"justify\"> <b> Vamos analisar a combustão do Ethyl Acetate? </b>  </h3>\n",
    "<p align = 'justify'> A entalpia de formação do Ethyl Acetate será dada por: </p>\n",
    "\n",
    "$ \\Delta_r H = (\\Delta H (4 CO_2) + \\Delta H (4 H_2O) - (\\Delta H ( C_4H_8O_2) - \\Delta ( 5 O_2)) $\n",
    "\n",
    "<p align = 'justify'> Logo, realiza-se os cálculos: </p>"
   ]
  },
  {
   "cell_type": "code",
   "execution_count": 9,
   "metadata": {},
   "outputs": [
    {
     "name": "stdout",
     "output_type": "stream",
     "text": [
      "A entalpia de combustão do methanol, em 1 mol,  é 222.0+/-0.6 kJ/mol\n",
      "A entalpia de combustão do methanol, em 6880.059761267408 mols, é (1.527+/-0.004)e+06 kJ/mol\n"
     ]
    }
   ],
   "source": [
    "# Para 1 mol:\n",
    "entropia_ethyl_produto = 4 * ENTROPIA_CO2 + (4 *ENTROPIA_H2O)\n",
    "entropia_ethyl_reagente =  5 * ENTROPIA_O2 + (ENTROPIA_ETHYL_ACETATE)\n",
    "entropia_ehtyl = entropia_ethyl_produto - entropia_ethyl_reagente\n",
    "\n",
    "\n",
    "#Para o nosso caso:\n",
    "entropia_ehtyl_total = entropia_ehtyl * num_mols_ethil\n",
    "\n",
    "#Print\n",
    "print(f'A entalpia de combustão do methanol, em 1 mol,  é {entropia_ehtyl} kJ/mol')\n",
    "print(f'A entalpia de combustão do methanol, em {num_mols_ethil} mols, é {entropia_ehtyl_total} kJ/mol')"
   ]
  },
  {
   "cell_type": "markdown",
   "metadata": {},
   "source": [
    "<h3 p align=\"justify\"> <b> E a entropia de combustão total? </b>  </h3>\n",
    "<p align = 'justify'>  A entropia de combustão total, ocorre por meio da somatória das entalpias obtidas de cada composto. Determina-se a molaridade de cada composto no sistema e multiplica-se esse valor pela entalpia gerada por seu respectivo composto, por fim, soma-se os valores de forma a se obter o resultado. </p>\n"
   ]
  },
  {
   "cell_type": "code",
   "execution_count": 10,
   "metadata": {},
   "outputs": [
    {
     "name": "stdout",
     "output_type": "stream",
     "text": [
      "A entropia total é de  (5.586+/-0.008)e+06 kJ/mol\n"
     ]
    }
   ],
   "source": [
    "entropia_total = entropia_ehtyl_total + entropia_methanol_total\n",
    "print(\"A entropia total é de \", entropia_total , \"kJ/mol\")"
   ]
  },
  {
   "cell_type": "markdown",
   "metadata": {},
   "source": [
    "<h3 p align=\"justify\"> <b> COMENTÁRIOS </b>  </h3>\n",
    "<p align = 'justify'>  Obtivemos como valor de entalpia total um grande valor positivo, apresentando uma grande desordem do nosso sistema. Sabemos que a entropia está relacionada à espontaneidade dos processos físico-químicos, além disso, pensando em nosso contexto de máquinas térmicas, temos que analisar o processo de entropia de modo a identificar o rendimento de nossas máquinas, não é ideal uma máquina ter entropia igual a zero, visto que mesmo nos motores e sistemas mais eficientes que se utilizam de processos termodinâmicos cíclicos, há uma variação de entropiapositiva, pois parte da energia que é fornecida ao motor é dissipada em forma de calor.\n",
    "    </p>\n"
   ]
  },
  {
   "cell_type": "markdown",
   "metadata": {},
   "source": [
    "<h2 p align=\"justify\"> <b> ENERGIA INTERNA </b>  </h2>\n",
    "<p style='text-align: justify'> Energia interna é um sistema que analisa a energia cinética e potencial de um sistema termodinâmico, dependendo de sua entropia $S$, do seu volume $V$, da pressão $P$ e do seu número de partículas. Ela pode ser aumentada pelo calor, trabalho ou introdução de um novo composto, em situações em que não há transferência de matéria devido a impermeabilidade de uma parede, considera-se o sistema como fechado.  A energia interna pode ser analisada pela fórmula:\n",
    "\n",
    " </p>\n",
    " \n",
    " $ \\Delta_r U = \\Delta_r H - V.\\Delta P $"
   ]
  },
  {
   "cell_type": "code",
   "execution_count": 11,
   "metadata": {},
   "outputs": [],
   "source": [
    "# Cálculo da energia interna\n",
    "def energia_interna(entalpia, volume, pressão):\n",
    "    ''' Função para o cálculo da energia interna. \n",
    "    Args: Entalpia, Volume, Pressão\n",
    "    Return: energia interna\n",
    "    '''\n",
    "    energia_interna = entalpia - (volume*pressão)\n",
    "    return energia_interna"
   ]
  },
  {
   "cell_type": "code",
   "execution_count": 27,
   "metadata": {},
   "outputs": [
    {
     "name": "stdout",
     "output_type": "stream",
     "text": [
      "A variação da energia interna equivale a -121012.77917114535 k/J a 298 K.\n"
     ]
    }
   ],
   "source": [
    "volume = 1194.3150603129106 #L\n",
    "pressão = 101325   #Pascal\n",
    "energ_interna = energia_interna(volume, volume, pressão)\n",
    "print('A variação da energia interna equivale a', energ_interna * 0.001, 'k/J a 298 K.')"
   ]
  },
  {
   "cell_type": "markdown",
   "metadata": {
    "id": "WYup896ugs6w"
   },
   "source": [
    "<h2 p align=\"justify\"> <b> ENERGIA LIVRE DE GIBBS </b>  </h2>\n",
    "\n",
    "<p align = 'justify'>  Energia livre de Gibbs é uma grandeza termodinâmica que está relacionada com a espontaniedade do sistema, isto é, ela pode ser utilizada para o cálculo da quantidade máxima de trabalho e do trabalho pressão-volume de um sistema termodinamicamente fechado a temperatura e pressão constante. Ela é dada pela equação: </p>\n",
    "\n",
    "$ \\Delta_r G = \\Delta_r H - T.\\Delta_r S$\n"
   ]
  },
  {
   "cell_type": "code",
   "execution_count": 20,
   "metadata": {
    "id": "BUUrioQWhmvf"
   },
   "outputs": [],
   "source": [
    "def gibbs(entalpia, temperatura_k, entropia):\n",
    "    '''Essa fórmula realiza o cálculo da energia livre de Gibbs. \n",
    "      Args: Entalpia, temperatura e entropia\n",
    "     Return: energia livre de gibbs\n",
    "        '''\n",
    "    deltinha_G = entalpia - temperatura_k * entropia\n",
    "    return deltinha_G"
   ]
  },
  {
   "cell_type": "code",
   "execution_count": 22,
   "metadata": {
    "colab": {
     "base_uri": "https://localhost:8080/",
     "height": 189
    },
    "id": "NFt0495jh990",
    "outputId": "0474894f-20c5-4af9-effa-3e1fa50bbb63"
   },
   "outputs": [
    {
     "name": "stdout",
     "output_type": "stream",
     "text": [
      "A energia livre de Gibbs equivale a (-1.6981+/-0.0024)e+09 J a 298 K.\n"
     ]
    }
   ],
   "source": [
    "energia_gibs = gibbs(entalpia_total, 298, entropia_total)\n",
    "print('A energia livre de Gibbs equivale a', energia_gibs, 'J a 298 K.')"
   ]
  },
  {
   "cell_type": "markdown",
   "metadata": {},
   "source": [
    "<h3 p align=\"justify\"> <b> COMENTÁRIOS </b>  </h3>\n",
    "<p align = 'justify'>  Obtendo um valor de energia livre de Gibbs de resultado negativo, temos a existência de um processo em que há a redução da energia livre do sistema, consequentemente, realizando trabalho, sendo um processo espontâneo - não é necessário uma energia que faça o ciclo ocorrer. \n",
    "    </p>\n"
   ]
  },
  {
   "cell_type": "markdown",
   "metadata": {
    "id": "y6crLJzUbywh"
   },
   "source": [
    "<h2 p align=\"justify\"> <b> A EQUAÇÃO DO ESTADO A SER USADA PARA O SISTEMA </b>  </h2>\n",
    "\n",
    "<p style=\"text-align: justify\"> A equação de estado para sistemas termodinâmicos foi proposta em 1873 pelo físico holandês Johannes Diderik van der Waals. Ela foi desenvolvida como uma tentativa de melhorar a descrição do comportamento dos gases em relação à equação dos gases ideais.\n",
    "\n",
    "<p style=\"text-align: justify\">A equação de estado de Van der Waals leva em consideração a existência de forças intermoleculares e o fato de que as moléculas dos gases possuem volume limitado, ao contrário do que é assumido pela equação dos gases ideais. A equação é dada por:\n",
    "\n",
    "<p style=\"text-align: center\">$(P + a(\\frac{n}{V})^2)(V - nb) = nRT$</p>\n",
    "\n",
    "<p style=\"text-align: justify\">onde a e b são constantes que dependem das propriedades intermoleculares da substância e R a constante dos gases ideias.</p>\n",
    "\n",
    "<p style=\"text-align: justify\">O termo $(\\frac{n}{V})^2$ representa o efeito do volume molecular, enquanto o termo $nb$ leva em conta a exclusão de volume das moléculas. O termo $a(\\frac{n}{V})^2$ representa o efeito das forças intermoleculares, que reduzem a pressão efetiva do gás.</p>\n",
    "\n",
    "<p style=\"text-align: justify\">Desta forma, para o presente sistema, a equação de estado pode ser escrita como:</p>\n",
    "\n",
    "<p style=\"text-align: center\"> $(24318 + a(\\frac{19170.97}{1194.31})^2)(1194.31 - 19170.97*b) = 19170.97* R * 298$ </p>\n",
    "\n",
    "<p style=\"text-align: justify\"> ou, de forma simplificada:</p>\n",
    "\n",
    "<p style=\"text-align: center\"> $(24318 + a257,60)(1194.31 - 19170.97*b) = 19170.97 * R * 298$. </p>\n",
    "\n",
    "\n",
    "<hr>"
   ]
  },
  {
   "cell_type": "markdown",
   "metadata": {},
   "source": [
    "<h4 p align=\"justify\"> <b> Referências Bibliográficas </b> </h4>\n",
    "\n",
    "- Methyl Alcohol. Disponível em: <https://webbook.nist.gov/cgi/cbook.cgi?Name=methanol&Units=SI>. Acesso em: 13 maio. 2023.\n",
    "\n",
    "- Ethyl Acetate. Disponível em: <https://webbook.nist.gov/cgi/cbook.cgi?Name=ethyl_acetate&Units=SI>. Acesso em: 13 maio. 2023.\n",
    "\n",
    "- CALLISTER, William D.; RETHWISCH, David G. Materials Science and Engineering: an Introduction. 8. ed. [S. l.]: John Wiley & Sons, Inc, 2009. 885 p. ISBN 978-0-470-55673-3\n",
    "\n",
    "- DDBST GMBH. Vapor-Liquid Equilibrium Data of Ethyl acetate + Methanol from Dortmund Data Bank. Disponível em: <http://unifac.ddbst.de/en/EED/VLE/VLE%20Ethyl%20acetate%3BMethanol.php>. Acesso em: 22 mar. 2023.\n",
    "\n",
    "- González, Begoña, Noelia Calvar, Elena Gómez, and Ángeles Domínguez. \"Density, Dynamic Viscosity, and Derived Properties of Binary Mixtures of Methanol or Ethanol with Water, Ethyl Acetate, and Methyl Acetate at T = (293.15, 298.15, and 303.15) K.\" The Journal of Chemical Thermodynamics 39.12 (2007): 1578-588. Web. \n",
    "\n",
    "- MLA. Schroeder, Daniel V. An Introduction to Thermal Physics. San Francisco, CA :Addison Wesley, 1999. APA. Schroeder, Daniel V. (1999).\n",
    "\n",
    "- FIN, D. Primeira lei da termodinâmica: fórmulas e aplicações - Aprova Total. Disponível em: <https://aprovatotal.com.br/primeira-lei-da-termodinamica/>. Acesso em: 14 maio. 2023.\n",
    "\n",
    "- 2.12: Van der Waals’ Equation. Disponível em: <https://chem.libretexts.org/Bookshelves/Physical_and_Theoretical_Chemistry_Textbook_Maps/Thermodynamics_and_Chemical_Equilibrium_(Ellgen)/02%3A_Gas_Laws/2.12%3A_Van_der_Waals%27_Equation#:~:text=(b%2F%C2%AFN>. Acesso em: 14 maio. 2023.\n",
    "\n",
    "‌"
   ]
  },
  {
   "cell_type": "code",
   "execution_count": null,
   "metadata": {},
   "outputs": [],
   "source": []
  }
 ],
 "metadata": {
  "colab": {
   "provenance": []
  },
  "kernelspec": {
   "display_name": "ilumpy",
   "language": "python",
   "name": "ilumpy"
  },
  "language_info": {
   "codemirror_mode": {
    "name": "ipython",
    "version": 3
   },
   "file_extension": ".py",
   "mimetype": "text/x-python",
   "name": "python",
   "nbconvert_exporter": "python",
   "pygments_lexer": "ipython3",
   "version": "3.9.7"
  }
 },
 "nbformat": 4,
 "nbformat_minor": 4
}
