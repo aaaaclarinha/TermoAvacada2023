{
 "cells": [
  {
   "cell_type": "markdown",
   "metadata": {
    "id": "7t6J26sF20ul"
   },
   "source": [
    "<h2 align=\"center\"> Estudo da termodinâmica de uma usina elétrica a vapor </h3>\n",
    "\n",
    "<h4 align=\"center\"> Ilum - Escola de Ciência | Curso: Termodinâmica Avançada (2023) | Ministrada pelo Profº Amauri Jardim de Paula </h3>\n"
   ]
  },
  {
   "cell_type": "markdown",
   "metadata": {
    "id": "fPCAau8z6k9w"
   },
   "source": [
    "<h3 align=\"justify\">  Descrição da Atividade </h3>\n",
    "\n",
    "<p style=\"text-align: justify\">  As usinas termoelétricas são instalações industriais utilizadas para a geração de energia elétrica, por meio de um processo que libera energia pela queima de algum tipo de combustível, seja este, renovável ou não. No Brasil, a usina termoelétrica é utilizada desde o final do século XIX, e hoje seu uso é feito de modo estratégico, para suprir as demandas de energia nos períodos de seca. </p>\n",
    "\n",
    "<p style=\"text-align: justify\"> Dada a relevância deste método de geração de energia e a vasta gama de conceitos da termodinâmica envoltos no processo desta, a disciplina tem como objetivo o estabelecimento dos parâmetros relevantes envolvidos no funcionamento de um sistema composto por uma usina elétrica a vapor operando a partir da combustão de uma mistura líquida de combustíveis. Logo, as discentes irão desenvolver um projeto de estudo do funcionamento de uma usina termoelétrica que é divido em seis etapadas nomeadas de Desafio. </p> \n",
    "<p style=\"text-align: justify\"> No presente arquivo, introduz os cálculos dos processos que irão fornecer energia ao ciclo de Rankine (Desafio 2). </p>\n",
    "\n",
    "**Desafio 2 - Calculo das variaveis envolvidas no processo termodinâmicos que fornecem energia ao Ciclo de Rankine** \n",
    "<p style=\"text-align: justify\"> O segundo desafio para solução do problema principal da disciplina envolve: </p>\n",
    "\n",
    "- A separação dos líquidos na mistura e a evaporação do combustível.\n",
    "\n",
    "  Para tal, alguns aspectos importantes devem ser considerados.\n",
    "\n",
    "- O volume final da mistura calculado a partir dos volumes parciais molares.\n",
    "\n",
    "- O comportamento da mistura de líquido (ideal ou não ideal).\n",
    "\n",
    "- As características do diagrama de fases da mistura líquida.\n",
    "\n",
    "- A pressão de vapor dos compostos.\n",
    "<p align=\"center\"><img src=\"https://user-images.githubusercontent.com/106619091/225313553-b47b8234-48aa-4ef2-aeb5-2177a5c42312.png\" witdh = \"300\" height = \"300\" ></p>\n",
    "\n",
    "<h2 align=\"center\"> <img src=\"https://user-images.githubusercontent.com/106678040/226234219-007276df-12e9-46ee-af02-68471b39f593.png\" witdh = \"100\" height = \"100\"/>  </h2>\n",
    "\n",
    "\n",
    "\n",
    " <hr>"
   ]
  },
  {
   "cell_type": "markdown",
   "metadata": {
    "id": "NLICWTv33GXC"
   },
   "source": [
    "<h2 align=\"center\"> <b> PLANO DE PROJETO: TERMOELÉTRICA BELA PIT S.A. </b>  </h2>\n",
    "\n",
    "<p style=\"text-align: justify\">\n",
    "Termoelétricas produzem energia a partir do ciclo de potência a vapor, sendo o vapor gerado pela queima de combustíveis que fazem girar as turbinas convertendo este trabalho em energia. O processo que faz essa produção de energia é denominado de Ciclo Rankine que aproveita o vapor que sai das turbinas condensando-o e transformando-o em líquido para realizar o ciclo repetidamente.</p>\n",
    "<p style=\"text-align: justify\"> \n",
    "Em síntese, ele possibilita por meio de ciclos termodinâmicos que o trabalho mecânico seja extraído de um fluido à medida que ele se move entre uma fonte de calor e um dissipador de calor. A fim de se ter essa energia é necessário ter uma boa queima de combustíveis com o intuito de promover uma grande quantidade de calor e energia, desse modo, o questionamento que se perpetua é:</p>\n",
    "<p style=\"text-align: center\">\n",
    "\"Como determinar bons combustíveis para a geração de energia?\"\n",
    "\n",
    "<p style=\"text-align: justify\"> No Desafio 1, determinou-se como mistura ideal para o projeto, a mistura: Methanol + Ethyl Acetate. Esses combustíveis foram determinados por meio de conceitos termodinâmicos, como a Entalpia - a quantidade de calor (energia) recebida ou absorvida no sistema por conta de uma mudança no próprio sistema ou pela quantidade de calor expelido pelo sistema como resultado da alteração deste; e a Entalpia de Combustão - utilizada para comparar quais combustíveis ou substâncias liberam mais energia quando são queimados. Nesse contexto, identificou-se na Tabela 1, as características gerais do composto que se apresentaram como bons candidatos de combustível para uso na Termoelétrica Bela Pit. </p>\n",
    "\n",
    "<br align=\"center\">\n",
    "\n",
    "<th> <table border=\"1\">\n",
    "    <tr>\n",
    "        <td>Fórmula </td>\n",
    "        <td>Massa Molar</td>\n",
    "        <td>Nome do composto</td>\n",
    "        <td>Entalpia de combustão</td>\n",
    "    </tr>\n",
    "    <tr>\n",
    "        <td>CH4O</td>\n",
    "        <td>32.042 g/mol</td>\n",
    "        <td>Methanol</td>\n",
    "        <td>−715,0 kJ/mol</td>\n",
    "    </tr>\n",
    "    <tr>\n",
    "        <td>C4H8O2</td>\n",
    "        <td>88.106 g/mol</td>\n",
    "        <td>Ethyl acetate</td>\n",
    "        <td>-478,82 kJ/mol</td>\n",
    "    </tr>\n",
    "</table>\n",
    "</th>\n",
    "\n",
    "</br> \n",
    "\n",
    "<p align=\"justify\"> \n",
    "Tabela 1. Características gerais dos compostos puros Methanol e Ethyl acetate.\n",
    "</p>\n",
    "<p style=\"text-align: justify\"> Destaca-se que esta mistura é composta por dois compostos utilizados como combustíveis o que contribui para a formação de combustão destes e consequentemente, a liberação de energia. A entalpia dos compostos apresenta um valor médio-alto de excecução, sendo o do Methanol de -715 kJ/mol e do Ethyl acetate cerca de -478 kJ/mol - os valores são negativos, pois apresentam a liberação da energia.</p>\n",
    "\n",
    "<p style=\"text-align: justify\"> Retomada as discussões abordadas no Desafio 1, o próximo desafio consiste no desenvolvimento e atuação de ações que visem a separação dos líquidos na mistura e a evaporação do combustível. De modo a descrever esses procedimentos, deve-se determinar o volume total da mistura calculado a partir dos volumes parciais molares, o comportamento dessa mistura e as características de seu diagrama de fases, além da determinação da pressão de vapor dos compostos.\n",
    "</p>\n"
   ]
  },
  {
   "cell_type": "markdown",
   "metadata": {
    "id": "vWhyvnRakdIu"
   },
   "source": [
    "<h2 p align=\"justify\"> <b> PARÂMETROS INICIAS </b>  </h2>\n",
    "\n",
    "<p style=\"text-align: justify\"> Os valores de densidade utilizados nesse estudo são valores mensurados pelo estudo de Gonzáléz et al. (2007) que em uma mistura de Methanol e Ethyl Acetate, apresentam o valor de densidade de 0.83730 g/ cm-3. A fim de se obter esses valores, opta-se pelo valor de Pressão da mistura de 24318 Pascal - condição de baixa pressão a fim dos valores baterem com a densidade teórica encontrada pelos estudos de Gonzaléz et al. (2007). </p>\n",
    "\n",
    "<p style=\"text-align: justify\"> O conjunto de dados que determina os valores de temperatura necessária do solvente puro e a fração molar de cada composto para a mistura é obtido por meio do database <a href=\"http://azeotrope.info/\"> Azeotrope</a> que utiliza o modelo UNIFAC. Porque utilizamos a database Azeotrope? Isso ocorre, porque a nossa mistura é azeotrópica - vamos comentar um pouco mais sobre isso em uma seção posterior; e esse database informa características de amostras azeotopas. Os valores de temperatura e fração molar são observados na Figura 1.  </p>\n",
    " </p>\n",
    "<p align=\"center\"><img src=\"https://user-images.githubusercontent.com/106678040/233070033-aa24f4d9-3890-4bdd-8aa6-87f560146e00.png\"></p>\n",
    "\n",
    "Figura 1. Tabela de informações da mistura azeotropica do Methanol + Ethyl Acetate de acordo com a pressão constante determinada.\n"
   ]
  },
  {
   "cell_type": "markdown",
   "metadata": {
    "id": "fh8k2k42N2B3"
   },
   "source": [
    "<h2 p align=\"justify\"> <b> COMPORTAMENTO DA MISTURA </b>  </h2>\n",
    "\n",
    "<p style=\"text-align: justify\"> De modo a compreender o comportamento da mistura, inicialmente, deve-se caracteriza-la como uma mistura ideal ou não-ideal. As misturas ideais são aquelas que apresentam partículas similares, no que diz respeito a sua forma, tamanho e interações moleculares, por sua vez, as misturas não-ideais são aquelas em que as partículas não apresentam propriedades similares. </p>\n",
    "<p style=\"text-align: justify\"> As misturas não-ideias podem ocorrer de duas maneiras, isto é, quando as forças intermoleculares entre moléculas de soluto e solvente são menos fortes do que entre moléculas de moléculas semelhantes (do mesmo tipo) e quando as forças intermoleculares entre as moléculas diferentes são maiores. </p>\n",
    "\n",
    "<p style=\"text-align: justify\">  Além do mais, pensando a respeito da pressão, observa-se que as misturas não-ideais, não obedecem à lei de Raoult para todas as faixas de concentração e temperatura, pois podem demonstrar desvios positivos ou negativos de acordo com a faixa considerada ideal pela lei. Por fim, observa-se que soluções não-ideais apresentam azeótopos e a nossa mistura combustível, Methanol + Ethyl Acetate se apresenta como uma mistura azeotrópica, sendo portanto, uma mistura não-ideal.</p>\n",
    "\n",
    "<h4 p align=\"justify\"> <b> Mistura Azeotrópica </b> </h4>\n",
    "\n",
    "<p style=\"text-align: justify\"> Azeótropos são misturas não-ideias de dois ou mais líquidos que se desviam da Lei de Raoult. O ponto azeotrópico é considerado como o ponto de interseção encontrado no diagrama de fases VLE da mistura binária, sendo o momento em que a mistura atinge a pureza máxima, a partir desse ponto, não se pode cometer mais a destilação simples, sendo necessário utilizar a destilação azeótropica.  </p>\n",
    "<p style=\"text-align: justify\"> Essas características nos permitem determinar que como a sua composição é inalteradda, em um determinado ponto, pela destilação simples, os azeótopos podem ser considerados como uma mistura de ponto de ebulição constante (fixo).  </p>\n",
    "<p style=\"text-align: justify\"> Existem dois tipos de azéotopos: os de ebulição máxima e os de ebulição mínima. Azéotopos de ebulição mínima, apresentam um maior desvio positivo da lei de Raoult. Este caso, é o da nossa mistura: Methanol + Ethyl Acetate (a seção que descreve a Lei de Raoult se encontra no final do notebook. </p>\n",
    "\n",
    "<p style=\"text-align: justify\"> Os azéotopos de ponto de ebulição mínima apresentam uma menor temperatura de ebulição do que a composição pura dos seus compostos, esse tipo de azéotopo também pode ser considerado como azéotopo positivo. </p>\n",
    "<p style=\"text-align: justify\"> Dissertado brevemente a respeito do comportamento da mistura, iremos comentar sobre o seu diagrama de fases, corelacionando os conceitos teóricos de azeótopos e o comportamento do diagrama de fases da nossa mistura. </p>\n"
   ]
  },
  {
   "cell_type": "markdown",
   "metadata": {
    "id": "AUBWs8cqOTrJ"
   },
   "source": [
    "<h2 p align=\"justify\"> <b> DIAGRAMA DE FASES </b>  </h2>\n",
    "\n",
    "<p style=\"text-align: justify\"> Os diagramas de fase apresentam suma relevância na compreensão de um sistema de misturas, já que eles demonstras as elações entre as fases de um sistema em função da temperatura, pressão e fração molar. Neste projeto, demonstramos a relação de um diagrama de fases Isobárico, isto é, a relação da fração molar da substância binária: Ethyl Acetate + Methanol em função da diferença de temperatura sobre um pressão constante de 24,318 kPa (24318 Pascal). </p>\n",
    "<p style=\"text-align: justify\"> De modo a plotar o gráfico, importa-se as bibliotecas do pandas e matplotlib para criar um dataframe com os dados txt da fração molar e das temperaturas da mistura no estado liquído e no estado de vapor. Os dados em .txt foram retirados do database <a href=\"http://vle-calc.com/phase_diagram.html \"> VLE-Calc</a>.  </p>\n"
   ]
  },
  {
   "cell_type": "code",
   "execution_count": 1,
   "metadata": {
    "id": "r1M0bMRZOWTA"
   },
   "outputs": [],
   "source": [
    "# Import das bibliotecas\n",
    "# Para uso gráfico\n",
    "import pandas as pd\n",
    "import matplotlib.pyplot as plt\n",
    "import matplotlib.patches as patches\n",
    "from matplotlib.lines import Line2D\n",
    "\n",
    "# Para uso matemático\n",
    "import numpy as np\n",
    "import math"
   ]
  },
  {
   "cell_type": "code",
   "execution_count": 2,
   "metadata": {
    "colab": {
     "base_uri": "https://localhost:8080/",
     "height": 1000
    },
    "id": "qwp8dxCFOPVa",
    "outputId": "c9b881ad-b525-4272-a08f-a8d8a5e54161"
   },
   "outputs": [],
   "source": [
    "# Vamos entender o nosso diagrama de fases?\n",
    "# Criação do dataframe a partir dos dados retirados da database VLE-CALC.\n",
    "misturinha = pd.read_csv('misturinha_acetato_methanol_303k.txt', sep='\\t')\n",
    "#misturinha "
   ]
  },
<<<<<<< HEAD
  {
   "cell_type": "markdown",
   "metadata": {
    "id": "oSK63_9N7nYE"
   },
   "source": [
    "<p align=\"justify\"> A fim de demonstrar o comportamento de destilação da mistura até o ponto azeótopo, desenvolve-se a função de escada. É possível identificar o ponto de concentração inicial da mistura de 0.1 molar de Methanol e o seu comportamento de pureza até o ponto azeótopo de 0.64 molar. </p>"
   ]
  },
  {
   "cell_type": "code",
   "execution_count": 3,
   "metadata": {
    "id": "esFG1M63mzSw"
   },
   "outputs": [],
   "source": [
    "def escada(ax, con, df, iteracoes=10, df_up_label='y1', df_down_label='x1', df_temp_label='Temperature', make_first_trail=True):\n",
    "    from scipy.interpolate import CubicSpline as CS\n",
    "    from copy import deepcopy as dc\n",
    "    \n",
    "    upSpline = CS(df[df_up_label], df[df_temp_label])\n",
    "    downSpline = CS(df[df_down_label], df[df_temp_label])\n",
    "    \n",
    "    concentracoes = [con]\n",
    "    temperaturas = [upSpline(con)]\n",
    "    \n",
    "    first = True\n",
    "    \n",
    "    for _ in range(iteracoes):\n",
    "        x1 = con\n",
    "        y1 = downSpline(x1)\n",
    "        ax.scatter(x1, y1, c='#ff0000', s=15)\n",
    "        \n",
    "        y2 = y1\n",
    "        x2 = upSpline.solve(y2)\n",
    "        \n",
    "        x2_c = dc(x2)\n",
    "        dist = float('+inf')\n",
    "        for i, x in enumerate(x2_c):\n",
    "            if x < 0:\n",
    "                continue\n",
    "            if abs(x - x1) < dist:\n",
    "                dist = abs(x - x1)\n",
    "                x2 = x2_c[i]\n",
    "        ax.scatter(x2, y2, c='#ff0000', s=15)\n",
    "        \n",
    "        ymin_vert = upSpline(x1)\n",
    "        if first and make_first_trail:\n",
    "            first = False\n",
    "            ymin_vert = min(df[df_temp_label]) - 1\n",
    "        elif first and not make_first_trail:\n",
    "            first = False\n",
    "            ymin_vert = downSpline(x1)\n",
    "        \n",
    "        ax.vlines(x=x1, ymin=ymin_vert, ymax=y2, ls='--', color='#ff0000')\n",
    "        ax.hlines(y=y1, xmin=x1, xmax=x2, ls='--', color='#ff0000')\n",
    "        \n",
    "        concentracoes.append(x2)\n",
    "        temperaturas.append(y2)\n",
    "        \n",
    "        con = x2\n",
    "    \n",
    "    return upSpline, downSpline, concentracoes, temperaturas"
   ]
  },
  {
   "cell_type": "markdown",
   "metadata": {
    "id": "7suzHn1R8Z8U"
   },
   "source": [
    "<p align=\"justify\"> Definido os dados e realizada a função de escada da destilação, plota-se o diagrama de fases da mistura. </p>"
   ]
  },
  {
   "cell_type": "code",
   "execution_count": 4,
   "metadata": {
    "colab": {
     "base_uri": "https://localhost:8080/",
     "height": 718
=======
  "cells": [
    {
      "cell_type": "markdown",
      "source": [
        "<h2 align=\"center\"> Estudo da termodinâmica de uma usina elétrica a vapor </h3>\n",
        "\n",
        "<h4 align=\"center\"> Ilum - Escola de Ciência | Curso: Termodinâmica Avançada (2023) | Ministrada pelo Profº Amauri Jardim de Paula </h3>\n"
      ],
      "metadata": {
        "id": "7t6J26sF20ul"
      }
    },
    {
      "cell_type": "markdown",
      "source": [
        "<h3 align=\"justify\">  Descrição da Atividade </h3>\n",
        "\n",
        "<p align=\"justify\">  As usinas termoelétricas são instalações industriais utilizadas para a geração de energia elétrica, por meio de um processo que libera energia pela queima de algum tipo de combustível, seja este, renovável ou não. No Brasil, a usina termoelétrica é utilizada desde o final do século XIX, e hoje seu uso é feito de modo estratégico, para suprir as demandas de energia nos períodos de seca. </p>\n",
        "\n",
        "<p align=\"justify\"> Dada a relevância deste método de geração de energia e a vasta gama de conceitos da termodinâmica envoltos no processo desta, a disciplina tem como objetivo o estabelecimento dos parâmetros relevantes envolvidos no funcionamento de um sistema composto por uma usina elétrica a vapor operando a partir da combustão de uma mistura líquida de combustíveis. Logo, as discentes irão desenvolver um projeto de estudo do funcionamento de uma usina termoelétrica que é divido em seis etapadas nomeadas de Desafio. </p> \n",
        "<p align=\"justify\"> No presente arquivo, introduz-se os cálculos dos processos  que irão fornecer energia ao ciclo de Rankine (Desafio 2). </p>\n",
        "\n",
        "**Desafio 2 - Calculo das variaveis envolvidas no processo termodinâmicos que fornecem energia ao Ciclo de Rankine** \n",
        "<p align=\"justify\"> O segundo desafio para solução do problema principal da disciplina envolve: </p>\n",
        "\n",
        "- A separação dos líquidos na mistura e a evaporação do combustível.\n",
        "\n",
        "  Para tal, alguns aspectos importantes devem ser considerados.\n",
        "\n",
        "- O volume final da mistura calculado a partir dos volumes parciais molares.\n",
        "\n",
        "- O comportamento da mistura de líquido (ideal ou não ideal).\n",
        "\n",
        "- As características do diagrama de fases da mistura líquida.\n",
        "\n",
        "- A pressão de vapor dos compostos.\n",
        "<p align=\"center\"><img src=\"https://user-images.githubusercontent.com/106619091/225313553-b47b8234-48aa-4ef2-aeb5-2177a5c42312.png\" witdh = \"300\" height = \"300\" ></p>\n",
        "\n",
        "<h2 align=\"center\"> <img src=\"https://user-images.githubusercontent.com/106678040/226234219-007276df-12e9-46ee-af02-68471b39f593.png\" witdh = \"100\" height = \"100\"/>  </h2>\n",
        "\n",
        "\n",
        "\n",
        " <hr>"
      ],
      "metadata": {
        "id": "fPCAau8z6k9w"
      }
    },
    {
      "cell_type": "markdown",
      "source": [
        "<h2 align=\"center\"> <b> PLANO DE PROJETO: TERMOELÉTRICA BELA PIT S.A. </b>  </h3>\n",
        "\n",
        "<p align=\"justify\"> \n",
        "Termoelétricas produzem energia a partir do ciclo de potência a vapor, sendo o vapor gerado pela queima de combustíveis que fazem girar as turbinas convertendo este trabalho em energia. O processo que faz essa produção de energia é denominado de Ciclo Rankine que aproveita o vapor que sai das turbinas condensando-o e transformando-o em líquido para realizar o ciclo repetidamente.</p>\n",
        "<p align=\"justify\"> \n",
        "Em síntese, ele possibilita por meio de ciclos termodinâmicos que o trabalho mecânico seja extraído de um fluido à medida que ele se move entre uma fonte de calor e um dissipador de calor. A fim de se ter essa energia é necessário ter uma boa queima de combustíveis com o intuito de promover uma grande quantidade de calor e energia, desse modo, o questionamento que se perpetua é:</p>\n",
        "<p align=\"center\"> \n",
        "\"Como determinar bons combustíveis para a geração de energia?\"\n",
        "\n",
        "<p align=\"justify\"> No Desafio 1, determinou-se como mistura ideal para o projeto, a mistura: Methanol + Ethyl Acetate. Esses combustíveis foram determinados por meio de conceitos termodinâmicos, como a Entalpia - a quantidade de calor (energia) recebida ou absorvida no sistema por conta de uma mudança no próprio sistema ou pela quantidade de calor expelido pelo sistema como resultado da alteração deste; e a Entalpia de Combustão - utilizada para comparar quais combustíveis ou substâncias liberam mais energia quando são queimados. Nesse contexto, identificou-se na Tabela 1, as características gerais do composto que se apresentaram como bons candidatos de combustível para uso na Termoelétrica Bela Pit. </p>\n",
        "\n",
        "<br align=\"center\">\n",
        "\n",
        "<th> <table border=\"1\">\n",
        "    <tr>\n",
        "        <td>Fórmula </td>\n",
        "        <td>Massa Molar</td>\n",
        "        <td>Nome do composto</td>\n",
        "        <td>Entalpia de combustão</td>\n",
        "    </tr>\n",
        "    <tr>\n",
        "        <td>CH4O</td>\n",
        "        <td>32.042 g/mol</td>\n",
        "        <td>Methanol</td>\n",
        "        <td>−715,0 kJ/mol</td>\n",
        "    </tr>\n",
        "    <tr>\n",
        "        <td>C4H8O2</td>\n",
        "        <td>88.106 g/mol</td>\n",
        "        <td>Ethyl acetate</td>\n",
        "        <td>-478,82 kJ/mol</td>\n",
        "    </tr>\n",
        "</table>\n",
        "</th>\n",
        "\n",
        "</br> \n",
        "\n",
        "<p align=\"justify\"> \n",
        "Tabela 1. Características gerais dos compostos puros Methanol e Ethyl acetate.\n",
        "</p>\n",
        "\n",
        "<p align=\"justify\"> Destaca-se que esta mistura é composta por dois compostos utilizados como combustíveis o que contribui para a formação de combustão destes e consequentemente, a liberação de energia. A entalpia dos compostos apresenta um valor médio-alto de excecução, sendo o do Methanol de -715 kJ/mol e do Ethyl acetate cerca de -478 kJ/mol - os valores são negativos, pois apresentam a liberação da energia.</p>\n",
        "\n",
        "<p align=\"justify\"> Retomada as discussões abordadas no Desafio 1, o próximo desafio consiste no desenvolvimento e atuação de ações que visem a separação dos líquidos na mistura e a evaporação do combustível. De modo a descrever esses procedimentos, deve-se determinar o volume total da mistura calculado a partir dos volumes parciais molares, o comportamento dessa mistura e as características de seu diagrama de fases, além da determinação da pressão de vapor dos compostos.\n",
        "</p>\n"
      ],
      "metadata": {
        "id": "NLICWTv33GXC"
      }
    },
    {
      "cell_type": "markdown",
      "source": [
        "<h2 p align=\"justify\"> <b> PARÂMETROS INICIAS </b> </p> </h4>\n",
        "\n",
        "<p align=\"justify\"> Os valores de densidade utilizados nesse estudo são valores mensurados pelo estudo de Gonzáléz et al. (2007) que em uma mistura de Methanol e Ethyl Acetate, apresentam o valor de densidade de 0.83730 g/ cm-3. A fim de se obter esses valores, opta-se pelo valor de Pressão da mistura de 24318 Pascal - condição de baixa pressão a fim dos valores baterem com a densidade teórica encontrada pelos estudos de Gonzaléz et al. (2007). </p>\n",
        "\n",
        "<p align=\"justify\"> O conjunto de dados que determina os valores de temperatura necessária do solvente puro e a fração molar de cada composto para a mistura é obtido por meio do database <a href=\"http://azeotrope.info/\"> Azeotrope</a> que utiliza o modelo UNIFAC. Porque utilizamos a database Azeotrope? Isso ocorre, porque a nossa mistura é azeotrópica - vamos comentar um pouco mais sobre isso em uma seção posterior; e esse database informa características de amostras azeotopas. Os valores de temperatura e fração molar são observados na Figura 1.  </p>\n",
        " </p>\n",
        "<p align=\"center\"><img src=\"https://user-images.githubusercontent.com/106678040/233070033-aa24f4d9-3890-4bdd-8aa6-87f560146e00.png\"></p>\n",
        "\n",
        "Figura 1. Tabela de informações da mistura azeotropica do Methanol + Ethyl Acetate de acordo com a pressão constante determinada.\n"
      ],
      "metadata": {
        "id": "vWhyvnRakdIu"
      }
    },
    {
      "cell_type": "markdown",
      "source": [
        "<h2 p align=\"justify\"> <b> COMPORTAMENTO DA MISTURA </b> </p> </h4>\r\n",
        "\r\n",
        "<p align=\"justify\"> De modo a compreender o comportamento da mistura, inicialmente, deve-se caracteriza-la como uma mistura ideal ou não-ideal. As misturas ideais são aquelas que apresentam partículas similares, no que diz respeito a sua forma, tamanho e interações moleculares, por sua vez, as misturas não-ideais são aquelas em que as partículas não apresentam propriedades similares. </p>\r\n",
        "<p align=\"justify\"> As misturas não-ideias podem ocorrer de duas maneiras, isto é, quando as forças intermoleculares entre moléculas de soluto e solvente são menos fortes do que entre moléculas de moléculas semelhantes (do mesmo tipo) e quando as forças intermoleculares entre as moléculas diferentes são maiores. </p>\r\n",
        "\r\n",
        "<p align=\"justify\">  Além do mais, pensando a respeito da pressão, observa-se que as misturas não-ideais, não obedecem à lei de Raoult para todas as faixas de concentração e temperatura, pois podem demonstrar desvios positivos ou negativos de acordo com a faixa considerada ideal pela lei. Por fim, observa-se que soluções não-ideais apresentam azeótopos e a nossa mistura combustível, Methanol + Ethyl Acetate se apresenta como uma mistura azeotrópica, sendo portanto, uma mistura não-ideal.</p>\r\n",
        "\r\n",
        "\r\n",
        "<h4 p align=\"justify\"> <b> Mistura Azeotrópica </b> </p> </h4>\r\n",
        "\r\n",
        "<p align=\"justify\"> Azeótropos são misturas não-ideias de dois ou mais líquidos que se desviam da Lei de Raoult. O ponto azeotrópico é considerado como o ponto de interseção encontrado no diagrama de fases VLE da mistura binária, sendo o momento em que a mistura atinge a pureza máxima, a partir desse ponto, não se pode cometer mais a destilação simples, sendo necessário utilizar a destilação azeótropica.  </p>\r\n",
        "<p align=\"justify\"> Essas características nos permitem determinar que como a sua composição é inalterada, em um determinado ponto, pela destilação simples, os azeótopos podem ser considerados como uma mistura de ponto de ebulição constante (fixo).  </p>\r\n",
        "<p align=\"justify\"> Existem dois tipos de azéotopos: os de ebulição máxima e os de ebulição mínima. Azéotopos de ebulição mínima, apresentam um maior desvio positivo da lei de Raoult. Este caso, é o da nossa mistura: Methanol + Ethyl Acetate (a seção que descreve a Lei de Raoult se encontra no final do notebook). </p>\r\n",
        "<p align=\"justify\"> Os azéotopos de ponto de ebulição mínima apresentam uma menor temperatura de ebulição do que a composição pura dos seus compostos, esse tipo de azéotopo também pode ser considerado como azéotopo positivo. </p>\r\n",
        "<p align=\"justify\"> Dissertado brevemente a respeito do comportamento da mistura, iremos comentar sobre o seu diagrama de fases, corelacionando os conceitos teóricos de azeótopos e o comportamento do diagrama de fases da nossa mistura. </p>\r\n"
      ],
      "metadata": {
        "id": "fh8k2k42N2B3"
      }
    },
    {
      "cell_type": "markdown",
      "source": [
        "<h2 p align=\"justify\"> <b> DIAGRAMA DE FASES </b> </p> </h4>\n",
        "\n",
        "<p align=\"justify\"> Os diagramas de fase apresentam suma relevância na compreensão de um sistema de misturas, já que eles demonstras as elações entre as fases de um sistema em função da temperatura, pressão e fração molar. Neste projeto, demonstramos a relação de um diagrama de fases Isobárico, isto é, a relação da fração molar da substância binária: Ethyl Acetate + Methanol em função da diferença de temperatura sobre um pressão constante de 24,318 kPa (24318 Pascal). </p>\n",
        "<p align=\"justify\"> De modo a plotar o gráfico, importa-se as bibliotecas do pandas e matplotlib para criar um dataframe com os dados txt da fração molar e das temperaturas da mistura no estado liquído e no estado de vapor. Os dados em .txt foram retirados do database <a href=\"http://vle-calc.com/phase_diagram.html \"> VLE-Calc</a>.  </p>\n"
      ],
      "metadata": {
        "id": "AUBWs8cqOTrJ"
      }
    },
    {
      "cell_type": "code",
      "execution_count": null,
      "source": [
        "# Import das bibliotecas\r\n",
        "# Para uso gráfico\r\n",
        "import pandas as pd\r\n",
        "import matplotlib.pyplot as plt\r\n",
        "import matplotlib.patches as patches\r\n",
        "from matplotlib.lines import Line2D\r\n",
        "\r\n",
        "# Para uso matemático\r\n",
        "import numpy as np\r\n",
        "import math"
      ],
      "outputs": [],
      "metadata": {
        "id": "r1M0bMRZOWTA"
      }
    },
    {
      "cell_type": "code",
      "execution_count": null,
      "source": [
        "# Vamos entender o nosso diagrama de fases?\r\n",
        "# Criação do dataframe a partir dos dados retirados da database VLE-CALC.\r\n",
        "misturinha = pd.read_csv('misturinha_acetato_methanol_303k.txt', sep='\\t')\r\n",
        "# misturinha "
      ],
      "outputs": [
        {
          "output_type": "execute_result",
          "data": {
            "text/html": [
              "\n",
              "  <div id=\"df-fba277ef-3057-493d-a9d1-0db170777229\">\n",
              "    <div class=\"colab-df-container\">\n",
              "      <div>\n",
              "<style scoped>\n",
              "    .dataframe tbody tr th:only-of-type {\n",
              "        vertical-align: middle;\n",
              "    }\n",
              "\n",
              "    .dataframe tbody tr th {\n",
              "        vertical-align: top;\n",
              "    }\n",
              "\n",
              "    .dataframe thead th {\n",
              "        text-align: right;\n",
              "    }\n",
              "</style>\n",
              "<table border=\"1\" class=\"dataframe\">\n",
              "  <thead>\n",
              "    <tr style=\"text-align: right;\">\n",
              "      <th></th>\n",
              "      <th>Temperature</th>\n",
              "      <th>x1</th>\n",
              "      <th>y1</th>\n",
              "    </tr>\n",
              "  </thead>\n",
              "  <tbody>\n",
              "    <tr>\n",
              "      <th>0</th>\n",
              "      <td>312.441</td>\n",
              "      <td>0.000</td>\n",
              "      <td>0.000000</td>\n",
              "    </tr>\n",
              "    <tr>\n",
              "      <th>1</th>\n",
              "      <td>312.364</td>\n",
              "      <td>0.001</td>\n",
              "      <td>0.004454</td>\n",
              "    </tr>\n",
              "    <tr>\n",
              "      <th>2</th>\n",
              "      <td>312.285</td>\n",
              "      <td>0.002</td>\n",
              "      <td>0.008853</td>\n",
              "    </tr>\n",
              "    <tr>\n",
              "      <th>3</th>\n",
              "      <td>312.206</td>\n",
              "      <td>0.003</td>\n",
              "      <td>0.013198</td>\n",
              "    </tr>\n",
              "    <tr>\n",
              "      <th>4</th>\n",
              "      <td>312.129</td>\n",
              "      <td>0.004</td>\n",
              "      <td>0.017490</td>\n",
              "    </tr>\n",
              "    <tr>\n",
              "      <th>5</th>\n",
              "      <td>311.976</td>\n",
              "      <td>0.006</td>\n",
              "      <td>0.025919</td>\n",
              "    </tr>\n",
              "    <tr>\n",
              "      <th>6</th>\n",
              "      <td>311.827</td>\n",
              "      <td>0.008</td>\n",
              "      <td>0.034146</td>\n",
              "    </tr>\n",
              "    <tr>\n",
              "      <th>7</th>\n",
              "      <td>311.680</td>\n",
              "      <td>0.010</td>\n",
              "      <td>0.042179</td>\n",
              "    </tr>\n",
              "    <tr>\n",
              "      <th>8</th>\n",
              "      <td>310.990</td>\n",
              "      <td>0.020</td>\n",
              "      <td>0.079651</td>\n",
              "    </tr>\n",
              "    <tr>\n",
              "      <th>9</th>\n",
              "      <td>310.363</td>\n",
              "      <td>0.030</td>\n",
              "      <td>0.113146</td>\n",
              "    </tr>\n",
              "    <tr>\n",
              "      <th>10</th>\n",
              "      <td>309.793</td>\n",
              "      <td>0.040</td>\n",
              "      <td>0.143255</td>\n",
              "    </tr>\n",
              "    <tr>\n",
              "      <th>11</th>\n",
              "      <td>308.796</td>\n",
              "      <td>0.060</td>\n",
              "      <td>0.195163</td>\n",
              "    </tr>\n",
              "    <tr>\n",
              "      <th>12</th>\n",
              "      <td>307.958</td>\n",
              "      <td>0.080</td>\n",
              "      <td>0.238332</td>\n",
              "    </tr>\n",
              "    <tr>\n",
              "      <th>13</th>\n",
              "      <td>307.246</td>\n",
              "      <td>0.100</td>\n",
              "      <td>0.274827</td>\n",
              "    </tr>\n",
              "    <tr>\n",
              "      <th>14</th>\n",
              "      <td>305.877</td>\n",
              "      <td>0.150</td>\n",
              "      <td>0.345663</td>\n",
              "    </tr>\n",
              "    <tr>\n",
              "      <th>15</th>\n",
              "      <td>304.913</td>\n",
              "      <td>0.200</td>\n",
              "      <td>0.397605</td>\n",
              "    </tr>\n",
              "    <tr>\n",
              "      <th>16</th>\n",
              "      <td>304.210</td>\n",
              "      <td>0.250</td>\n",
              "      <td>0.438133</td>\n",
              "    </tr>\n",
              "    <tr>\n",
              "      <th>17</th>\n",
              "      <td>303.686</td>\n",
              "      <td>0.300</td>\n",
              "      <td>0.471466</td>\n",
              "    </tr>\n",
              "    <tr>\n",
              "      <th>18</th>\n",
              "      <td>303.287</td>\n",
              "      <td>0.350</td>\n",
              "      <td>0.500181</td>\n",
              "    </tr>\n",
              "    <tr>\n",
              "      <th>19</th>\n",
              "      <td>302.981</td>\n",
              "      <td>0.400</td>\n",
              "      <td>0.525974</td>\n",
              "    </tr>\n",
              "    <tr>\n",
              "      <th>20</th>\n",
              "      <td>302.748</td>\n",
              "      <td>0.450</td>\n",
              "      <td>0.550043</td>\n",
              "    </tr>\n",
              "    <tr>\n",
              "      <th>21</th>\n",
              "      <td>302.575</td>\n",
              "      <td>0.500</td>\n",
              "      <td>0.573307</td>\n",
              "    </tr>\n",
              "    <tr>\n",
              "      <th>22</th>\n",
              "      <td>302.454</td>\n",
              "      <td>0.550</td>\n",
              "      <td>0.596534</td>\n",
              "    </tr>\n",
              "    <tr>\n",
              "      <th>23</th>\n",
              "      <td>302.384</td>\n",
              "      <td>0.600</td>\n",
              "      <td>0.620438</td>\n",
              "    </tr>\n",
              "    <tr>\n",
              "      <th>24</th>\n",
              "      <td>302.366</td>\n",
              "      <td>0.650</td>\n",
              "      <td>0.645752</td>\n",
              "    </tr>\n",
              "    <tr>\n",
              "      <th>25</th>\n",
              "      <td>302.407</td>\n",
              "      <td>0.700</td>\n",
              "      <td>0.673312</td>\n",
              "    </tr>\n",
              "    <tr>\n",
              "      <th>26</th>\n",
              "      <td>302.516</td>\n",
              "      <td>0.750</td>\n",
              "      <td>0.704166</td>\n",
              "    </tr>\n",
              "    <tr>\n",
              "      <th>27</th>\n",
              "      <td>302.712</td>\n",
              "      <td>0.800</td>\n",
              "      <td>0.739743</td>\n",
              "    </tr>\n",
              "    <tr>\n",
              "      <th>28</th>\n",
              "      <td>303.022</td>\n",
              "      <td>0.850</td>\n",
              "      <td>0.782152</td>\n",
              "    </tr>\n",
              "    <tr>\n",
              "      <th>29</th>\n",
              "      <td>303.491</td>\n",
              "      <td>0.900</td>\n",
              "      <td>0.834768</td>\n",
              "    </tr>\n",
              "    <tr>\n",
              "      <th>30</th>\n",
              "      <td>303.739</td>\n",
              "      <td>0.920</td>\n",
              "      <td>0.859861</td>\n",
              "    </tr>\n",
              "    <tr>\n",
              "      <th>31</th>\n",
              "      <td>304.032</td>\n",
              "      <td>0.940</td>\n",
              "      <td>0.888040</td>\n",
              "    </tr>\n",
              "    <tr>\n",
              "      <th>32</th>\n",
              "      <td>304.378</td>\n",
              "      <td>0.960</td>\n",
              "      <td>0.920051</td>\n",
              "    </tr>\n",
              "    <tr>\n",
              "      <th>33</th>\n",
              "      <td>304.575</td>\n",
              "      <td>0.970</td>\n",
              "      <td>0.937796</td>\n",
              "    </tr>\n",
              "    <tr>\n",
              "      <th>34</th>\n",
              "      <td>304.791</td>\n",
              "      <td>0.980</td>\n",
              "      <td>0.956904</td>\n",
              "    </tr>\n",
              "    <tr>\n",
              "      <th>35</th>\n",
              "      <td>305.027</td>\n",
              "      <td>0.990</td>\n",
              "      <td>0.977564</td>\n",
              "    </tr>\n",
              "    <tr>\n",
              "      <th>36</th>\n",
              "      <td>305.077</td>\n",
              "      <td>0.992</td>\n",
              "      <td>0.981901</td>\n",
              "    </tr>\n",
              "    <tr>\n",
              "      <th>37</th>\n",
              "      <td>305.128</td>\n",
              "      <td>0.994</td>\n",
              "      <td>0.986311</td>\n",
              "    </tr>\n",
              "    <tr>\n",
              "      <th>38</th>\n",
              "      <td>305.180</td>\n",
              "      <td>0.996</td>\n",
              "      <td>0.990796</td>\n",
              "    </tr>\n",
              "    <tr>\n",
              "      <th>39</th>\n",
              "      <td>305.206</td>\n",
              "      <td>0.997</td>\n",
              "      <td>0.993067</td>\n",
              "    </tr>\n",
              "    <tr>\n",
              "      <th>40</th>\n",
              "      <td>305.233</td>\n",
              "      <td>0.998</td>\n",
              "      <td>0.995358</td>\n",
              "    </tr>\n",
              "    <tr>\n",
              "      <th>41</th>\n",
              "      <td>305.260</td>\n",
              "      <td>0.999</td>\n",
              "      <td>0.997669</td>\n",
              "    </tr>\n",
              "    <tr>\n",
              "      <th>42</th>\n",
              "      <td>305.284</td>\n",
              "      <td>1.000</td>\n",
              "      <td>1.000000</td>\n",
              "    </tr>\n",
              "  </tbody>\n",
              "</table>\n",
              "</div>\n",
              "      <button class=\"colab-df-convert\" onclick=\"convertToInteractive('df-fba277ef-3057-493d-a9d1-0db170777229')\"\n",
              "              title=\"Convert this dataframe to an interactive table.\"\n",
              "              style=\"display:none;\">\n",
              "        \n",
              "  <svg xmlns=\"http://www.w3.org/2000/svg\" height=\"24px\"viewBox=\"0 0 24 24\"\n",
              "       width=\"24px\">\n",
              "    <path d=\"M0 0h24v24H0V0z\" fill=\"none\"/>\n",
              "    <path d=\"M18.56 5.44l.94 2.06.94-2.06 2.06-.94-2.06-.94-.94-2.06-.94 2.06-2.06.94zm-11 1L8.5 8.5l.94-2.06 2.06-.94-2.06-.94L8.5 2.5l-.94 2.06-2.06.94zm10 10l.94 2.06.94-2.06 2.06-.94-2.06-.94-.94-2.06-.94 2.06-2.06.94z\"/><path d=\"M17.41 7.96l-1.37-1.37c-.4-.4-.92-.59-1.43-.59-.52 0-1.04.2-1.43.59L10.3 9.45l-7.72 7.72c-.78.78-.78 2.05 0 2.83L4 21.41c.39.39.9.59 1.41.59.51 0 1.02-.2 1.41-.59l7.78-7.78 2.81-2.81c.8-.78.8-2.07 0-2.86zM5.41 20L4 18.59l7.72-7.72 1.47 1.35L5.41 20z\"/>\n",
              "  </svg>\n",
              "      </button>\n",
              "      \n",
              "  <style>\n",
              "    .colab-df-container {\n",
              "      display:flex;\n",
              "      flex-wrap:wrap;\n",
              "      gap: 12px;\n",
              "    }\n",
              "\n",
              "    .colab-df-convert {\n",
              "      background-color: #E8F0FE;\n",
              "      border: none;\n",
              "      border-radius: 50%;\n",
              "      cursor: pointer;\n",
              "      display: none;\n",
              "      fill: #1967D2;\n",
              "      height: 32px;\n",
              "      padding: 0 0 0 0;\n",
              "      width: 32px;\n",
              "    }\n",
              "\n",
              "    .colab-df-convert:hover {\n",
              "      background-color: #E2EBFA;\n",
              "      box-shadow: 0px 1px 2px rgba(60, 64, 67, 0.3), 0px 1px 3px 1px rgba(60, 64, 67, 0.15);\n",
              "      fill: #174EA6;\n",
              "    }\n",
              "\n",
              "    [theme=dark] .colab-df-convert {\n",
              "      background-color: #3B4455;\n",
              "      fill: #D2E3FC;\n",
              "    }\n",
              "\n",
              "    [theme=dark] .colab-df-convert:hover {\n",
              "      background-color: #434B5C;\n",
              "      box-shadow: 0px 1px 3px 1px rgba(0, 0, 0, 0.15);\n",
              "      filter: drop-shadow(0px 1px 2px rgba(0, 0, 0, 0.3));\n",
              "      fill: #FFFFFF;\n",
              "    }\n",
              "  </style>\n",
              "\n",
              "      <script>\n",
              "        const buttonEl =\n",
              "          document.querySelector('#df-fba277ef-3057-493d-a9d1-0db170777229 button.colab-df-convert');\n",
              "        buttonEl.style.display =\n",
              "          google.colab.kernel.accessAllowed ? 'block' : 'none';\n",
              "\n",
              "        async function convertToInteractive(key) {\n",
              "          const element = document.querySelector('#df-fba277ef-3057-493d-a9d1-0db170777229');\n",
              "          const dataTable =\n",
              "            await google.colab.kernel.invokeFunction('convertToInteractive',\n",
              "                                                     [key], {});\n",
              "          if (!dataTable) return;\n",
              "\n",
              "          const docLinkHtml = 'Like what you see? Visit the ' +\n",
              "            '<a target=\"_blank\" href=https://colab.research.google.com/notebooks/data_table.ipynb>data table notebook</a>'\n",
              "            + ' to learn more about interactive tables.';\n",
              "          element.innerHTML = '';\n",
              "          dataTable['output_type'] = 'display_data';\n",
              "          await google.colab.output.renderOutput(dataTable, element);\n",
              "          const docLink = document.createElement('div');\n",
              "          docLink.innerHTML = docLinkHtml;\n",
              "          element.appendChild(docLink);\n",
              "        }\n",
              "      </script>\n",
              "    </div>\n",
              "  </div>\n",
              "  "
            ],
            "text/plain": [
              "    Temperature     x1        y1\n",
              "0       312.441  0.000  0.000000\n",
              "1       312.364  0.001  0.004454\n",
              "2       312.285  0.002  0.008853\n",
              "3       312.206  0.003  0.013198\n",
              "4       312.129  0.004  0.017490\n",
              "5       311.976  0.006  0.025919\n",
              "6       311.827  0.008  0.034146\n",
              "7       311.680  0.010  0.042179\n",
              "8       310.990  0.020  0.079651\n",
              "9       310.363  0.030  0.113146\n",
              "10      309.793  0.040  0.143255\n",
              "11      308.796  0.060  0.195163\n",
              "12      307.958  0.080  0.238332\n",
              "13      307.246  0.100  0.274827\n",
              "14      305.877  0.150  0.345663\n",
              "15      304.913  0.200  0.397605\n",
              "16      304.210  0.250  0.438133\n",
              "17      303.686  0.300  0.471466\n",
              "18      303.287  0.350  0.500181\n",
              "19      302.981  0.400  0.525974\n",
              "20      302.748  0.450  0.550043\n",
              "21      302.575  0.500  0.573307\n",
              "22      302.454  0.550  0.596534\n",
              "23      302.384  0.600  0.620438\n",
              "24      302.366  0.650  0.645752\n",
              "25      302.407  0.700  0.673312\n",
              "26      302.516  0.750  0.704166\n",
              "27      302.712  0.800  0.739743\n",
              "28      303.022  0.850  0.782152\n",
              "29      303.491  0.900  0.834768\n",
              "30      303.739  0.920  0.859861\n",
              "31      304.032  0.940  0.888040\n",
              "32      304.378  0.960  0.920051\n",
              "33      304.575  0.970  0.937796\n",
              "34      304.791  0.980  0.956904\n",
              "35      305.027  0.990  0.977564\n",
              "36      305.077  0.992  0.981901\n",
              "37      305.128  0.994  0.986311\n",
              "38      305.180  0.996  0.990796\n",
              "39      305.206  0.997  0.993067\n",
              "40      305.233  0.998  0.995358\n",
              "41      305.260  0.999  0.997669\n",
              "42      305.284  1.000  1.000000"
            ]
          },
          "metadata": {},
          "execution_count": 30
        }
      ],
      "metadata": {
        "id": "qwp8dxCFOPVa",
        "colab": {
          "base_uri": "https://localhost:8080/",
          "height": 1000
        },
        "outputId": "c9b881ad-b525-4272-a08f-a8d8a5e54161"
      }
    },
    {
      "cell_type": "markdown",
      "source": [
        "<p align=\"justify\"> A fim de demonstrar o comportamento de destilação da mistura até o ponto azeótopo, desenvolve-se a função de escada. É possível identificar o ponto de concentração inicial da mistura de 0.1 molar de Methanol e o seu comportamento de pureza até o ponto azeótopo de 0.64 molar. </p>"
      ],
      "metadata": {
        "id": "oSK63_9N7nYE"
      }
    },
    {
      "cell_type": "code",
      "execution_count": null,
      "source": [
        "def escada(ax, con, df, iteracoes=10, df_up_label='y1', df_down_label='x1', df_temp_label='Temperature', make_first_trail=True):\r\n",
        "    from scipy.interpolate import CubicSpline as CS\r\n",
        "    from copy import deepcopy as dc\r\n",
        "    \r\n",
        "    upSpline = CS(df[df_up_label], df[df_temp_label])\r\n",
        "    downSpline = CS(df[df_down_label], df[df_temp_label])\r\n",
        "    \r\n",
        "    concentracoes = [con]\r\n",
        "    temperaturas = [upSpline(con)]\r\n",
        "    \r\n",
        "    first = True\r\n",
        "    \r\n",
        "    for _ in range(iteracoes):\r\n",
        "        x1 = con\r\n",
        "        y1 = downSpline(x1)\r\n",
        "        ax.scatter(x1, y1, c='#ff0000', s=15)\r\n",
        "        \r\n",
        "        y2 = y1\r\n",
        "        x2 = upSpline.solve(y2)\r\n",
        "        \r\n",
        "        x2_c = dc(x2)\r\n",
        "        dist = float('+inf')\r\n",
        "        for i, x in enumerate(x2_c):\r\n",
        "            if x < 0:\r\n",
        "                continue\r\n",
        "            if abs(x - x1) < dist:\r\n",
        "                dist = abs(x - x1)\r\n",
        "                x2 = x2_c[i]\r\n",
        "        ax.scatter(x2, y2, c='#ff0000', s=15)\r\n",
        "        \r\n",
        "        ymin_vert = upSpline(x1)\r\n",
        "        if first and make_first_trail:\r\n",
        "            first = False\r\n",
        "            ymin_vert = min(df[df_temp_label]) - 1\r\n",
        "        elif first and not make_first_trail:\r\n",
        "            first = False\r\n",
        "            ymin_vert = downSpline(x1)\r\n",
        "        \r\n",
        "        ax.vlines(x=x1, ymin=ymin_vert, ymax=y2, ls='--', color='#ff0000')\r\n",
        "        ax.hlines(y=y1, xmin=x1, xmax=x2, ls='--', color='#ff0000')\r\n",
        "        \r\n",
        "        concentracoes.append(x2)\r\n",
        "        temperaturas.append(y2)\r\n",
        "        \r\n",
        "        con = x2\r\n",
        "    \r\n",
        "    return upSpline, downSpline, concentracoes, temperaturas"
      ],
      "outputs": [],
      "metadata": {
        "id": "esFG1M63mzSw"
      }
    },
    {
      "cell_type": "markdown",
      "source": [
        "<p align=\"justify\"> Definido os dados e realizada a função de escada da destilação, plota-se o diagrama de fases da mistura. </p>"
      ],
      "metadata": {
        "id": "7suzHn1R8Z8U"
      }
    },
    {
      "cell_type": "code",
      "execution_count": null,
      "source": [
        "# Identificação das colunas do dataframe\r\n",
        "x = misturinha['x1'] \r\n",
        "T = misturinha['Temperature'] \r\n",
        "y = misturinha['y1'] \r\n",
        "\r\n",
        "\r\n",
        "# Plot da Figura \r\n",
        "fig = plt.figure(figsize=(12,8))\r\n",
        "\r\n",
        "\r\n",
        "# Criar primeiro conjunto de dados da mistura em estado liquído\r\n",
        "plt.plot(x, T, linestyle='--', label=\"Dados coletados\", color = 'black', alpha=1) # Colocar a linha do conjunto de dados\r\n",
        "plt.scatter(x, T, color='fuchsia', s=80) # Marcar os pontos determinados do dataframe \r\n",
        "\r\n",
        "# Criar primeiro conjunto de dados da mistura em estado gasoso\r\n",
        "plt.plot(y,T, linestyle='--', label=\"Dados coletados\", color = 'black', alpha=1) # Colocar a linha do conjunto de dados\r\n",
        "plt.scatter(y, T, marker='^', color='lightseagreen', s=80) # Marcar os pontos determinados do dataframe \r\n",
        "\r\n",
        "\r\n",
        "# Criar título central e título dos eixos\r\n",
        "plt.title(\"Diagrama de Fases: Ethyl Acetate + Methanol\")\r\n",
        "plt.xlabel('x,y (Methanol) [mol/mol]')\r\n",
        "plt.ylabel('Temperatura [K]')\r\n",
        "\r\n",
        "# Delimitar o limite dos eixos\r\n",
        "plt.ylim(300, 314)\r\n",
        "plt.xlim(0, 1)\r\n",
        "\r\n",
        "# Colocar um quadrado ao entorno da possível zona azotópica\r\n",
        "ax = plt.gca()\r\n",
        "quadradinho = patches.Rectangle((0.60, 301.8), 0.12, 1.4, linewidth=1,edgecolor='blue', facecolor='none') \r\n",
        "ax.add_patch(quadradinho)\r\n",
        "\r\n",
        "#Marcar por meio de um circúlo (o), o ponto azotópico da mistura\r\n",
        "plt.plot([0.65663, 0.65663], [1, 302.366 ], ls=\"--\", c=\"black\")\r\n",
        "plt.plot(0.65663, 302.366,  \"o\", color = 'black')\r\n",
        "plt.text(0.59, 303.5, \"PONTO AZEÓTOPO\")\r\n",
        "plt.text(0.100, 307.500, \"a1\")\r\n",
        "plt.text(0.274827, 307.500, \"a1'\")\r\n",
        "\r\n",
        "upSpline, downSpline, cons, temps = escada(ax, .1, misturinha, iteracoes=5, make_first_trail= False)\r\n",
        "\r\n",
        "#Legenda do gráfico plotado\r\n",
        "legend_elements = [Line2D([0], [0], marker='o', color='fuchsia', label='Liquído'),\r\n",
        "                   Line2D([0], [0], marker='^', color='lightseagreen', label='Vapor')]\r\n",
        "\r\n",
        "plt.legend(handles=legend_elements)\r\n",
        "\r\n",
        "plt.step(x, y)\r\n",
        "\r\n",
        "# Plotar todo o gráfico com os comandos determinados anteriormente\r\n",
        "plt.show()"
      ],
      "outputs": [
        {
          "output_type": "display_data",
          "data": {
            "image/png": "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",
            "text/plain": [
              "<Figure size 1200x800 with 1 Axes>"
            ]
          },
          "metadata": {}
        }
      ],
      "metadata": {
        "id": "SgnchIG-Okoz",
        "colab": {
          "base_uri": "https://localhost:8080/",
          "height": 718
        },
        "outputId": "ad96d82c-85b1-4eb4-f403-4f7057b26b5b"
      }
    },
    {
      "cell_type": "markdown",
      "source": [
        "<h4 p align=\"justify\"> ANÁLISE DO DIAGRAMA DE FASES </p> </h4>\r\n",
        "\r\n",
        "<p align= \"justify\"> Os diagramas de fases de Temperatura [K] x Fração Molar [mol] são ótimos para a identificação de destilação de substâncias, devido a ideia geral do diagrama consistir na variação do ponto de ebulição da\r\n",
        "mistura a cada composição molar e de  temperatura. Os pontos em rosa representam o estado líquido da mistura e os azuis o estado de vapor, afim de compreender melhor a destilação usa-se da ideia de \"Linhas de Amarração\" - as linhas vermelhas tracejadas no gráfico; responsáveis para a determinação da composição do líquido e do vapor em equilíbrio para uma determinada concentração de temperatura. </p>\r\n",
        "<p align=\"justify\"> Exemplificando a situação, temos que a mistura líquida atinge a temperatura de 307K, correspondente ao ponto a1, quando se inicia a sua ebulição, por sua vez, ao analisarmos a linha de amarração sabemos que o vapor em equilíbrio tem composição a1´. O vapor gerado irá para uma região de temperatura mais fria, aproximadamente 304L, repetindo o processo, de forma a purificar a amostra até chegar no ponto máximo da destilação: o ponto azeótopo, um ponto em que há uma interseção entre os valores de vapor e líquido, sendo esse, o ponto azeótopo que corresponde a uma fração molar de 0. 641121 Methanol. </p>"
      ],
      "metadata": {
        "id": "gaILvSbA8jGx"
      }
    },
    {
      "cell_type": "markdown",
      "source": [
        "<h2 p align=\"justify\"> <b> VOLUME DA MISTURA </b> </p> </h4>\r\n"
      ],
      "metadata": {
        "id": "aUlrIXvkRiRx"
      }
    },
    {
      "cell_type": "markdown",
      "source": [
        "\r\n",
        "<p align= \"justify\"> Para começar a definir os parâmetros de funcionamento da nossa Termoelétrica e a separação dos combustíveis, definiu-se a massa da mistura, a qual possui o valor de 1 tonelada da mistura combustível. Com base nisso, inicia-se uma discussão acerca das propriedades da mistura, e a dinâmica delas com o Ciclo de Rankine. </p> \r\n",
        "\r\n",
        "<p align= \"justify\"> No que diz respeito aos primeiros passos para tratar a mistura, consideramos as propriedades individuais de cada substância, analisando seus volumes, molaridades e pressões para construir, desta forma, a dinâmica de nossa mistura combustível.</p>\r\n",
        "\r\n",
        "<p align= \"justify\"> Sendo assim, iniciamos nosso estudo com uma discussão acerca da definição das propriedades fundamentais dos gases, afim de obter o volume de cada componente na mistura de substâncias. Para isso, entende-se, primeiramente, que as propridades fundamentais são descritas por representações matemáticas, desta forma, podemos definir o volume como uma função $V(u, S, n_{1}, n_{2}, ... n_{n})$, onde $u$ representa energia, $S$ a entropia do sistema e $n_{n}$, o número de partículas referente a cada substância. No entanto, nesta função do volume, as variaveis se tratam de parâmetros extensivos, dificeis de serem controlados. Convém, portanto, buscar formas de trabalhar com parâmetros que possamos regular para o melhor funcionamento da termoelética.</p>\r\n",
        "\r\n",
        "<p align= \"justify\"> Entretanto, por propriedades matemáticas, a <i>Transformação de Legendre</i> permite substituir os parâmetros extensivos da função por variaveis intensivas. Desta forma, ao aplicar a transformada na função volume, o que se obtém é uma representação dos parâmetros extencivo em conceitos deriváveis, tal que\r\n",
        "</p>\r\n",
        "\r\n",
        "<p align=\"center\"> $dv = u\\ d \\left(\\frac{δV}{δu} \\right) + S\\ d(\\frac{δV}{δS}) + \\sum_{j=1}^{N} \\left(\\frac{δV}{δn_{j}}\\right) dn_{j}$. </p>\r\n",
        "\r\n",
        "<p align=\"justify\"> Sabe-se, porém que os valores das derivadas $\\frac{δv}{δu}=\\frac{-1}{P}$ e $\\frac{δv}{δS}=\\frac{T}{P}$ (onde $T$ corresponde à temperatura, e $P$ corresponde à pressão do sistema), neste caso, vale lembrar que, por hora, trabalhamos com valores de temperatura e pressão constante, portanto esta variação é nula. Assim, pode-se reescrever a equação do volume para o presente sistema de duas substâncias de forma que </p>\r\n",
        "\r\n",
        "<p align=\"center\"> $dv = \\left (\\frac{δV}{δn_{1}}\\right) dn_{1} + \\left (\\frac{δV}{δn_{2}}\\right ) dn_{2}$ </p>\r\n",
        "\r\n",
        "<p align=\"justify\"> Nesta transformação, contudo, podemos representar as derivadas dos parâmetros extensivos como valores parciais de volume, portanto\r\n",
        "\r\n",
        "<p align=\"center\"> $V =\\overset{-}V_{1} n_{1} + \\overset{-}V_{2} n_{2}$ </p>\r\n",
        "\r\n",
        "<p align=\"justify\"> Temos, desta forma, determinado o volume da mistura baseado no número de partículas de cada composto presentes no sistema. De forma análoga, pode-se obter o volume relativo a cada mol da mistura, considerando as frações molares dos compostos $x_{1}$ e $x_{2}$. Assim, entende-se que o volume por mol da mistura é dado pela soma dos volumes parciais de cada composto, vezes as respectivas frações molares: </p>\r\n",
        "\r\n",
        "<p align=\"center\"> $V_{M} =\\overset{-}V_{1} x_{1} + \\overset{-}V_{2} x_{2}$. </p>\r\n",
        "\r\n",
        "<p align=\"justify\"> Como conhecemos a densidade da mistura em parâmetros pré-estabelecidos, podemos relacioná-la com com o volume parcial molar dos compostos, de forma que</p>\r\n",
        "\r\n",
        "<p align=\"center\"> $ρ_{mistura} = \\frac{M_{1}}{\\overset{-}V_{1} (x_{1})}$</p>  \r\n",
        "<p align=\"center\"> $ρ_{mistura} = \\frac{M_{2}}{\\overset{-}V_{2} (x_{1})}$</p>\r\n",
        "\r\n",
        "<p align=\"justify\"> assim, se isolarmos os volumes parciais em cada caso, teremos que o volume total por mols será a soma das massas molares vezes a fração molar, dividido pela densidade referente a $x_{1}$:</p>\r\n",
        "\r\n",
        "<p align=\"center\"> $V_{M} = \\frac{M_{1} x_{1} + M_{2}(1 - x_{1})}{ρ_{mistura}}$</p>\r\n",
        "\r\n",
        "<p align=\"justify\"> Conhecendo este valor, podemos determinar o volume total de mistura calculando o número de mols presentes na massa de combustível. Para isso determina-se primeiro a massa molar da mistura, baseada na fração molar, já citada, de cada composto:\r\n",
        "\r\n",
        "<p align=\"center\"> $M_{mistura} = \\sum\\limits_{i=1}^{\\mbox{n}}x_{i}M_{i}$ </p>\r\n",
        "\r\n",
        "<p align=\"justify\"> onde $n$ corresponde ao número de compostos na mistura, $x$, a fração molar de cada composto na mistura e $M$, a massa molar de cada composto. Assim, tendo a massa molar da mistura, basta calcular o número de mols dado por:\r\n",
        "</p>\r\n",
        "\r\n",
        "<p align=\"center\"> $n_{mistura} = \\frac{m_{total}}{M_{mistura}}$ </p>\r\n",
        "\r\n",
        "<p align=\"justify\"> Desta forma, chegamos ao volume final da mistura combustível, a partir da fração molar de cada componente, determinada pelo diagrama de fases. </p>"
      ],
      "metadata": {
        "id": "8OLRZnQZfl3G"
      }
    },
    {
      "cell_type": "code",
      "execution_count": null,
      "source": [
        "# VALORES CONSTANTES DO PROBLEMA\r\n",
        "\r\n",
        "X1 = 0.641121\r\n",
        "DENSIDADE = 0.83730 # g/cm3\r\n",
        "MASSA_METANOL = 32.042 # g\r\n",
        "MASSA_ETIL = 88.106 # g\r\n",
        "MASSA_MISTURA = 1000000 # g\r\n",
        "\r\n",
        "# FUNÇÕES \r\n",
        "\r\n",
        "def molaridade_mistura(x1, M1, M2, massa_mistura):\r\n",
        "    \"\"\" \r\n",
        "    Calcula massa molar e número de mol da mistura\r\n",
        "\r\n",
        "      args: \r\n",
        "        x1: fração molar do composto 1\r\n",
        "        M1: massa molar do composto 1\r\n",
        "        M2: massa molar do composto 2\r\n",
        "        massa_mistura: massa total da mistura\r\n",
        "\r\n",
        "      return:\r\n",
        "        número de mols da mistura \r\n",
        "  \"\"\"\r\n",
        "\r\n",
        "    massa_molar = (x1*M1) + ((1-x1)*M2)\r\n",
        "\r\n",
        "    num_mols = massa_mistura/massa_molar\r\n",
        "\r\n",
        "    return num_mols, massa_molar \r\n",
        "\r\n",
        "\r\n",
        "def volume_parcial(M1, M2, x1, densidade):\r\n",
        "    \"\"\" \r\n",
        "    calcula o volume da mistura a partir da massa e densidade \r\n",
        "\r\n",
        "      Args: \r\n",
        "        M1: massa molar da primeira substância \r\n",
        "        M2: massa molar da segunda substância\r\n",
        "        x1: proporção da mistura em relação a primeira substância\r\n",
        "        densidade: densidade relativa da mistura \r\n",
        "\r\n",
        "      Returns: \r\n",
        "        volume da mistura \r\n",
        "  \"\"\"\r\n",
        "    a = M1 * x1\r\n",
        "    b = M2 * (1 - x1)\r\n",
        "\r\n",
        "    volume = (a + b)/densidade \r\n",
        "\r\n",
        "    return volume\r\n",
        "\r\n",
        "\r\n",
        "def volume_total(volume_parcial, num_mols):\r\n",
        "    \"\"\"\r\n",
        "    calcula o volume total da mistura a partir do volume por mol\r\n",
        "\r\n",
        "  \"\"\"\r\n",
        "\r\n",
        "    volume = volume_parcial * num_mols\r\n",
        "\r\n",
        "    return volume\r\n",
        "\r\n",
        "# VALORES OBTIDOS \r\n",
        "\r\n",
        "VOLUME_POR_MOL = volume_parcial(MASSA_METANOL, MASSA_ETIL, X1, DENSIDADE)\r\n",
        "\r\n",
        "NUMERO_DE_MOLS = molaridade_mistura(X1, MASSA_METANOL, MASSA_ETIL, MASSA_MISTURA)[0]\r\n",
        "\r\n",
        "VOLUME_TOTAL = volume_total(VOLUME_POR_MOL, NUMERO_DE_MOLS)\r\n",
        "\r\n",
        "MASSA_MOLAR = molaridade_mistura(X1, MASSA_METANOL, MASSA_ETIL, MASSA_MISTURA)[1]\r\n",
        "\r\n",
        "\r\n",
        "print(\"A massa molar da mistura é\", MASSA_MOLAR, \"g/mol.\")\r\n",
        "\r\n",
        "print(\"O número de mols da mistura é\", NUMERO_DE_MOLS, \".\")\r\n",
        "\r\n",
        "print(\"O volume por mol da mistura é, portanto,\", VOLUME_POR_MOL,\"cm3/mol.\")\r\n",
        "\r\n",
        "print(\"O volume total da mistura é\", VOLUME_TOTAL, \"cm3, ou \",VOLUME_TOTAL/1000, \"litros.\")"
      ],
      "outputs": [
        {
          "output_type": "stream",
          "name": "stdout",
          "text": [
            "A massa molar da mistura é 52.162192256 g/mol.\n",
            "O número de mols da mistura é 19170.973395677676 .\n",
            "O volume por mol da mistura é, portanto, 62.29809179027827 cm3/mol.\n",
            "O volume total da mistura é 1194315.0603129107 cm3. Em litros esse valor é 1194.3150603129106 L.\n"
          ]
        }
      ],
      "metadata": {
        "colab": {
          "base_uri": "https://localhost:8080/"
        },
        "id": "AbRmHQtaK1mu",
        "outputId": "a19b4dc9-5656-4f42-9a33-89739ee204de"
      }
    },
    {
      "cell_type": "markdown",
      "source": [
        "<h2 p align=\"justify\"> <b> A PRESSÃO DE VALOR DOS COMPOSTOS </b> </p> </h4>\n",
        "\n",
        "<p align=\"justify\"> Nos estudos, não foi possível a determinação de um diagrama de vaporização da mistura real, desse modo, para o cálculo de pressão de valor dos compostos é necessário se considerar uma mistura em um estado ideal, desse modo, utiliza-se da Lei de Raoult. Essa lei diz respeito a determinação da pressão máxima de vapor de uma solução multiplicando a fração molar do solvente com a pressão máxima de vapor do solvente puro. Em termos matemáticos, a fórmula pode ser descrita da seguinte forma:  </p>\n",
        "\n",
        "<p align=\"center\">  $P_1 = X_1 . P^*_1 $. </p>\n",
        "\n",
        "<p align=\"justify\">  Em que $P_1$  diz respeito a pressão do solvente na solução, $X_1$ é referente a pressão molar do solvente na solução e por fim, $P^*_1 $, diz respeito a pressão do solvente na solução pura. </p>\n",
        "\n",
        "<p align=\"justify\">  Como temos uma mistura binária, devemos realizar o cálculo de $P_1$ para o caso do Methanol e o caso do Ethyl Acetate e por fim, realizar a somatória da pressão de cada mistura, a fim de se obter a pressão total do valor dos compostos. Para a realização dos cálculos, desenvolve-se a função:</p>\n"
      ],
      "metadata": {
        "id": "UTJGvsO4ShLw"
      }
    },
    {
      "cell_type": "code",
      "execution_count": null,
      "source": [
        "def raoult_law(x1,p1):\r\n",
        "  ''' \r\n",
        "  Determina-se a pressão do solvente na solução binária por meio da Lei de Raoult.\r\n",
        "  Args: \r\n",
        "    X1: Fração Molar do solvente.\r\n",
        "    p1: Pressão do solvente da solução pura.\r\n",
        "\r\n",
        "  Return:\r\n",
        "    Lei de Raoult \r\n",
        "  '''\r\n",
        "  P_1 = x1 * p1\r\n",
        "  return P_1"
      ],
      "outputs": [],
      "metadata": {
        "id": "tzuuHmaHlys5"
      }
    },
    {
      "cell_type": "markdown",
      "source": [
        "<p align=\"justify\"> A fim de determinar  a pressão molar do solvente na solução pura, utiliza-se do database <a href=\"http://azeotrope.info/\"> Azeotrope</a>. Neste database, é possível obter informações de misturas azeótropicas a partir da determinação do tipo de gráfico e pressão utilizada. Na Figura 1, apresentou-se as condições azeotrópicas da mistura, assim, utilizou-se como fração molar do Methanol e do Ethyl Acetate, respectivamente, os valores de 0.641121 mol e 0.358879 mol. As respectivas pressões do solvente puro são de 21.0317 kPa e 15.4404 kPa. Obtida as informações, realiza-se os cálculos de pressão.</p>"
      ],
      "metadata": {
        "id": "n_D3BMWrlzWS"
      }
    },
    {
      "cell_type": "markdown",
      "source": [
        "<h4 p align=\"justify\">  VAMOS CALCULAR? </p>\n",
        "<h4 p align=\"justify\">  PRESSÃO DO METHANOL </p>"
      ],
      "metadata": {
        "id": "F1V-uNI_l5Hh"
      }
    },
    {
      "cell_type": "code",
      "execution_count": null,
      "source": [
        "# Constantes\r\n",
        "x1 = 0.641121 # fração molar\r\n",
        "p1 = 21.0317  # pressão molar do solvente na solução pura #kPa\r\n",
        "print(\"A pressão do composto Methanol da mistura é de\", raoult_law(x1,p1), \"kPa.\")"
      ],
      "outputs": [
        {
          "output_type": "stream",
          "name": "stdout",
          "text": [
            "A pressão do composto Methanol da mistura é de 13.483864535700002 kPa.\n"
          ]
        }
      ],
      "metadata": {
        "id": "3Kg2xtDL-xo6",
        "colab": {
          "base_uri": "https://localhost:8080/"
        },
        "outputId": "e634799c-0460-455e-ee6a-458bfb6e83fe"
      }
    },
    {
      "cell_type": "markdown",
      "source": [
        "\n",
        "<h4 p align=\"justify\"> PRESSÃO DO ETHYL ACETATE </p>\n"
      ],
      "metadata": {
        "id": "Lwppj37cl8I6"
      }
    },
    {
      "cell_type": "code",
      "execution_count": null,
      "source": [
        "# Constantes\r\n",
        "x2 = 0.358879\t# fração molar\r\n",
        "p2 = 15.4404\t#pressão molar do solvente na solução pura #kPA\r\n",
        "print(\"A pressão do composto Ethyl Acetate da mistura é de\", raoult_law(x2,p2),\"kPa.\")"
      ],
      "outputs": [
        {
          "output_type": "stream",
          "name": "stdout",
          "text": [
            "A pressão do composto Ethyl Acetate da mistura é de 5.5412353116 kPa.\n"
          ]
        }
      ],
      "metadata": {
        "id": "DgOHBuBql-J_",
        "colab": {
          "base_uri": "https://localhost:8080/"
        },
        "outputId": "526a4d00-118d-40ec-e9b8-bb1593c5a7ee"
      }
>>>>>>> 3482f7b023946d3d861e0df44b2917cf181d27e5
    },
    "id": "SgnchIG-Okoz",
    "outputId": "ad96d82c-85b1-4eb4-f403-4f7057b26b5b"
   },
   "outputs": [
    {
     "data": {
      "image/png": "iVBORw0KGgoAAAANSUhEUgAAAtsAAAHwCAYAAAB386PAAAAAOXRFWHRTb2Z0d2FyZQBNYXRwbG90bGliIHZlcnNpb24zLjYuMiwgaHR0cHM6Ly9tYXRwbG90bGliLm9yZy8o6BhiAAAACXBIWXMAAAsTAAALEwEAmpwYAAChwUlEQVR4nOzde3zO5R/H8de1A9vM+TSnEJJDzsqh5FCOqUSkcuog5FBIDik5VhIlOqfIL4dEByQySc4KIXI+z/mw2Wa2Xb8/vvdm2GbYdu/wfvb4Pu7d3+/1/X4/9z1rn13357ouY61FRERERESSn4e7AxARERERyaiUbIuIiIiIpBAl2yIiIiIiKUTJtoiIiIhIClGyLSIiIiKSQpRsi4iIiIikECXbIpmMMeZjY8xQd8eR0owx9Y0xh9wdR1pxK++HMWaYMeab5I5JEmeM2WeMeSCz3Fcko1KyLZKBuH5Jhhljgo0xZ40xK40x3YwxsT/r1tpu1toR7owzrTPGfGWMiTDGhMTZ2rk7rrhcCfClq2I8G+e4NcaUTsV4Shpjoo0xHyXT9TobY1bcQPsSrtfslRz3v4H71nfdd+5V+yu79i9L4nW+MsaMTJEgRcStlGyLZDwtrbXZgeLAW8CrwBcpfdPUTnJSwTvWWv8420x3BxSPmVfFmMuNsXQEzgDtjDFZ3RhHsjDGLDPG1E9i8xNAbWNM3jj7OgH/JXdcIpL+KNkWyaCsteestT8C7YBOxpiKcGUPmjEmtzHmZ2PMCWPMGdfXRWOu4eqtXO7qKV9ijJkUU04QpyfxWWPMAWCpa/9sY0yQMeac69wKca73lTFmsjFmoasn9k9jTIAxZoLr/tuNMVXjtB9ojNntuv82Y0yrhF6vMcbXdf0zxphtQM2rjhc2xsxxvda9xpjeN/qeGmPeN8YcNMacN8ZsMMbcF+fY3caY9a5jx4wx78U5Vsv1KcNZY8ymuEmcqwd3j+s17jXGPHWjccUT53LXl5uu7pU3xvQzxhw3xhw1xnRx7avpitkzTrvHjDGbkng/g5NsvwZcAlpedfwRY8xG13uz2xjT1LU/pzHmC1csh40xI40xnsaYcsDHOAlsbI+9MaaFMeZv13UOGmOGxblNzGs+6zqntuucZ4wx/7r+XSwyxhRP4tt4IyKAecATrnt64vzcTb/qfbjTGLPYGHPaGLPDGNPWtb8r8BQwwBX7T3FOq2KM2ez6eZppjPFxnXO9n91lxpgRrp+xYGPMr8aYfHGOP2yM2er6N7nM9Z6LSApQsi2SwVlr1wKHgPviOewBTMHpBb8NCAM+jHP8f8BaIC8wDOgQzzXuB8oBTVzPFwJlgALAX1yVcABtcZKyfMBFYJWrXT7gO+C9OG13u+LOCbwJfGOMKZTAS30DKOXamuD0LAJgnDKan4BNQBGgEfCSMaZJPNdJzDqgCpAH572ZHZP8AO8D71trc7himOW6dxFgPjDSdV5/YI4xJr8xJhvwAdDM9WlEHWCj67zbXInQbTcYI9baeq4vK1/VKx+A814WAZ4FJhljcltr1wGngMZxLtMBmJrEW94LFAVmuF533Pf+btd1XgFyAfWAfa7DXwGRQGmgquv+z1lr/wW6Aauu6rG/gJPU5wJaAN2NMY+6jsW85lyuc1YZYx4BBgOPAfmBP4Bvk/iabtRUV2zg/PvbAhyJOej6Xi/G+XdTACcxn2yMKW+t/RTn5yTm05S4f6y0BZoCJYFKQGfX/uv97AI8CXRx3S8Lzr89jDF34LwPL+G8LwuAn4wxWW7lDRCR+CnZFskcjuAkelew1p6y1s6x1oZaa4OBUTjJM64krybwurU2wlq7AvgxnmsPs9ZesNaGua75pbU22Fp7ESdBr2yMyRmn/Vxr7QZrbTgwFwi31k611kYBM3GSrpj4Zltrj1hro10J407g7gReY1tglLX2tLX2IE4SG6MmkN9aO9z1WvYAn+HqiUxAf1eye9YYc9IVzzeu9yzSWjsOyAqUdbW/BJQ2xuSz1oZYa1e79j8NLLDWLnC9jsXAeqC563g0UNEY42utPWqt3eq61wFrbS5r7YFEYmwbJ8azxpjARNrGxDjcWnvJWrsACIkT/9euWDHG5MFJGP93nevF6AQstNaecZ3T1BhTwHXsWeBLa+1i1+s/bK3dbowp6HoPXnL9+zkOjCeR74m1dpm19h/XdTbjJIz3JxJXN2CMtfZfa20kMBqnpzjZe7ettSuBPMaYsjhJ99V/qDwE7LPWTnH9+/kbmAM8fp1Lf+D6GTiN8wdjFdf9EvzZjWOKtfY/18/mrJhzcXrd57u+J5eAdwFfnD/2RCSZKdkWyRyKAKev3mmM8TPGfGKM2W+MOY/zUXwu18fghYHT1trQOKccjOfasftcJQBvuUoFznO5BzNfnPbH4nwdFs9z/zjX6+gqPzjrKiWoeNW14ip8VXz743xdHCgcNzHF6fEsmMC1AN51Jbu5rLX5XPH0d5UknHNdI2eceJ4F7gC2G2PWGWMeinPvx6+6971AIWvtBZzEpxtw1Bgz3xhzZyIxXW1WnBhzWWsbXKf9KVfSGSOUy+/3N0BLVw9sW+APa+3R6wVgjPHFSRinA1hrVwEHcHpVAYrhfEJxteKAN87rjnlfPsHphU3oXvcYYwJdpRPncN63hP49xNzj/TjXPw0YnJ+H+K5/9ffo5zj7BiZynxjTgJ5AA5w/JK+O5Z6r7vEUzqcNiQmK83Xs9+s6P7uJnovzsxL782Gtjcb52Yn3fRGRW5PRBjSJyFWMMTVxfonGN7NDP5yezXustUHGmCrA3zgJyVGcnjq/OAl3sXiuYeN8/STwCPAATqKdE2fQnLmJuIvj9D43wikniDLGbEzkWkdd8W11PY9bfnEQ2GutLXOjccSJ5z5ggCuerdbaaGNM7Guz1u4E2rtKVh4DvjPOgLmDwDRr7fPxXddauwhY5EpaR7pec3wlPynKWnvYGLMKJ/YOQFJnFWkF5MApiZjo2pcLp7d7As7rLxXPeQdxyojyXfUHQGxI8ez7H06pRDNrbbgxZgKXk+342h/E+bTj6lKmeMUdYGqcWUSGWWuXJeVcl2nALmCqtTbUmCv+qR4EfrfWPpjQ7W/gPpD4z+71HAHuinlinECLAYdvMAYRSQL1bItkUMaYHK7e1RnAN9baf+Jplh2nN/msq3TgjZgD1tr9OOUOw4wxWYwz4KxlPNe4+noXcep//XA+tr9Z2XASkBOu19MFp2c7IbOAQcYZOFYU6BXn2Fog2BjzqnEGUnoaYyq6/hBJquw49cUnAC9jzOs4SSau+J42xuR39RKede2O5nKPcRPXfX2MM11cUWNMQeMMHsyG876FuM5JDseA22/wnKk4f1DcBXyfxHM6AV+6zqni2urilA/dhTMTThdjTCNjjIcxpogx5k5Xr/mvwDjXv1UPY0wpY0xMKcQxoOhVdcTZcT5tCTdOLfiTcY6dwHnv4r7mj3H+TVSA2AGZ1yvbuGnW2r04pRxD4jn8M3CHMaaDMcbbtdU0lwcm3uj3K8Gf3SSYBbRwfU+8cRL3i8DKG7iGiCSRkm2RjOcnY0wwTk/aEJwBh10SaDsBp1bzJLAa+OWq408BtXGS55E4NdUXE7n3VJyPpw8D21zXvCnW2m3AOJwBlMdwkrk/EznlTde99+IkcdPiXCsKp2a2iuv4SeBznJ73pFqE8/7857pPOFeWrTQFthpjQnAGSz5hrQ1z1Y/HDNQ74TrnFZz//3oAfXF6Gk/jJGrdIXaAZIhJfIBkO3PlPNsh5nKt9DDga1fJQtskvsa5OOUOc68qH4qXcQZ/NgImWGuD4mwbcN6rTtYZoNsFpx77HPC76x7g1DZnwfm3cgZngGzMANilOJ9SBBlXzTzQAxju+vf9Oq5BqACueEcBf7pecy1r7VzgbWCGq9RiC9Asie/FTbHWrrDWHolnfzDOANAncL7fQa7YYqZJ/AIo74p9XhJuNYHEf3YTi3EHTn3+RNf5LXGmDI1I6jVEJOmMtTf6yZWIZFbGmJnAdmvtjfSiSTpijNkNvGCtXeLuWEREMgL1bItIglwfc5dyfcTfFKeHdp6bw5IUYoxpjVO6s9TdsYiIZBQplmy76hLXGmcBh63GmDdd+3saY3YZZzGMa0aRu365Rxpj2qRUbCKSZAHAMpxa4g+A7q4pyySDcQ0I/Ah40VV3LiIiySDFykhco5uzWWtDXAMwVgB9cOo9z+D8Aq9hrT0Z5xxPnEn/w3HmZf0uRYITEREREUkFKTb1n3Wy+BDXU2/XZmN6xa6aEilGL5xJ/m9khgARERERkTQpRWu2XdNcbQSOA4uttWsSaVsEZ77WpM7tKiIiIiKSpqXoojau6baqGGNyAXONMRWttVsSaD4BeNW1UESC1zTGdAW6AmTLlq36nXfeyGJrIiIiIiI3bsOGDSettflv9LxUm/rPtQBEqLX2XdfzfcSp2TbG7OXyylf5cJaW7WqtnZfQNWvUqGHXr1+fkmGLiIiIiGCM2WCtrXGj56VYz7YxJj9wyVp71rUM8YM4E/jHy1pbMs65XwE/J5Zoi4iIiIikdSlZs10ICDTGbAbW4dRs/2yM6W2MOQQUBTYbYz5PwRhERERERNwmJWcj2QxUjWf/Bzjz9SZ2bucUCktEREREJNWk6ABJEREREUlbLl26xKFDhwgPD3d3KGmSj48PRYsWxdvbO1mup2RbREREJBM5dOgQ2bNnp0SJEgmte5JpWWs5deoUhw4domTJktc/IQlSdJ5tEREREUlbwsPDyZs3rxLteBhjyJs3b7L2+ivZFhEREclklGgnLLnfGyXbIiIiIpIhTJw4kZCQEHeHcQUl2yIiIiKSqvz9/a/Z9/HHHzN16tSbvubHH3/MhQsXrrn2sGHDePfdd2/6urdKAyRFREREJGHTgSHAAeA2YBTwVPLfplu3bjd9bnR0NFmyZGHgwIHJGFHyUM+2iIiIiMRvOtAV2A9Y12NX1/5kFrcHesOGDVSuXJnKlSvzyiuvULFiRQC++uorevbsGXvOQw89xLJly/Dw8GD48OGcPHkSgFGjRnHHHXdw7733smPHjtj2GzdupFatWlSqVIlWrVpx5syZ5H8hV1GyLSIiIpJZvQTUT2R7Fgi96pxQ1/6Eznnp1sPq0qULEydOZNOmTTd87oYNG5gxYwYbN25kwYIFrFu3LvZYx44defvtt9m8eTN33XUXb7755q0Hex1KtkVEREQkfhdvcH8yOHv2LGfPnqVevXoAdOjQ4YbO/+OPP2jVqhV+fn7kyJGDhx9+GIBz585x9uxZ7r//fgA6derE8uXLkzf4eKhmW0RERCSzmnCd4yVwSkeuVhxYlsyxJIGXlxfR0dGxz9PDKpjq2RYRERGR+I0C/K7a5+fan0Jy5cpFrly5WLFiBQDTp18uEC9RogQbN24kOjqagwcPsnbt2mvOr1evHvPmzSMsLIzg4GB++uknAHLmzEnu3Ln5448/AJg2bVpsL3dKUs+2iIiIiMQvZtaRZJ6NJDQ0lKJFi8Y+79u37xXHp0yZwjPPPIMxhsaNG8fur1u3LiVLlqR8+fKUK1eOatWqXXPtatWq0a5dOypXrkyBAgWoWbNm7LGvv/6abt26ERoayu23386UKVNu7YUkgbHWpvhNUkqNGjXs+vXr3R2GiIiISLrx77//Uq5cOXeHkWT79u3joYceYsuWLal2z/jeI2PMBmttjRu9lspIRERERERSiJJtEREREUmzSpQokaq92slNybaIiIiISApRsi0iIiIikkKUbIuIiIiIpBAl2yIiIiIiKUTJtoiIiIikqgYNGrBo0aIr9k2YMIHu3bu7KaKUo2RbRERERBJ1PDyMdn8GciKZlkdv3749M2bMuGLfjBkzaN++fbJcP67IyMhkv+aNULItIiIiIoma+N821p0+yQf/bUuW67Vp04b58+cTEREBOAvXHDlyhG+//ZYaNWpQoUIF3njjjdj2JUqUYMCAAdx1113cfffd7Nq1K/a8hg0bUqlSJRo1asSBAwcA6Ny5M926deOee+5hwIAByRLzzdJy7SIiIiKZ1PAtG9l2/myibSKio9h45jQWmL5/N1vPnyWLR8L9teVz5OL1ilUSvWaePHm4++67WbhwIY888ggzZsygbdu2DB48mDx58hAVFUWjRo3YvHkzlSpVAiBnzpz8888/TJ06lZdeeomff/6ZXr160alTJzp16sSXX35J7969mTdvHgCHDh1i5cqVeHp63sA7kvzUsy0iIiIiCTocGnrV8wvJct24pSQxJSSzZs2iWrVqVK1ala1bt7Jt27Yr2sc8rlq1CoBVq1bx5JNPAtChQwdWrFgR2/7xxx93e6IN6tkWERERybSu1wN9PDyMer8twLqeW+D8pUtMrFaL/D4+t3TvRx55hJdffpm//vqL0NBQ8uTJw7vvvsu6devInTs3nTt3JjxOjbgxJt6vE5ItW7Zbii+5qGdbREREROI18b9tRNsr90VZmyy12/7+/jRo0IBnnnmG9u3bc/78ebJly0bOnDk5duwYCxcuvKL9zJkzYx9r164NQJ06dWJ7x6dPn8599913y3ElN/Vsi4iIiEi8/jpzmks2+op9l2w0f505lSzXb9++Pa1atWLGjBnceeedVK1alTvvvJNixYpRt27dK9qeOXOGSpUqkTVrVr799lsAJk6cSJcuXRg7diz58+dnypQpyRJXcjLW2uu3SqNq1Khh169f7+4wRERERNKNf//9l3Llyrk7jBtSokQJ1q9fT758+VLlfvG9R8aYDdbaGjd6LZWRiIiIiIikEJWRiIiIiEiatm/fPneHcNPUsy0iIiKSyaTnMuKUltzvjZJtERERkUzEx8eHU6dOKeGOh7WWU6dO4XOL0xrGpTISERERkUykaNGiHDp0iBMnTrg7lDTJx8eHokWLJtv1lGyLiIiIZCLe3t6ULFnS3WFkGiojERERERFJIUq2RURERERSiJJtEREREZEUkq6T7fMnLmGnWgh2dyQiIiIiItdK18n2/iwhBH4WBAWBMYBmsBERERGRNCRdJ9sAo9tvwoZZGAm85e5oREREREQuS/fJ9tF8oSytcZRFlQ5jR1oIcXdEIiIiIiKO9J1sR0UT6hvFa93/otvglQRWCoLv3R2UiIiIiIgjXSfbEfv2c3LSpwTldEZIju6wiehvo1l09LCWIBURERERt0vXyTbWErJoCUffGEHU2XMczRfK+7n/pdv6lQQeD3J3dCIiIiKSyZn03ANsPDysT6WKXPx3Ox45clDgtVfxL1aSS96WUtmys7hBE4wx7g5TRERERNI5Y8wGa22NGz0vXfdsG19fIo+fIODtEQCc+Xo6l7ycPx6Ohoey9NhRlZSIiIiIiNuk655tr/z5bNTJUxT59ENMFm+MhweeuXISffEiJksWCvn4EXQxjC/uvpeGBQu5O1wRERERSacyZc+2p68fPndVIDo0FK88ufHMlRMbFcXxke9wcsIkgkLOAzB66yaiozVwUkRERERSV7pOtsnqTcCoN8h6e4nL+zw88KlQjguByzk6dARR585zNDyU93dq4KSIiIiIpK70nWxb8IiC6PMXsJHRABhjyPVEG/K/8hIRu3ZztN8gzu7Zy0c7/wWcXm71bouIiIhIakjXyXbAaV9avBfMgY7PcnHXriuOZbuvDgGj38ReusSJdyYQERUFOAMn1bstIiIiIqkhXSfb+c/40PhsHcASvu5vPKLARAGujuusd5Sm0Lgx5H/lJYyHBzY6mguRkerdFhEREZFUkWLJtjHGxxiz1hizyRiz1Rjzpmt/T2PMLmOMNcbki9P+KWPMZmPMP8aYlcaYykm5T8WTRSmZqzI5l/xHv+kVabWsON6Rl1+WV768ZClxGwCnv/iaU5M+4UjwudjebWutBk6KiIiISIpIyZ7ti0BDa21loArQ1BhTC/gTeADYf1X7vcD91tq7gBHAp0m5SYmj/nQ+3YoDZ7bw+Hf52HjHaS55R1/TzlqLh68vIb8uZe/QEby5agXWWgKPB2ngpIiIiIikiBRLtq0jxPXU27VZa+3f1tp98bRfaa0943q6Giia1Hs1pSkWywfFZ7O3SDAeUc7ASROns9oYQ+6nnyDfyz0J/3cHq1/sw9SVKxi1dROggZMiIiIikvy8UvLixhhPYANQGphkrV2TxFOfBRYm9T7Vqc77vE+10PoU+sZZnt1i+fKRnZzOGXFFW/8G9fAqWIDjo8fS9dFW3P7Zh+DpGTtwUovfiIiIiEhySZUVJI0xuYC5QC9r7RbXvn1ADWvtyavaNgAmA/daa0/Fc62uQFeA27it+v5rqlEcv1cNossbf2AMYK49HhF0nIjDh/GrXjV2X6ls2VncoAkAvwYdoXFAYYyJ52QRERERyVRudgXJFO3ZjmGtPWuMCQSaAlsSameMqQR8DjSLL9F2XetTXPXcNUyN2L8ULnCBH/mRGtSgDGUoHuRP/28qwh1A52uvs7toMD8VCuCSjSb416VcOngQ32c7xdZud1u/Usu8i4iIiMgtSbFk2xiTH7jkSrR9gQeBtxNpfxvwPdDBWvtfkm7iAbjGQoYSylM8xTCG8TqvU+KoPz2+KwdZAH9g0OXTrLU8ELiIS9Y5+dKhQ5z/YT6XDh/lzdcH45UtG+DUcTcoEKDebRERERG5KSk5G0khINAYsxlYByy21v5sjOltjDmEMwByszHmc1f714G8wGRjzEZjzPrr3iFOBUx+8nM3d7OABVe2iQBGAiGXdwUeDyIoPCz2eZ5nOpKn23OE/bWR1b37sm//PkAL4IiIiIjIrUmVmu2UUqNoDbv+xHonoQaGM5xhDOMYx8hP/ssN/XGqwDtc7tXecyH4muuF/b2Z4++8h/Hypsjk8Xhm94+t41bvtoiIiEjmdbM12+l6BUkCgIaXnzanORbLL/xyZbtw4Kjz5fITx9h7IRgPuGbzq1qJQmNHkavdY3hm9wcu925r8RsRERERuVGpMkAyRbUH/gAuQDWqUZCCrGc9HehwuY0HTmIOFM/mT/87K15zGWstX+7dyemiRchStAgA4du2c3bzFkZl9cVWqKxBkyIiIiJyQ9J/st0K6OZ86YEHW9hCPvJd2SYCZ31KoEQ2f3qUKXfNZZYeO0p41JUrT4auWsP5H+az/vARBr/yMqBBkyIiIiKSdOm7jAQgOzDg8tNrEu0Y73DFIMm4rLWM2rqJ0KjIK/bnfqYjuTq05/zvK9jUfzBRZ89p0KSIiIiIJFn6T7YBSuJM8YezcmRnOjOa0Ve28cBZViceCdVxexpD7sdbkf/VvkTs2cPR/oM5f/yElnYXERERkSRJ/2UkAMeInW/bYDjMYdawhsEMvtwmziDJqyVUxw2wOySYn+71wCt/PoIXL8Uzdy4t7S4iIiIiSZIxku0AwIfYMpFHeZSe9GQ727mTO52dPjgzf8cjoTruuIvfZL2jNFnvKA3A+aBj9Bo/ji1jxqp2W0REREQSlDHKSFoBUZefPszDAPzAD5d3Rrva3YCrF7+JcW7eT2x7exzte/UkOjo6njNFRERERDJKsp0dGAr4OU+LUYwa1GAe85wdfsBrOIvbJFFCgybBWXEye7PGzJw0mccff5zQ0NBbi19EREREMqSMkWwDDMRJqH0Bf+jq0ZX7vO8j2ifa2T/wxi6X2OI3np6e5Ov2LHme7cTcuXO5//77OXbsWLK+HBERERFJ/zJGzTaAAQYBPYF58PzR550a7VbcUI92jMQGTcYqdxfejZvx1fsf4Ovre+M3EREREZEMzaTnKexq1Khh169fn+DxyMhItmzZQpUqVVI0DmstxhhCQ0NZv3499erVS9H7iYiIiEjqMsZssNbWuNHzMk4ZSTxef/117r77bs6fP5+i94mZkeTNN9+kYcOGfPTRRyl6PxERERFJHzJ0st2iRQsuXbrEwoULU+V+r732Gk2bNqVHjx707duXqKio658kIiIiIhlWhk62a9WqRYECBZg3b16q3C979uz88MMP9OnTh/Hjx/PYY48REpLAGvEiIiIikuFl6GTb09OThx9+mPnz53Px4sVUu+eECRP48MMPWbNmDSdOnEiV+4qIiIhI2pOhk22ARx99lODgYJYtW5aq933xxRfZuXMnJUuWxFrLnj17UvX+IiIiIuJ+GT7ZbtSoEYGBgTRq1CjV7509e3YA3nvvPSpVqsTPP/+c6jGIiIiIiPtk+GTbx8eH+vXr4+XlvinFn3zySe68804eeeQR3n//fdLzdIsiIiIiknQZPtkGOHbsGP369WPjxo1uuX+hQoX4/fffeeSRR3jppZfo1asXkZHXLgMvIiIiIhlLpki2s2TJwgcffMCsWbPcFkO2bNn47rvv6N+/P5988onbEn8RERERST0ZegXJuB588EEOHzzMtsHbIAgIwFnKPXtKRhi///77jzvuuAOACxcukC1btthj1lp+DTpC44DCsYvliIiIiIh7aQXJxFh41PdR/t3xLzu674AhwItAQWCMczw1xSTa33//PXfccQdx/2AIPB5Et/UrCTwelLpBiYiIiEiyyxzJ9lvw8OKHAfgh9AeIBEKAMGCkc9wdypYti7e3N/Xq1WPu3LlYaxm1dRMAo7du0kBKERERkXQu4yfbwcAIKBZejAd5kItctbhNKE7C7YaFHitUqMCaNWuoVKkSrVu3pvuwNzgaFgrA0fBQ9W6LiIiIpHMZP9meC3g6X/7Krwxl6LVtPFzt3KBgwYIEBgbSpk0bPhk+gtN/Oz3boVFR6t0WERERSefcN/l0agkCwi8/tVjOc56c5Ly8Mxw4mtqBXebr60vX98ezunwZPCtXBJyBkjG92w0LFnJfcCIiIiJy0zJ+z3YA4HP5aSta8TAPX9nGB3BjPmutZcy//+BZvQoAEXv3ETToDc4fO67ebREREZF0LOMn262AqMtPq1OdP/iDQxy6vDPa1c5NAo8HERQeFvs86nwIEXv3c7T/YPZu3arabREREZF0KuMn29mBoYCf87Qd7bBYZjPb2eEHvAb4uye8mBlIQqMuryjpW7kihd4aDh4e7H31NfpN+UK92yIiIiLpUMZPtgEG4iTUvnCH/x1UoxozPGaAr2v/QPeFtvzEMfZeCMYDrth8ShanyNhReAcEsHHIG7w/z00jOEVERETkpmX8AZIABhgE9ATmwRMznmDAggHsWbOH2++63a2hFc/mT/87KyZ4PHxOdZZ88SUtGjRIxahEREREJDlkmuXa4zp8+DB//PEHDz/8MH5+fikQWco4ceIEY8aMYfTo0fj4+Fz/BBERERFJFlqu/QYUKVKEJ554Il0l2gC//vor48eP58EHH+TUqVPuDkdEREREriNTJtsAp0+f5p133mHnzp3uDiXJnnrqKWbOnMm6deuoXbs2u3fvdndIIiIiIpKITJtsR0REMGjQIL755ht3h3JD2rZty5IlSzh16hS1atXi77//dndIIiIiIpKATJtsBwQEUL9+fWbMmJHuptW79957Wb16NdWrV6do0aLuDkdEREREEpBpk22AJ554gv/++4+NGze6O5QbVqZMGX755Rfy589PREQEM2fOTHd/NIiIiIhkdJk62X7sscfw8vJixowZ7g7llnz55Zc88cQT9OrVi8jIyOufICIiIiKpInPMs52AvHnz0rx5c06ePOnuUG5J165d2bNnD2PHjmX//v18++23+Pu7aUlMEREREYmVqZNtgO+//x5PT093h3FLPDw8eOeddyhRogS9evXi/vvv5+eff6ZQoULuDk1EREQkU8vUZSSAk2gHQ+hnofAOMBUIdndUN6dHjx78+OOPHD169Jreemsti44eVl23iIiISCrK3Mm2BcbAsDzDKPNCGaIGR8GLQEFnP+kwL23RogV79uzhrrvuwlrLjh07AAg8HkS39SsJPB7k5ghFREREMo/MnWy/BYyEipEVOWKPsDxqOYQAYc5+3nJveDcrZin3r7/+mooVK/LVV18xausmAEZv3aTebREREZFUknmT7WBgBBAKzWlONrIxgzizkoTiJNwh7gkvObRq1Yr777+fLl26sPmLKVhrORoeqt5tERERkVSSeZPtuYBrXKQffjzCI3zHd0QQcbmNh6tdOpUzZ07mz59PQJMHOfm/WZycMIkL4RfVuy0iIiKSSjJvsh0EhF9++hRPcZrTzGf+5Z3hwNHUDix5/Xn2NLl7dSPXk2258PsfhP+7Xb3bIiIiIqkk8ybbAYDP5aeNacz7vE9d6l7e6QOk49nzrLWM2rqJsOgocj3RhsITx+FbqSKhUVGM/HuderdFREREUljmTbZbAVGXn3rhRW96U4ACl3dGu9qlU4HHgwgKD4t9nqVYUQDC/t7Mis7P8/mype4KTURERCRTyLzJdnZgKOB3eZfFMpWpfMd3zv7XgHS6EGNMr3Zo1LXLt3vmykl0ZCTdWz7MkiVL3BCdiIiISOaQeZNtgIE4CbUv4A/Gy/CRx0e8Yd7ADrHO8XRq+Ylj7L0QjAdcs/mULE6RsaPwyJeXps2aMW3aNLfGKiIiIpJRZe7l2g0wCOgJzAOOQpftXXhhyguse2Add5u73RrerSiezZ/+d1ZMtE3Y99X4vu8AOnbsSPHixalXr14qRSciIiKSOZj0PEiuRo0adv369cl6zXPnzlGoUCE6derERx99lKzXTosiIiKYOnUqzz77LMYYd4cjIiIikiYZYzZYa2vc6HkpVkZijPExxqw1xmwyxmw1xrzp2t/TGLPLGGONMfnitDfGmA9cxzYbY6qlVGyJyZkzJ4899hjffvst4eHh1z8hncuSJQvPPfccxhh27tzJ008/TXBwsLvDEhEREckQUrJm+yLQ0FpbGagCNDXG1AL+BB4A9l/VvhlQxrV1BdzWrdylSxeKFy/OgQMH3BWCW2zYsIEZM2Zw//33c/RoOp9gXERERCQNSLFk2zpiFjv3dm3WWvu3tXZfPKc8Akx1nbcayGWMccss1w0bNmTjxo3ccccd7ri92zzxxBP8+OOP/Pfff9SuXZtt27a5OyQRERGRdC1FZyMxxngaYzYCx4HF1to1iTQvAhyM8/yQa1+qM8ZgjCEkJIRz5865IwS3ad68Ob///jvh4eHUrVuXjRs3ujskERERkXQrRZNta22UtbYKUBS42xiT+PQYSWCM6WqMWW+MWX/ixIlbjjEhp0+fplChQkyaNCnF7pFWVa9endWrV/Pwww9nut59ERERkeSUKvNsW2vPAoFA00SaHQaKxXle1LXv6mt9aq2tYa2tkT9//mSNM648efJQvXp1pkyZkimXNS9RogRff/01fn5+nDt3ji+++CJTvg8iIiIityIlZyPJb4zJ5fraF3gQ2J7IKT8CHV2zktQCzllr3TpKr0uXLuzatYs/h/4J7wBTgUw4UcfHH3/Mc889R8+ePYmKcta4t9ay6OhhJeAiIiIiiUjJnu1CQKAxZjOwDqdm+2djTG9jzCGcnuvNxpjPXe0XAHuAXcBnQI8UjO36LLTZ1wZ//Jny9hQYArwIFATGOMczi1deeYVXXnmFyZMn89hjjxEaGkrg8SC6rV9J4PEgd4cnIiIikmZpUZuEjAFGwrOhzzKLWRzjGH74Ocf8cJZ5H5Qyt06rJk2aRK9evahZsyZZBrzMoSyelMqWncUNmmhBHBEREcnQ0tyiNulaMDACCIVXeZUVrLicaOPsZyQQEv/pGdWLL77I3LlzOXzyJMdCnHqao+Gh6t0WERERSYCXuwNIk+YCns6Xd5DAbBwernYdUimmNOLhhx9mgq8n+y6GYaOjOXvwEKN9/GhQIEC92yIiIiJXUc92fIKAOCu1H+IQT/EUf/P35Z3hQCZcZDHweBDHIy8BcG72XI6+PJD/lv2u3m0RERGReCjZjk8A4HP5qT/+/MAPvM/7l3f64AwBzUSstYzauonQqEgAsjd5AO/binFw1Nu8+PYYzUwiIiIichUl2/FpBURdfpqLXHSiE9/yLcc57uyMdrXLRAKPBxEUHhb73DNXTgJGvYFv1SpsHz+RTv37KeEWERERiUPJdnyyA0Mh7pjIXvQiggg+4ZPLs5H4uyc8d7i6VzuGh68PBYa8gv8DDZj+4ST+++8/N0UoIiIikvYo2U7IQJyE2hfwhzu97qSJZxMmM5mIgRHO8Uxk+Ylj7L0QjAdcs3l6eZG/VzcKvfcWQblzAhAZGZnwxUREREQyCc1GkhCDM492T2AecBReOf0Ki8IXEd4nnCwmi1vDS23Fs/nT/86KiTcqdxfFs/nz1Vdf8dFHH/HTTz9RoECB1AlQREREJA1Ssn092Ymd3q+R67/MqEQ2f3qUKZektnnz5uWff/6hbt26/PLLL5QqVSqFoxMRERFJm1RGcoOio6P55Zdf2LJli7tDSbNatmzJ0qVLOXPmDLVr12bdunXuDklERETELZRs36DQ0FDatWvH6NGj3R1KmlarVi3+/PNPsmXLRoMGDTh8+LC7QxIRERFJdUq2b5C/vz/PPvsss2fP5siRI+4OJ00rW7Ysq1atYvz48RQpUsTd4YiIiIikOiXbN6Fnz55ERUXx0UcfuTuUNC8gIIDnn38egNWrVzNmjBa/ERERkcxDyfZNuP3222nZsiWffPIJ4eHh1z9BAPj2228ZPHgw3bt319SAIiIikiko2b5Jffr0IUuWLOzcudPdoaQbEyZMYNCgQXzyySe0bt2a0NBQd4ckIiIikqJMev5Iv0aNGnb9+vVuube1lsjISLy9vd1y//Rs0qRJ9OrVi3vuuYdffvmFnDlzujskERERkUQZYzZYa2vc6Hnq2b5Jxhi8vb2JiIjg2LFj7g4nXXnxxReZM2cOJUuWxN8/E615LyIiIpmOerZvgbWWKlWqULp0aebMmeO2ONK7w4cPc/z4capWreruUERERETipZ5tNzDG0Lx5c+bNm8f+/fvdHU661a1bN+rVq8fixYvdHYqIiIhIslKyfYt69OiBMYZJkya5O5R065NPPuH222+nefPmTJs2zd3hiIiIiCQbJdu3qFixYjz22GN89tlnXLhwwd3hpEuFCxdm+fLl3HfffXTs2JG33npLc3GLiIhIhqBkOxn06dOHs2fP8v3337s7lHQrZ86cLFy4kPbt2zN9+nTCwsLcHZKIiIjILdMAyWRgrWXlypXUqVMHY4y7w0nXoqOjOXv2LHny5CE8PBxrLb6+vu4OS0RERDI5DZB0I2MMdevWVaKdDDw8PMiTJw/WWjp06EDjxo05ffq0u8MSERERuSlKtpPR6NGjefrpp90dRoZgjOHxxx9n7dq13HvvvRw4cMDdIYmIiIjcMCXbySgiIoLp06drCfdk0rZtWxYtWsSRI0eoXbs2mzdvdndIIiIiIjdEyXYy6tatG97e3nz44YfuDiXDqF+/Pn/88QfGGFq1asWlS5fcHZKIiIhIkinZTkYBAQG0a9eOKVOmcP78eXeHk2HcddddrFq1ihkzZuDt7e3ucERERESSTMl2MuvduzfBwcFM6TEF3gGmAsHujir9K1asGDVr1gRg5MiRjBs3LvaYtZZFRw9rbm4RERFJc5RsJycLNZfUZJjXMO7//n4YArwIFATGOMfl1kRHR7N582b69+9P3759iY6OJvB4EN3WryTweJC7wxMRERG5gpe7A8hQ3gJGwhuRb0Cka1+I63Gk63FQ6oeVkXh4eDBjxgwKFSrE+PHjOXz4MMe7PAXA6K2baFAgQFMwioiISJqhnu3kEgyMAEKdp5vZzFjGXj4eipNwh1x7qtwYDw8PJkyYwDvvvMOsWbNYN3AoNjqao+Gh6t0WERGRNEXJdnKZC3hefjqf+QxgAH/z9+WdHq52csuMMfTv35/ygwfgc39djIcHoVFRjN66SbXbIiIikmYo2U4uQUD45afd6U4ucvEGb1zeGQ4cTe3AMq7A40FQtxbZH2gAQOiGv9m38z/1bouIiEiaoWQ7uQQAPpef5iIXr/AKP/ETa1jj7PQBCrkjuIzHWsuorZsIjXKK4+2lSE5/9Dl7XxnCq7NnqHdbRERE0gQl28mlFRB15a7e9CYf+Xid150d0a52cssCjwcRFB4W+9x4e1Fw5Ot4+Puzof9ARn8zzY3RiYiIiDiUbCeX7MBQwO/yLn/8GcYwKlKRSN9IeA3wd1N8GcjVvdoxvAMKUujtEXgXK8rQzl344osv3BShiIiIiEPJdnIaiJNQ++Ik1V7wov+LjPMdh9dQL+e43LLlJ46x90IwHnDN5p0rJ4VHDcOn8l0sWLXKrXGKiIiImPRc21qjRg27fv16d4dxrWBgHs5gyEJgH7UsWb2E7NmzU6tWLffGlgHsuxDCgiMHE20TGRFBi2IlKJUjJ4cOHaJQoUJ4enomeo6IiIhIQowxG6y1NW74PCXbKS8iIoIyZcpQqFAhVq1apUVXUtHZs2e56667qFWrFtOmTcPHx+f6J4mIiIhc5WaTbZWRpIIsWbIwdOhQ1qxZw/z5890dTqaSK1cuXn75Zb777juaNm3KuXPn3B2SiIiIZCLq2U4lly5doly5cmTPnp0NGzbg4aG/c1LT//73Pzp37ky5cuVYuHAhhQsXdndIIiIiko6oZzuN8/b2ZtiwYWzcuJG5c7WMZGp78sknmT9/Pnv27GHgQI1UFRERkdTh5e4AMpP27dvz5ZdfEhER4e5QMqUHH3yQFStWUKJECcCZQlD18yIiIpKS1LOdijw9PVm6dCnt27d3dyiZVuXKlcmZMyehoaE0btxYNfQiIiKSopRsu8GlS5eYPn06kZGR128sKeLChQucPn2aRx55hClTprg7HBEREcmglGy7wZIlS3j66aeZOnWqu0PJtPLnz8+yZcto0KABzzzzDKNHjyY9DxYWERGRtEnJths0bdqUmjVr8uabb3Lx4kV3h5NpZc+enfnz5/Pkk08yZMgQRo0a5e6QREREJINRsu0GxhhGjhzJgQMH+OKLL9wdTqaWJUsWpk2bxuuvv07btm3dHY6IiIhkMJpn202stdx///3s3r2bXbt24evr6+6QBOf7MmHCBJ555hly5szp7nBEREQkjUj2ebaNMZuTsP12a2FnXsYYRowYQZ48eTh06JC7wxGXzZs3M2DAAOrVq8eRI0fcHY6IiIikcwn2bBtjtgLNEzsX+NFaWyklAkuK9NyzHSM6OlqrSaYxv/76K4899hj58uVj0aJFlC1b1t0hiYiIiJulxAqSL1hr9yey7QN63HTEAoCHhwdnz57ljz/+cHco4tK4cWOWLVtGaGgodevWZc2aNe4OSURERNKpxJLtBIuIjTFvA1hrVyR7RJlQt27deOSRRzh37py7QxGXGjVqsHLlSvLly8fZs2fdHY6IiIikU4kl25OMMS3i7jDGeBhjvgIqX+/CxhgfY8xaY8wmY8xWY8ybrv0ljTFrjDG7jDEzjTFZXPtvM8YEGmP+dtWDJ1bCkqEMGDCAM2fOMP6t8TAVeAfnMdjNgWVypUuXZsuWLTRp0gSA//77L/aYtZZFRw9rbm4RERFJVGLJdhNgnDGmFTjJM/Aj4A20TMK1LwINrbWVgSpAU2NMLeBtYLy1tjRwBnjW1f41YJa1tirwBDD5xl9O+lStajVaV2jN+LfGc6rHKRgCvAgUBMYAyufcxsvLC4DAwEDKlSvHW2+9hbWWwONBdFu/ksDjQW6OUERERNKyBJNta+1e4AFgpDGmG7AE2Gmtfcpae+l6F7aOENdTb9dmgYbAd679XwOPxpwC5HB9nRPIPFNBvAVv7n6TYIJ598K7EAmEAGHASOe4uFfdunVp164dgwYNok+fPoz8528ARm/dpN5tERERSVBiU/9VAwoArwKjgEPANGNMNdex6zLGeBpjNgLHgcXAbuCstTbS1eQQUMT19TDgaWPMIWAB0CuBa3Y1xqw3xqw/ceJEUsJI24KBEVAhvALtac8udmHjdmWH4iTcIQmcL6kiS5YsfPPNN7z88stMnDiRDcNHYS9d4mh4qHq3RUREJEGJTf0XmMh51lrbMMk3MSYXMBcYCnzlKiHBGFMMWGitrWiM6euKZ5wxpjbwBVDRWhud0HUzwtR/TMUpGQmBCCLIQpZr2/jjFNV0SN3Q5FrWWu7o/jy7PvmCfP1643//vZTKlp3FDZpgjHF3eCIiIpJCbnbqP6+EDlhrG9xaSFdc66wrea8N5DLGeLl6t4sCh13NngWautqvctWI58PpFc+4goBw58uYRHsXu4gggvKUdw6EA0fdEp1cJfB4EFkebkGhO0qTpfTtABwJu0Dg8SAaFizk5uhEREQkrbleGUmiEmtjjMnv6tHGGOMLPAj8CwQCbVzNOgE/uL4+ADRytS8H+AAZoE7kOgJwXqlLJJE8wAN0pjNRRDk7fQDlcW5nrWXU1k2ERkWStUwpjDFE7N3P7j6v8NqvC1W7LSIiItdIbDaSKcaY3MaYPAltOKUeCSkEBBpjNgPrgMXW2p9xasD7GmN2AXnjXKMf8LwxZhPwLdDZZobspRXE5NQAXngxkpGsYx2f87mzM9rVTtwq8HgQQeFhV+yzly4Refwka3u9zCeLf3VTZCIiIpJWJVazvQ8nzUusEPWEtfbuFIgrSTJEzTY40/uNxBkMCVgsDWjAZjazw3cH+Yfmh0HuDFCstTwQuIg9F66d/PzSoSMEDRsFwSEsmDePxo0buyFCERERSUnJvly7tbaEtfZ2a23JRDa3JdoZykCcWcZ9AX8wXoZJvpMIJpiB5Qc6x8Wtlp84xt4LwXjANVvWooUp8vYIPArkp8VDD7FihRZWFREREUeCAyQlFRmcnuuewDzgKFQoVIH+G/sTHh2OxWIS/YBBUlrxbP70v7Niom1C51Rh9/9mcvfd+htUREREHAmWkaQHGaaMJAHW2mSZTm7IkCFMnTqVM2fOEBKiCbtTw8mTJ5k6dSovv/xyikwJmND3dNiwYZQoUYLOnTsn+z1FREQys2QvIxH3i0nS/vjjD2bOnHnT12nZsiVr165NrrAkCb766iv69evHc889R2Rk5PVPuEH6noqIiKQPSSojMcbkBsoQZ5I6a+3ylApKrjRq1ChWrVrF/fffT0BAQKJtH330UQ4ePEh4eDh9+vSha9eu1KpVK5UilRj9+vUjJCSEN998k+PHjzNz5kz8/Pxu6lo38j319/fH19f3VkIXERGRZHTdMhJjzHNAH5wFaDYCtYBVN7KCZErJ6GUkMXbu3EnFihVp27Yt06ZNS7Tt6dOnyZMnD2FhYdSsWZPff/+dvHnzAk4ipjKS1PXxxx/To0cPatWqxc8//0yePHlu+Br6noqIiLhfSpaR9AFqAvtdq0pWBc7e6I3k5pUpU4YBAwbwzTffsGzZskTbfvDBB1SuXJlatWpx8OBBdu7cmTpBSry6devG7NmzOXfuHJcuXbqpa+h7KiIikn4lJdkOt9aGAxhjslprtwNlUzYsudqgQYMoXrw4L774YoJJ27Jly1iyZAmrVq1i06ZNVK1alfDw8FSOVK7WunVrNm3aRMGCBbl06RK7d+9O8rn6noqIiKRvSUm2D7mWXZ8HLDbG/ADsT8mg5Fp+fn5MnjyZ559/PsHZLc6dO0fu3Lnx8/Nj+/btrF69OpWjlIR4eTnDIwYOHEjNmjVZuXJlks7T91RERCR9u26yba1tZa09a60dBgzFWV790RSOS+LRvHlzXnrppdjE7WpNmzYlMjKScuXKMXDgwNhBdAMGDKBo0aKEhoZStGhRhg0blopRS1w9e/YkX758NGrUiJ9++um67fU9FRERSd8SHSBpjPEEtlpr70y9kJIuswyQvNqMGTP4448/mDRpkrtDkZtw4sQJWrRowV9//cWnn37KM8884+6QRERE5DpSZICktTYK2GGMue2mI5Nkt2vXLiZPnsyvv/7q7lDkJuTPn5+lS5fSqFEjXnrpJY4fP+7ukERERCSFJGXqv+U4M5CsBS7E7LfWPpyyoV1fZu3ZvnjxInfddRcA//zzD1mzZnVzRHIzIiIi+Pfff6lcuTKQfCuGioiISPK72Z7tpCxqM/Qm4pEUlDVrVj788EOaNGnCu6PeZUjpIRAEBACtgOxuDlCSJEuWLLGJ9gcffMDKlSv5+uuvyZo1K9Zafg06QuOAwkrARURE0rHrJtvW2t9TIxC5MY0fbEybim0YOWIkz/g9Q6GIQs76nt1w/jwaCChHSzciIiKYOXMmJ0+e5Pvvv2d92AW6rV/JF3ffS8OChdwdnoiIiNyk6ybbxphgIKbWJAvgDVyw1uZIycDkOt6C8bvG8xRPERDqWsI9ZiHBka7HQe4ITG5G//79KVCgAM888wz169cn2+BXIKsXo7duokGBAPVui4iIpFPXrdm+orHzG/8RoJa1dmCKRZVEmbVmm2CgIBAGcAx4nEj+xouqwGznoJ/rkL/bopSbsHDhQh5r/Rj5o6LY4OHJ/lIlCZsxg/sqVnJ3aCIiIplaStZsx7JOZj7PGPMGTqGCuMNcwDPmyeN8zp9UIpqq/IE3ZYEqEA682Ba+7gGhodC8+bXX6dzZ2U6ehDZtrj3evTu0awcHD0KHDtce79cPWraEHTvghReuPf7aa/DAA7BxI7z00rXHR4+GOnVg5UoYPPja4xMmQJUqsGQJjBx57fFPPoGyZeGnn2DcuGuPT5sGxYrBzJnw0UfXHv/uO8iXD776ytmutmAB+PnB5Mkwa9a1x5ctcx7ffRd+/vnKY76+sHCh8/WIEfDbb1cez5sX5sxxvh40CFatAqApsM/C2YhL5OcSuf7dwb9PPond9I96t0VERNKhpJSRPBbnqQdQAyeVE3cJIs53YCOViCYM2AZUItgp1Y4GzrsnPLl5ZyMiyBcRQUHX8+XR0VzYsZOTx4NUuy0iIpIOJWXqvylxnkYC+4DPrLVunxw405aRTAVexFWjXQ9YxWdE0hUYQjFGcsApH5kMxNMhLWmTtZYHAhcxptfL1Ni2HUPMdxfKDnyFLaPfVu+2iIiIm6TIojYun1tru7i25621o4AyNx6iJJtWQFTMk9lAbZ4nO89SkFEc5Ad+cHq2W7ktQrkJgceDCAoP48VX+xLi50u0hwdvli2DX7mybHtrLN2HvcGNjLEQERER90tKzfZEoFoS9klqyY4zvd9IILQgsByADwnnH+5np/dOeA0NjkxHrLWM2rqJ0KhIQnPnYtvtJQF4dvQw8ly6RNSESXwyfAQ+587z3nvv4eGRlL+TRURExN0STLaNMbWBOkB+Y0zfOIdyEGd4nrhJzPDUETjfjXDw8fFhReQKvF/31vDVdGb5iWPsvRB8zUdNHgDe3hTs15tTuXPx75HDKiURERFJRxLr2c6C0zfqxZVrEp4H4pm6QlKVwZlHuycwDzgKFALvVt7gD0uXLmX27NlMnjxZyVk6UDybP/3vrBj7/GLr1gD0i7PPjh1L04AiGGPYv38/uXLlImfOnKkeq4iIiCRdUgZIFrfW7k+leG5Iph0gmQRjx45lwIABjB07lv79+7s7HElGkZGRVKpUiSxZsrBw4UIKFdIsJSIiIiktJQdIhhpjxhpjFhhjlsZsNxGjpKL+/fvTpk0bXn31VZYu1bcr3QkNdbZ4eHl5MWHCBHbt2kXt2rXZsWNHKgcnIiIiSZWUZHs6sB0oCbyJM/XfuhSMSZKBMYYvv/ySsmXL0q5dOw4ePOjukORGNG8e/0JELo0bN+b3338nLCyMunXrsnr16lQMTkRERJIqKcl2XmvtF8Ala+3v1tpngIYpHJckg+zZszN37lwuXrzIZ5995u5wJJlVr16dlStXkjt3bgYNGqRpAUVERNKgpEz9d8n1eNQY0wI4AuRJuZAkOZUtW5b169dTpoymRs+ISpUqxZ9//okxBmMMkZGReHkl5cdaREREUkNSerZHGmNyAv2A/sDnwMspGpUkqzvuuANjDHv27OH77793dziSzAoUKED+/PmJiIigRYsWjBgxQr3cIiIiaUSiybYxxhMoY609Z63dYq1tYK2tbq39MZXik2Q0aNAg2rdvz7p1KrnPiIwxBAQE8Prrr9O9e3eioqKuf5KIiIikqESTbWttFNA+lWKRFDZ58mQKFSpE69atOXHihLvDkcR07uxsN8Db25uvvvqKgQMH8sknn9C6dWvCwsJSJDwRERFJmqTMsz0e8AZmAhdi9ltr/0rZ0K5P82zfuL/++ou6detSp04dFi1apPreDGrixIn06dOHxx57jO+++87d4YiIiKR7NzvPdlIyrSqux+Fx9lk0I0m6VK1aNT7++GM6d+7MBx98QN++fd0dksTn5EnnMV++mzq9V69eFCpUiNKlSydjUCIiInKjrptsW2sbpEYgkno6deqEMYY2bdq4OxRJSMz3ZtmyW7jE5e/vqFGjePjhh7nrrrtuMTARERG5EdedjcQYU9AY84UxZqHreXljzLMpH5qkpI4dO+Ln50dwcDB79+51dziSgk6ePMlHH33Efffdx++//+7ucERERDKVpEz99xWwCCjsev4f8FIKxSOp7NFHH6Vp06acO3fO3aFICsmXLx8rV66kcOHCNG7cWDXcIiIiqSgpyXY+a+0sIBrAWhsJaE6xDOKNN95g9+7ddO7cmejoaHeHIynktttuY8WKFdSoUYO2bdsyefJkd4ckIiKSKSQl2b5gjMmLMygSY0wtQN2gGUS9evUYN24c8+bN4+2333Z3OJKC8uTJw5IlS3j00UfJnz+/u8MRERHJFJIyG0lf4EeglDHmTyA/oJF1GUjv3r1Zu3YtQ4YMoXr16jRu3NjdIUn37ilyWV9fX+bMmYMxBoAVK1Zwzz334O3tnSL3ExERyeySMhvJX8aY+4GygAF2WGsvpXhkkmqMMXz66ad4eXlx5513ujscAWjXLsUuHZNo7927l4YNG/LAAw8wa9Ys/P39U+yeIiIimVVSZiPxAXoDI4A3gRdd+yQDyZYtG19//TW33XYb0dHRXLx40d0hZW4HDzpbCipZsiSTJ09m0aJFNGjQgOPHj6fo/URERDKjpNRsTwUqABOBD11fT0vJoMR9oqOjeeyxx3jhhRe43uqikoI6dHC2FPbcc88xb948tm7dSt26ddmzZ0+K31NERCQzSUqyXdFa+6y1NtC1PY+TcEsG5OHhQZUqVfj666/5+OOP3R2OpIKWLVvy22+/cfr0aWbOnOnucERERDKUpAyQ/MsYU8tauxrAGHMPsD5lwxJ3ev3111m3bh19+vShSpUq1K5d290hSQqrXbs2mzdvpnBhZzr90NBQ/Pz83ByViIhI+peUnu3qwEpjzD5jzD5gFVDTGPOPMWZzikYnbuHh4cE333xDsWLFaNOmDUFBQe4OSVJBkSJFMMawa9cuypQpwzfffOPukERERNK9pPRsN03xKCTNyZ07N3PnzqVVq1YcPnyYgIAAd4ckqSR//vyULVuWDh06cPToUfr37x87g4mIiIjcmKRM/bffGJMbKBa3vbX2r5QMTNyvUqVK7NixAy+vpPxNJsmqXz+33TpnzpwsXLiQjh07MmDAAI4cOcK4cePw8EjKB2EiIiIS13WzKGPMCKAzsBvXKpKux4YpF5akFV5eXkRFRfHGG29QoUIF2rdv7+6QMoeWLd16+6xZs/Ltt99SqFAhJkyYQLFixejbt69bYxIREUmPktJl2RYoZa2NSOlgJG2Kjo5m+fLlvPfee1SoUIFKlSq5O6SMb8cO57FsWbeF4OHhwfjx46levTqtW7d2WxwiIiLpWVI+F94C5ErhOCQN8/b2ZtasWeTOnZvHHnuMM2fOuDukjO+FF5zNzYwxdOjQAT8/P86fP0+HDh04cuSIu8MSERFJN5KSbI8B/jbGLDLG/BizpXRgkrYEBATw3XffceDAAZ5++mmio6PdHZKksm3btjFv3jzq1KnDjpiedxEREUlUUpLtr4G3gbeAcXE2yWRq167NhAkTWLJkCX/9pfGxmU2tWrVYtmwZYWFh1KlTh1WrVrk7JBERkTQvKcl2qLX2A9fqkb/HbNc7yRjjY4xZa4zZZIzZaox507W/pDFmjTFmlzFmpjEmS5xz2hpjtrna/+8WXpekkO7du7N161Zq1Kjh7lDEDapXr87KlSvJkycPjRo1YvHixe4OSUREJE1LSrL9hzFmjDGmtjGmWsyWhPMuAg2ttZWBKkBTY0wtnF7y8dba0sAZ4FkAY0wZYBBQ11pbAXjpxl+OpDRjDKVLlwZg9uzZ7Nq1y80RSWorVaoUf/75J40bN6asGwdwioiIpAfGWpt4A2MC49ltrbVJnvrPGOMHrAC6A/OBAGttpDGmNjDMWtvEGPMO8J+19vOkXrdGjRp2/XqtHO8OZ8+epXTp0hQuXJhVq1aRLTobzAWCgACgFZDdvTGma0uWOI8PPODeOJIgOjqa77//ntatW8cufmOt5degIzQOKKwFcUREJEMwxmyw1t7wR/vX7dm21jaIZ0tSom2M8TTGbASOA4tx5uo+a62NdDU5BBRxfX0HcIcx5k9jzGpjTLwrVxpjuhpj1htj1p84cSIpYUgKyJUrF//73//YsmULXet2xRaw8CIwBOexIM7Q2sT/lpOEPPBAuki0AWbMmMHjjz9Ojx49iIqKAiDweBDd1q8k8HiQm6MTERFxr+sm28aYgsaYL4wxC13Pyxtjnk3Kxa21UdbaKkBR4G7gzkSaewFlgPpAe+AzY0yueK75qbW2hrW2Rv78+ZMShqSQxo0bM/LBkfxv0//4IPwDCAEicR7DgJE4w2rlxm3c6GzpQPv27Rk4cCAff/wxbdq0ITQ0lFFbNwEweusmrvfpmYiISEaWlJrtr4BFQGHX8/+4wXpqa+1ZIBCoDeQyxsQsplMUOOz6+hDwo7X2krV2r+s+ZW7kPpLKgmHg8oE8wiP0pz+7uKp+OxQn4Q5xR3Dp3EsvOVs6YIxhzJgxfPDBB/zwww/c06A+h08cB+BoeKh6t0VEJFNLMNmOkxDns9bOAqIBXCUgUde7sDEmf0zPtDHGF3gQ+Bcn6W7jatYJ+MH19TycXm2MMflwykr23MiLkVQ2Fzy8PPiar5nOdEpT+to2Hk47yfh69erFjBkz2L51G+cOHAQgNCpKvdsiIpKpJdazvdb1eMEYkxdX9a1rRpFzSbh2ISDQGLMZWAcsttb+DLwK9DXG7ALyAl+42i8CThljtuEk5K9Ya0/d6AuSVBQEhENOctKWtgAEEshWtl5uEw4cdUt04gb57r+PUl9+jM+ddwAQeeaserdFRCRT80rkWMwUAn2BH4FSxpg/gfxc7plOkLV2M1A1nv17cOq3r95vXffqe/2wJU0IAHyILROJJJLudOcYx/iRH7mP+5zjhdwYo6Qaay2jtm7iom9WAC6sWMnJ9z8iol9vRvv40aBAgGYmERGRTCexnu38xpi+OKUdc4F3gIXAZ0D6mCZBUlYrrigo8sKLX/iFghTkQR5kDnOc4qNW7gpQUlPg8SCCwsNin/tUKI/3bUU5PuZdtsycxdJj+ohDREQyn8SSbU/AH2e25Gw4veCegB+aQVnA+VcwFOdfhEsJSvAnf1KVqjzO43zY6EPnX5HcmNGjnS2diOnVDo2KjN3nmTsXAaOH4XdPTY59OoXO3btx6dIlN0YpIiKS+hIrIzlqrR2eapFI+jTQ9TgC50+xcMjrk5ffIn/jiRJPsD7Peqy1Kh+4UXXquDuCG7L8xDH2Xgi+5q93j6xZKTiwL6e/ns6huT8xfs5sBjzxpFtiFBERcYcEV5A0xvxtrb2m5jot0QqSaUgwznwyR3FqtFtBpE8k1lq8vb05cuQI+fPnx9vb261hphsrVzqP6STp3nchhAVHDibeZtNmejRrQYls/kRGRuLlldjf+iIiImnLza4gmViyncdae/qWI0tBSrbTh7CwMCpVqkTp0qWZPXs2/v6qK7mu+vWdx2XL3BlFilizZg0dOnRg9uzZVK5c2d3hiIiIJEmyL9ee1hNtST98fX159dVXWbx4MQ0aNOD48ePuDkncyNfXl7CwMO69914WLFjg7nBERERSVFJWkBS5Zc899xzz5s1j69at1KlTh127dl3/JMmQKlWqxJo1ayhTpgwtW7bko48+cndIIiIiKUbJtqSahx56iKVLl3L27Flefvlld4cjblS4cGGWL19O8+bN6dGjBz/88MP1TxIREUmHNEJJUlWtWrVYuXIluXPnBtBMJZmYv78/8+bN44svvuChhx5ydzgiIiIpQj3bkuruuOMO8ufPT0REBA899BBff/21u0NKeyZMcLYMztPTk65du+Lp6cnhw4dp1aoVQUFa2l1ERDIOJdviNhEREURERNC5c2fGjBlDQjPjZEpVqjhbJrJ9+3Z+/fVX7rnnHrZu3erucERERJKFkm1xG39/f+bPn8+TTz7J4MGD6dWrF1FRUdc/MTNYssTZMpFGjRqxfPlyIiIiqFOnDksy2esXEZGMScm2uFWWLFmYNm0a/fv3Z9KkSfTq1cvdIaUNI0c6WyZTvXp11qxZQ/HixWnWrBnz5893d0giIpKJ2fOWRV8fJrpdNIWzlSp7M9fQAElxOw8PD8aOHUvx4sW577773B2OuNltt93GihUrGDRoEHXr1nV3OCIikhlZsMMs4/ZsYVLb7fT2LM/JQvamVuVTz7akGT179oxdUfC9997j4MHEl/+WjCtHjhxMmjSJXLlyERYWxptvvkl4eLi7wxIRkUzARlsW9TjMbwuOMKntdgA+avPvTV9PybakOQcPHuTNN9+kdu3abNmyxd3hiJstWbKEYcOG0ahRI06cOOHucEREJAOz1jLu8y10a76SV/qsj90f4Rl909dUsi1pTrFixVi+fDnR0dHcd999LF++3N0hiRu1bNmS2bNn89dff1GrVi127Njh7pBERCSDWrr3KJMKOb3ZZ3NEEHnmLKc+m8LhF1+66Wsq2ZY0qXLlyqxatYqAgAAefPBBvvvuO3eHlLo++cTZBIA2bdoQGBhIcHAwtWvX5s8//3R3SCIikkFYa1l09DDR0dG8tuav2P3nfvyZwy/0Inj+Ijzz5r3p6yvZljSrePHirFixgrvvvtvdoaS+smWdTWLVqlWLNWvWUL58efLly+fucEREJB2LSbCttQQeD6Lb+pVMWL+NIO9grGsaYuPpSdY7ylBk8ngKjXz9pu+lZFvStLx58/L777/Tpk0bADZs2JA5Fr/56SdnkyuULFmSP/74g7Jly2Kt5Ycffsgc/x5ERCRZxSTYS48dZdTWTdjoaN6e8RmHer1MyG+/AxB58jTh/2wlOizslu6lZFvSPA8P55/p1q1bqVWrFp06deLSpUtujiqFjRvnbHINYwwAP//8M48++iidOnXi4sWLbo5KRETSurjlIqO2bgJgyKYN7Pr9T472HcTx8R9gfH3wCihASOByzn//A/5NGpHl9pK3dF8l25JulC9fntdff51p06bx0EMPERwc7O6QxI0eeughRowYwbRp02jSpAmnT592d0giIpKGxfRmv7/zX4LCnd7qbe9/yIHhI4kOCSFf314UHv82xtubkxM/xueuCuTt+kxsJ8/N0qI2km4YYxg6dCiFCxfmhRdeoEGDBsyfP5+CBQu6OzRxA2MMr732GrfffjtdunShdu3aLFiwgFKlSrk7NBERSWOstbG92e8v+w2bKycefn741aqJd5HCZG/2IMbbm6jz5zk+eixe+fOR/9W+GC9Xqmxd201Qz7akO88++yw//PAD27Zt45tvvrl8IBiYCrzjelTHd6bw5JNP8ttvv3Hu3Dl27dp1xbG4A2BERCTzCjwexMHDhzk5+VP293iZc/N+BsC3amVyPNwc4+0NgEf27ORq15qCQwfimSO7c7Ir0c4dnOWm7q2ebUmXWrRowebNm51eTAsRIyPIMiYLeALhgA/QDRgKDARu7RMgSePuvfdedu/eTbZs2QDYtWsXpUuXjv3I8Iu776VhwUJujlJERNzh9OnTPPPySxyYMw8bHUX2Zo3J0azxFW2iIyKIPHacLMWKkqNFM7BgXOvYWKDN0hL8ctrnpnpulGxLulW6dGkAdvbbSePxjZlsJ9OMZs7BEFejka7HQake3q2ZNs3dEaQ7MYl2YGAgDz74IMOHD2fJPVUBGL11Ew0KBNxy3Z2IiKQ/j3XuzP6ffyZbvbrkeqod3gFXlp/aqChOvvs+4f9so8gnH+CZIzt5zmXhmR/viO2ra76+GN9GnjhyM/dXGYmkb8GQfXJ28tg8tKQlU5hy5fFQnIQ7JL6T07BixZxNbljt2rVp27YtQ4YM4e93xmEjIzkaHkrg8SB3hyYiIqng0qVLfPzxx+zduxdrLeGtH6bwhHfI36/3tYm2tZya/Bmhq9eRq/3jeGfLjkcUnMkRQcXduenxXTl6zC1Hia7+HObwTf0iUbIt6dtcCPAKYBnLaEhDnuEZ3uANIom83MbDaZeuzJzpbHLDfHx8mDZtGiWebs/ZX3/j2JtjCD53jtFbN6l2W0QkA0hoPE50dDTffvst5cqVo3v37nzzzTcEHg8iOH9espQsHu+1zk6bQcjipeR6/DFyPNScxwJL0G96Rfp/U5HiQf5ODnGQW/qEXGUkkr4FAeGQnez8zM90pSvDGY4vvgxkoNMmHDjqziBvwkcfOY/t2rk3jnTq95PH8Wv/OHnz5ubUpE8IXbmWo80eJPB4kGq3RUTSufjG4/zyyy8MHDiQTZs2UalSJebPn0/Tpk15cNmvhEZFxnudCyvXcO67udQt9Tjto4dhvjE0/7MYJY76Ow18cT4dv8VfG0q2JX0LwBkMGQJZyMIUpvAIj/AADwCwl70UzlqYrIWyujVMST0x0zuFRkWSvVF9fMregVeRQoRGRTHsz99p0KqdardFRNKpuFP4xR2P88MPPxASEsL//vc/2rVrh4eHB78fD2LvhWA8LBB97bX8q1Un6rkuDI8eQcNvi1yeZMEfiOLyJAu3SMm2pG+tcGYdcTEYWtEKgEgiaU5zPEM9+bLYl9zN3e6JUVJV4PGg2MUKALyLFgbg0pGj/NlvEJ1eWMtXY9+NXZlURETSj5j/x0fs3c+a6TOY+NpFerd8hLfffpsPPvgAb9cUfgDFs/nTv2RFGA3EWXh654n1BOS4nexZ8wBVuH1DTtgNLMH5JLwQTn7hnzwxK9mW9C07zl+eI3EGQ8bhhRfvZn2Xbj7dqN2oNi+//DLDhw/Hz8/PDYFKaojbq301z3x58at1N9PeG8/Znbv45ptvyJEjhxuiFBGRm2GtZcjihez/fAoXlv+Jh58fn65ZRa+HHo73/+clsvnT469y8BOxEyX8yZ+8Qjce4iFm4hob5Y+TaHdImbjVtSPp30DgNZzaKn+cPyH9nect3mjB1v1bef755xk3bhyVK1dm3759bgxWUtLyE8ecjwzhms0rSxby9+5O3heeYcHChdxzzz3s2LHDrfGKiEjSPdWnN6s7dyV01VpyPPYwRT6biK1zd+KzTbnGdgGsZCVNaUpRivIBH1xuk8Jju0x6Hp1fo0YNu379eneHIWlFMDCPBD8CWrZsGR999BHTp0/Hy8sLa23ard09edJ5zJfPvXGkM/suhLDgyMHrtsuzez+9OnSgXbt2fPjhh6kQmYiI3IxTp06RO3dujDHc0eMFjh3YT862rfHKkzu2Tals2VncoEn8v9OnAi/CypCVNKEJhSlMIIEUpvDlNv7AZK7bs22M2WCtrXGjr0HJtmRKp06dokmTJgwfPpzmzZu7Oxxxg4MHD5I/f358fHw4duwYBQoUSLt/fImIZFDWWn4NOkLjgMJX/D84ODiY9957j3HjxvHJJ59QsGF9em1YHW+ZoJ+nJxOr174821QwzpS/QUBOsC9Z7gm/h3OcuzbRBvADjnHdGu2bTbZVRiKZ0okTJwgLC6NFixZ06NCBU6dOuTukK331lbNJiilWrBg+Pj6EhIRw77338vjjjxMSkt5WPxIRSd9ipvGLKQUJCwvjvffe4/bbb2fYsGE8+OCDVK5cOcHxOAChUVHOWgrRFsYABYEXgSFAfzCRhh+8fkg40X6NZBsMGR8l25Ip3Xnnnfz1118MHTqUGTNmUL58eWbPnp12Fj1Rsp1qsmXLRvfu3Zk7dy61a9dm9+7d7g5JRCRTuHoaP2stLVq0oF+/flSrVo21a9cyZ84cTuTLk+B4nJhtz4Vglk865kyYEAaEwKrIVTwX8hyRkZEUohCFvQtfM7aL10iW6f0SozISyfQ2bdrEs88+S9GiRZk7d27aKCWoX995XLbMnVFkKkuWLKFdu3ZER0czY8YMmjRp4u6QREQytKXHjtJz3UpOLl9B3lo1mVS3AVGbt+Dt7U39mN+DJHE8zkVo3rIYJfY5XdSrWEUTmhBAACtYQQEKOMn1+8AZbmp6P9Vsi9yCyMhIQkJCyJUrF7t27WLFihV06tTJfYm3km232LNnD48++ii5cuXi999/Txt/eImIZEDR0dFUGTmM7V9+zaX9B8jT/Tmqtmmd8EDH63ENhCQElrKUR3iEQhQikECKUMRpk8SBkAlRzbbILfDy8iJXrlwATJ48mS5dutCsWTP279/v3sAkVd1+++2sWrWK7777DmMMZ8+eJTQ09PoniohIklhr+eWXXyhfrRr/vDECG3mJfP16k73JAxwND018Gr/EuKb4m8c8mtGM4hS/MtGGFJ/iLyFKtkWu8u677zJx4kRWrFhBxYoVmTRpEtHR8azzKhlStmzZKFCgANZa2rdvT926dTU3u4hIEllrWXT0cKJjoN566y32Hwsib58eFPnwPfzvvxfj4XF5oGNSqi6CcXqz33E95gR8oCAFqUc9lrP8ykQb5ziFbvql3TQl2yJX8fDwoGfPnmzZsoXatWvTs2dP3n///dQNYsECZxO3McbQu3dv9u7dS40aNVi6dKm7QxIRSfOunl0EYNWqVbRo0YLDhw9jjKH7hPco+fEHZG9UH+PpecX51+3dtlwz44jtYVnRewVchNrU5ld+JQ95rj03GqdOO5Up2RZJQIkSJVi0aBHffPMNzz//PAAHDhwgMjL+qYeSlZ+fs4lbNWvWjHXr1lGgQAEaN27MhAkT0s6MNSIiaczVs4ts2LCBFi1aUKdOHdavX8+OHTuw1vLp6eOEecRfl33d3u23uGLGkejIaPpc6MN9EffxW9Rv4A2GeK6dClP8JUTJtkgijDE89dRT+Pv7ExERQePGjalduzb//PNPyt548mRnE7crU6YMa9asoWXLlowbN45z5865OyQRkTQp8HgQQeFh2Oho1r0xnBo1arBq1SrGjBnD7t27adiwIctPHEvaNH4njl17g2BgBOAaShNBBE/zNBOZSF/60iC6gdPz7YtbpvhLiJd7biuS/nh7ezN8+HB69uxJtWrVGDx4MEOGDCFLlizJf7NZs5zHHj2S/9pyw7Jnz86cOXM4cuQIuXLlIjIykuPHj1O4cOHrnywikglYaxm6bAmhfj4YDw9szpyU7PgUf73/YewEBADFs/nT/86K171e8WzxdEHPBVxVJ6c4RTva8Ru/8TZv8wqvOD3aPsA4nAT7KDc1xV9yU7ItkkTGGNq2bUvDhg156aWXGD58OHPmzGHRokUUKRJnEEbcZWIDcH7Is7slZElGHh4eFC1aFIChQ4fy5Zdf8t1333HffffFtklo2WERkYzs33//peeQwaz84UcKjRtD1lIlyfvCM/h6evLXxTAakiu2bYls/vQoU+7mbuSacQRgGctYwQq+4is60elym3DgLND15m6RElRGInKD8uXLxzfffMPPP//MHXfcQcGCBZ0D8Qza4EXX8zGu45IhdOzYkVy5ctGwYUM++uij2NrC+AYGiYhkVNu3b+epp56iQoUK/L7wF3K0aolX/ryxx29odpGkCID9WZwpeVvTmp3svDLRBrfNOJIYJdsiN6lFixZ8//33eHl5cfLkSeqWqMvvb/4eO2iDSNdjGM5gjrfcGa0kp3LlyrF27VqaNGlCjx496Nq1K+Hh4dcsOywiklGFhoZSq1Yt5s2bR9se3Sn15Ufk6fQUnjlyXNHulubOjiMqKopX/36VsqFl2YTz/9piFLu2oZtmHEmMkm2RZHBk5xGOHTxG/Yv16U53znP+ygahOAl3iDuik5SQM2dOfvzxR1577TWmT5/O9NWrCAoPA5Lvl4uISFry33//MXToUKy1+Pn5MWPGDPbu3cuJx1oS4Z8t3nOSo3f79OnTNG/enHcmvEOXu7tQzjeBMhQ3zjiSGCXbIsmg0s5KbPbbTF/68imfUpGKTGXqlY08cGq5k2LZMi3Vng54eHgwYsQI/vvvP/4XfZHQqEguHTqS/B+dioi40X///UfHjh0pV64c7733Hjt27ACgadOm/Ev0zc8ukgT//PMPNWvWJDAwkE8//ZSPVn9ElqFZ0tyMI4nRAEmR5BAEfhf9GMc42tKW7nTnJ36iIx0BiCIKz3BPtywTKynvP29PgsLDuLByNSfeGU/Otq058mRbAo8H0bBgGiseFBFJolOnTvHyyy8zffp0smbNSt++fXnllVcoUKBAbJtbml0kCWbNmkVYWBi///47tWvXdnYOAnoC80gzM44kxqTnnpcaNWrY9evXuzsMEWep2BeJLROxWIIJJgc52MY2mtKU/ln689yk5/B7LgmL1bz7rvPYv39KRSzJxFrLA4GL2HMhmOjQME598gUXApeTtXw5agwdxB/tntbMJCKSJiU0g1JYWBi+vr5cvHiRypUr07JlS/r37395QoDkdtUsXlEPR3HgzAFKlixJVFQUp06duiLBdxdjzAZrbY0bPU9lJCLJoRUQdfmpwZADZ5BIBBGUoAR9IvpQcnBJxo4dS3BwcOLX+/lnZ5M0L2YRBwAPP1/yv9yTfC/3JGLvXlY934NR30y9zhVERNzj6hmUdu7cSadOnahQoQIXL14ka9asbNmyhbFjx6ZMoh3PLF5ne5ylZd6W1Klch7NnzuLp6ZkmEu1bkWLJtjHGxxiz1hizyRiz1Rjzpmt/SWPMGmPMLmPMTGNMlqvOa22MscaYG/7LQcRtsgNDcQZnXKUKVVjut5zfn/+dSpUrMWDAAMqXL09ERERqRynJLGZp4tCoyCv2+zeoR+Hx7+AVUJCZu/5T7baIpDlxl1Z/7deFdO7cmXLlyjF79mwee+yx2N9RXl4pWHF81dLrWyO3UvNCTZZEL2FY+DByfZwr5e6dilKyZvsi0NBaG2KM8QZWGGMWAn2B8dbaGcaYj4FngY8AjDHZgT7AmhSMSyRlxAzKGIGzwlU4znyfUcBrUG9gPRabxaxevZqtW7eSJUsWrLV8/PHHtG3blrx58yZ0ZUmj4i47fLWshQMoMnYUFzw9WH7iGEd+C6Ry5cqUL18+1eMUEblazKdyF/fsY1XfgfyVNQt9+vThlVdeISAgIOUDiFl63flgkLnMpSMdyUY2Agmk7qW6TiLeizRbi51UqVKzbYzxA1YA3YH5QIC1NtIYUxsYZq1t4mo3AVgMvAL0t9YmWpCtmm1Jk4JJ8qCNf/75h0qVKpEtWzZ69OhBv379nI/q6td3GmhGkjRt34UQFhw5eN12jfLk54EqVTl16hQTJkzg+eefVx23iLjN1q1baTdzOhdqVsVay/m5P1GhRTOWt26fev9vumqsUytacZSjzGEORXCtyuwPTAY6pE5I13OzNdspOhuJMcYT2ACUBiYBu4Gz1tqYz1wPgfOOGmOqAcWstfONMa+kZFwiKSo7Sf4fw1133cWWLVsYPXo048aNY+LEiXTt2pV3vbzw9vZO0TDl1t3IssPr1q2jQ4cOvPDCCyxZsoRPP/2UXLlypWyAIiJx/P3334waNYrvv/8ez9y5KPL5JIyXFzkfe5jTnp6pO4NSECwPW04RilCKUnzBF/jhhw8+l9uEkyFm8UrRAZLW2ihrbRWgKHA3cGd87YwxHsB7QL/rXdMY09UYs94Ys/7EiRPJGa6IW1SoUIHp06fz77//0r59e+bMnk1kWBj8+ScX770Xjt3c3KSStgQEBLBo0SLeeust5s6dS7VChbiQPTvUq6fvsYikqC1bttC8eXOqVavGkiVLKP7UExT6YCwmTj12aq4PEBYWRt+lfakfVZ83eAOAPOS5MtGGNLn0+s1Itan/jDGv41TmvMpVZSRAW5xe75j19QKA08DDiZWSqIxEMqKwunXxXbsWGxnJOiCHtze3Va2Kn68vtG0LPXpAaCg0b37tyZ07O9vJk9CmzbXHu3eHdu3g4EHoEE/3e79+0LIl7NgBL7xw7fHXXoMHHoCNG+Gll649Pno01KkDK1fC4MHXHp8wAapUgSVLYOTIa49/8gmULQs//QTjxl17fNo0KFYMZs6Ejz669vh330G+fPDVV852tQULwM8PJk+GWbOuPR5TtvPuu9fOBuPrCwsXOl+PGAG//Xbl8bx5Yc4c5+tBg2DVqiuPFy0K33wDwNH8+Yk6eZKiAF5e2Fq1MH/8cW08IiI3yVpLWFgYfn5+/P333zRp0oSXXnqJio+3ZtDObdcM7Abw8/RkYvXaKdq7vW7dOjp27Mj27dvp4dmDt6Pexj+hWks/4BhppmY7zU39Z4zJb4zJ5fraF3gQ+BcIBGKygE7AD9bac9bafNbaEtbaEsBqrpNoi2RUvv/8A5GRRAF5gOOXLrF27Vq2/fsvR44ccXd4kgwKnTvnJNrAsshIGq9ape+tiCQLay0///wztWvXplu3bgBUrVqVgwcPMmjQIN4/uDfeRBtSvnc7Jq6QkBB+/fVXJo2YhL9fIol2Glx6/WakWM+2MaYS8DXOvAwewCxr7XBjzO3ADJw84m/gaWvtxavOXYYGSEpmVa+e0ysaGQleXhyrXp3x9eszadIkQkJC+PPPP6lTp467o5RbUa8euHqyZ3p48Azgmzs3X331FQ899JB7YxORNC2hhWiioqKYM2cOo0ePZtOmTZQoUYIhQ4bw3HPPxbb5/XgQXdb8QWJDIC0w5Z77uL/ATcxIctXiNLQCssOlS5fw9vbmwoULvPnmmwwePNgZs2Jxpv+LbxavoTizfKWhseQ327OtFSRF0ppjx+Dxx51SjSpVYPZsKFiQ06dPM3XqVHr37o2HhwczZ86kePHi1KpV69prJPA/PEkjjh1zymVCQqBOHbaPHs0TPXuyadMm+vTpw9tvv03WrFljmyf0y1VEMp+lx47y7NoVfHH3vVeUewwfPpw33niDsmXLMnjwYNq3b3/NQPukzqDUvHAxStzI8uoJJM2RkZGMrTeWb49+y5o1a/D19Y3//BuYxcudlGyLZCLR0dHceeed7Ny5kwceeIDXXnuN+++/P931EmRqV03vGB4ezquvvsoHH3zAlClT6Ny5c2zThH65iiTkyJEjdOzYkfnz51/xh5ukb9ZaHghcxJ4LwZTwzkrbvYepXLkyderU4dChQ6xcuZLWrVvj6emZuoGNwZkTO/Tyrh3soBOdWMMaHq/4OJ/+kf5nYEpzNdsiknI8PDz466+/ePfdd/nnn3+oX78+9erVY33P9VesxkWk6zEMZ/9bbgxaEuXj48P777/Pn3/+SceOHQE4cOAA0dHRsau8pdZMAZL+/fvvv3z++edKtDOYwONBHDl7hnM//MyKp7vQo0cPZs6cCUDRokVp27Zt6ifaMYvTuBLtaKJ5n/epQhV2spMZzGDWnlnk8sqVunGlIUq2RdIpf39/+vXrx969e5k4cSJ79+zl0ueXIBQucAHLVUlZKE7CHRLf1STVtW3rbFepU6cOHh4eHDlyhMqVK9P48TYcPn0KgKPhoQQeD0rtSDMET09PqlSpQsWKFXn88ccJDXUyg0OHDvHII49QpkwZSpUqRZ8+fWKXqV62bBnGGH766afY6zz00EMsW7aMVq1aUaVKFUqXLk3OnDmpUqUKVapUYeXKlURERPDSSy9RunRpypQpwyOPPMKhQ4cSjG3jxo0YY/jll19i982dOzf2mjGbh4cHCxcuZN++ffj6+l5xbOrUqQCcO3eOjh078sILL9CoUSM6duzIuXPn+Oeff2Lb5smTh5IlS1KlShUeeOABwFnkpGHDhpQtW5YyZcowYsSI2D/svvrqK/Lnz0+VKlUoX748n332WWyc8+bNo1KlSpQrV4677rqLefPmJc83TK5hraXbiOH81/kFznwxFa/Chag6djTjx493b2BzcT5JdYkmmv/xPx7gAbawhXa0c7LNue4KMA2w1qbbrXr16lZEHBFfRFjrb63F2q50tZWpbKcz3YYSevmnxt9aO9W9cUrSREZG2uHDh1s8PKxXQEFbaOwoW+LHWbbRbwttdHS0u8NLd7Jlyxb79ZNPPmnHjRtno6Ojbc2aNe2XX35prXXe82eeecb279/fWmttYGCgLVq0qL3nnntiz23RooUNDAyMfR4YGGhbtGhxxb369etnn3nmGRsZGWmttfbLL7+0NWvWTPD7NmDAAHvvvffajh07Jhj/J598YuvVq2ejoqLs3r17bYUKFeJt17p1a/vGG2/EPn/99ddtmzZtrmjTqVMnO3v27NjnoaGh9vbbb7eLFi2y1lp74cIF27RpU/vhhx9aa62dMmWKffHFF6211h47dszmy5fPBgUF2Y0bN9pSpUrZPXv2WGut3bNnjy1VqpTdtGlTgq9DbtyuXbtsRESE/S3oiC3QpYP1vbuGDXhruC3x4yxbfv4c+1vQEfcG+La1Bz0P2md4xh7jmLVYe4YzNproy797vJx26R2w3t5EvqqebZEMwvukt1OjDdzP/YQTzlM8RQABPM/zrGFNhlmNK0MIDXW2BHh6elK363OUeHsENiqKo6++xukvvuZIaIh6t2/Rfffdx65du1i6dCk+Pj506dIFcN7z8ePH8+WXX8b2fFeuXJmcOXOyePHiJF07NDSUKVOmMH78+NiP87t06ULWrFlZunTpNe2ttcyePZuvvvqKxYsXEx4efk2b//77j+HDhzNt2jQ8PBL+tb1r1y42bNjA0KFDY/e9/vrrrF+/nt27dyd43v/+9z/q1q1L48aNAfDz8+PDDz/krbeurTsrUKAApUqVYv/+/bz77rsMHjyYkiVLAlCyZEkGDRrE2LFjE7yXJN3atWt5/PHHKVOmDLNmzWLU1k34PvoQBV8bgE95Z43A1FyIJj6hoaEMXz2cslFlmc50VuGsL5CLXJi4A4QyyOI0N0vJtkhGEQAxi289yZNsYxtLWUorWvEt3zKd6eAD0QWj2b9/v1tDFZxFieJbmMjFWuvUapctQ5GJ75K9yYNEnQ8mzFrVbt+CyMhIFi5cyF133cXWrVupXr36Fcdz5MjBbbfdxq5du2L3DRkyhJHxLcIUj127dnHbbbeRI0eOK/bXqFGDrVu3XtN+5cqVlCxZklKlSlG/fn3mz59/xfFLly7x5JNPMm7cOG677bbY/bt3776ijOSPP/5g27ZtVKlS5Yqa3ZjymfjuHSO+96FUqVKEhIRw/vz5K/bv2bOHPXv2ULp06XjPS+h1isNay6KjhxP8+bXWsmDBAurXr88999zD4sWLefXVV8lyVwWCwsPinY0oxcrLgoGpwDuux+ArD8+aNYty5crxxtw3aOHZgu1s5xEeif9a0TgzjGRSSrZFMopWOLOOuHjgQQMa8BVfEUQQQxkK0bCi4ApKlChB/fr1+fLLL6/5ZSppQ+DxIILCwwDw8PMjb/fnyNenBwB7/91G86ee5PTp0+4MMV0JCwujSpUq1KhRg9tuu41nn302yefWq1cPgBUrViR7XN9++y1PPPEEAE888QTffvvtFceHDh1KhQoVaNeu3RX7S5UqxcaNG2O3++67L9lji2vmzJlUqVKF9u3b88knn5AnT54UvV9GFXg8iG7rV16THMck39ZaXnnlFXbv3s24ceM4ePAgo0eP5uOTQam3EI3FmV2kIPAiMMT1WNC133Wb77//njx58rBs2TJmjZhFCb8S8V8vAy1Oc7OUbItkFNlxpvfzu/aQP/7k98sPr0GZymUYOXIkR44c4dlnnyUgIICnn36aEydOpHbEkoCYXu2rf7kaVwnBuX93sGim06s0e/Zs9XInga+vb2xiOnHiRLJkyUL58uXZsGHDFe3Onz/PgQMHKF269BX7k9q7XapUKQ4cOEBw8JXdgBs2bKBChQpX7ItZhGT48OGUKFGCXr168csvv8Seu2zZMubMmcOHH36YpNdYvnx5Nm7cSHR0dOy+6OhoNm7cSPny5RM97+r3Yc+ePfj7+8f20Ldr146NGzeyZs0aWrVqleB58b1OccR+WsXlmYXOnTvH2LFjueuuuwgODsbDw4OffvqJPXv20LdvX7Jnz87yE8fYeyEYD0hw23MhmOUnjiVPoG8R76xWQWFBPDf0Oba8tAWATz75hPXr1zvTzg7ESah9cZJqL9ejr2v/wOQJLb1Ssi2SkSThf3iFChViyJAh7Nixg1WrVtGpUyfWrl1Lzpw5AVi8eDHbtm1z0wsQ4Lq/XHM2eYBC771FroCCtG3bllatWnH48GF3hpwuNWrUiNDQ0NiZPKKioujXrx+dO3fGz+/Kv1obN27MmTNn2Lx5c6LXzJYtG506daJv375ERTkfNU2dOpXQ0FAaNmx4RdvffvuNSpUqcfDgQfbt28f+/ftp3bo1c+fO5cyZM3Tp0oWpU6eSPXvSVqQqXbo0VatWveKPgpEjR1KtWrVr/niI66mnnmLFihUsWbIEcD4F6N27NwMGDEj0fv3792fMmDHs27cPgH379jF69Gj69euXpHgzm7ifVh04dJAner5IsWLFGDBgAAULFozt8Lj99tuvWIymeDZ/+t9ZkX6JbP3vrEjxG1mEJiFXTeMHcJGLvM3b3MEdTI2aytqP10II5MyZ83LJkgEGAceAycAo1+Nx1/5Mvr6Dl7sDEJFkFPM/vJ5cdzUuYwy1atWiVq1aWGsxxmCt5cUXX2Tnzp3UqFGDTp060b59e/LmzZu6ryOTi/nlmqg7K9K48/PM/fQzXn/9dT777DOGDRuWKvFlFMYY5s6dS48ePRgxYgTR0dE0b96c0aNHx9t+yJAhPPJIAjWpcYwZM4b+/ftzxx134OHhwZ133sncuXOvqbf99ttvY3uJY7Ru3ZqPPvqIw4cPc/z4cbp3737F8UGDBnHPPffE1mzHeOaZZ+jduzdffPEFvXr1olSpUgDUrl2bL774ItF4fX19+eGHH+jVqxcvvvgiUVFRdOjQgZ49eyZ6XpUqVXj77bdp2bJl7HLc77zzzhVxiSPup1WRx0+wr1tvdkZbnmjblldeeYVq1aoleG6JbP70KFMudQK9ahq/n/iJl3iJPezhYR7mXd6lTJYyTrsO8ZyfPYH9mZxWkBSRKxw7doz//e9/fP3112zatAlvb29GjRrFK6+84u7QMpavvnIe46wUebN2795NkSJF8PHxYfXq1eTNm5cyZcrc8nVF5NZdvHiRN7/4nC/WrsKvtfPH2vkfF5Cn9t180uLRtLUq7DtwbvA5/KP88cSTIQzhB35gPON5kAedNl44PdeJf/CRIWkFSRFJFgULFuTll1+OrW/t1atXbE/V7t276d27Nxs2bFCd8K3q3DlZEm1w6oR9fHyw1tK9e3cqVarE22+/TWRk/AOqRCTl7du3j0GDBlGsWDHGvNiTM8v+wLpKi3I83JzI/PnS1MxCO3fupNfiXhSJKsICFgAwmMFsZOPlRBsy/TR+N0M92yKSZDNnzqRjx45ERERQoUIFOnbsyNNPP03hwoXjPyEY5+PGIJypCVvhfMwocPKk85gvX7Je9ujRo/Ts2ZPvv/+eqlWr8sUXX1C1atXY49Zafg06QuOAwvFOIyYit+7zzz+na9euGGOo3aQxB+vejalYPnaQcww/T08mVq/ttt5tay1Llizh/fffZ/78+WTJkoUnop7g1ahXKU8Cg2r9cGqzM+HsIurZFpEU165dO4KCgvj444/JkSMHr776KqVLlyYkxFkDPvaP9yROHZWptWnjbMmsUKFCzJkzhzlz5nD06FFq1qzJ2rVrY48nNPWYiNy8kydP8s4778ROD1m/fn2GDBnC3r17ydq/Dx6VKl6TaIP7FqWJuV90dDTPP/8869atY9iwYRw4cICvR3xNeb9EEu1MPo3fzVDPtojctJ07d7J+/Xrat28PQLNmzShSpAidPDpx7zf3YsLi6TmN+Z/1oFQNNe2pX995XLYsxW5x5swZPv/8c/r164eHhwcnTpzgiX82sOdCMKWyZWdxgybq3Ra5SdZa1qxZw+TJk5k1axYXL17ktddeY8SIEbFtfj8eRJc1fyQ6GYcFptxzH/cXCEjxmA8dOsSkSZP44Ycf+Pvvv8maNSvbtm2jVKlSZM2a9XJAb+HMSuKJs/KwD846DkNxZr3KpP/buNmebSXbIpIsLl26xAsvvMCsWbO4cOECJSlJRzrShS4Up/iVjTPxx5CxUiHZjuvIkSOULV8er9p3k6PTU/jnyO7Wj69F0ruWLVvy888/kz17djp27Ej37t2vmWN834UQFhw5eN1rNS9cjBLJMXVfPKy1rF69mgkTJjBnzhystTz66KNMmjSJgIBEEvxgrjurVWajZFtE0oQLn13g+17f8/XFr1nKUiYxie505wQn2MpW6lCHLP5ZnDlYM/MUUamcbF+4cIHyz3TiwHff45EjB7mfbEulRx/htweaq3dbJAm2b9/O1KlTefPNN/H29ubzzz8nKiqKJ598MslzobvD2rVrueeee8iZMyfPPfccPXv2pESJEu4OK11Ssi0iacM7ODXakXCAA+QiFznIwWd8Rle6kp3sNDKNaNaqGc0mNKNYsWLujtg9UjnZXnrsKL02rObMjv84/flXXNy2nay3FWVO4DJa3F4qVWIQSW8uXbrEjz/+yOTJk1m6dCne3t6sWLGCu+++292hJejEiRN8+umnREVF8frrr2OtZfr06Tz66KP4+2fyrulbdLPJtha1EZHkFYBT3xcCt3Fb7O4neIICFGCh679538+D7515vQsUKMCRI0fImzfv5brBjO6qxUpSUtwFNbKWvp2AMW8SumYdETt2MX7fTpqXvJ2DBw9y2223Xf9iIpnEvn37qFu3LkeOHKF48eKMGTOGZ555hgIFCrg7tHht3ryZ999/n+nTp3Px4kVat24du2DZ008/7e7wMjX1bItI8grGmXUkLOEm1teyffl21mxZQ2fXXNMtW7YkMDCQhg0b0qxZM5o1a6aPOpNJTK92aNS18277eXrS1y83LzzwII8//jijR4+mZMmSbojSPUqUgP373R1F+lW8OLhWa0/3rLUEBgZy5MgRnn766diZOlq1akWzZs0uL02eBo0dO5YBAwbg6+tLx44d6d27N+XLJzCjiNw0lZGISNoxBhgJhMZzLIHZSBYtWsSPP/7IwoUL2bt3LwCPP/44s2bNAiAyMhIvrwz0YdxB16CpFC6jsdbyQOAi9lwITrBNcePJvav/4r333iMqKoqePXsyZMgQ8uTJk6KxpQXGQDr+Neh26eH9u97c8mfPnmXq1Kl89NFHbN++nTJlyrB9+3Y84pmqL1UkYX2C8+fP8+WXX1K/fn2qVKnCli1bWLBgAc8991ym+Ll1F82zLSJpx0CchNoXZ/S6l+vR17V/4LWnNGnShEmTJrF792527NjBhAkTePjhhwEICwujYMGCNG/enIkTJ7Jz586kxxIMTMWpJZ/qep4WdOjgbCls+Ylj7L0QjAckuB2wUTzYuyc7d+7k6aefZvz48dx1112Eh4fHe01rLYuOHk4zK9+JJCaxueWnTJlCkSJF6NOnDzlz5uTrr79m06ZN7km0k7A+wa5du+jTpw9FihTh5ZdfZt68eQBUrFiRAQMGKNFOo9SzLSIpJ5mmjjp58iTDhw9n4cKF7Nq1C3CWKP/www9p2rRp/Cel9bliU2mA5M1MPfbPP//w999/07FjR6y1LF68mAceeCA2AVl67CjPrl3BF3ffm+6nDkwPPbNpWVp//+J+slMqW3Z+qn0/3333HTVq1KBcuXKsXbuWTz/9lO7du1O9enX3BnudTwQ7le3EtI3T8PLyom3btvTp04eaNWumcpCZm8pIRCRT2LVrF7/88gu//PILw4cPp1q1aixcuJAJEybQrFkzmjZtStmyZTFvmRsuZUlVqTwbyc1atmwZDRo0oEaNGowdO5b777//iuQlvS+Mk9aTxbQurb9/MeMVzh0+TPii37gU+DvnT59h8ODBjBo1yt3hXRbPWJcwwpjHPJ7gCQyGMd5jCOsbRvc+3SlUKH3/kZteKdkWkUzru+++47XXXmPHjh0AlChegmaHmjE2aizZyBb/Se5eWCedJNvR0dFMnz6dIUOGcPDgQWo9+AAnHmtJVJFC+Hl6pvuFcdJ6spjWpeX3L6ZXe82wEVxYsQqMIX/d2vzv9WE0atQobf2ROBV4Ec6HnGcJS1jIQuYyl1Oc4nd+px71nP9XZfb1CdxMNdsikmm1adOG7du3s2fPHiZPnkylPJX4Lfo3/PADYAITGMMYAgkkOKZo2wNnEJIkysPDgw4dOrBjxw7GjBnDupUr2ffam9jISEKjohi9dZNqtyXNOHfuHFOnTuW5555j6bGjBIWH4VWkMDnbtaboF5PJP7AvHndVSDOJtrXWGRsRBBvDNpKXvLSmNbOZTSMaEUgg93Gf0zgcpyRP0p0MNLRfRDK7kiVL0r17d7oHdyd6czQmyvmFupCF/MqvAHjgQQUq0Da0La8dfQ0gdi7aVNWvX+re7xb5+vpyd5dOlCpeiPMHDmC8vLCXItnw9rt8GBpBr4cedneIkkmFhITw008/MXPmTBYuXEhERAS33XYb25s0JNTHm9xPto1tG/MHYoMCAW5LuENCQvjtt99YuHAhCxYsoG3btrxb6V0q+FTg1Quv0pjG1KY23nhfeaIPztgXSXeUbItIxhMAHr4eEOI8XcQiTnGKtaxlDWtYzWrOep6FQk6ZRIkSJShTpgz33HNP7BYQEJCyMbZsmbLXT2YxC+NE+PvhU/5OAC4dOsT5lavp/etv/K9WLfr27UurVq0y1hSNkiaFhoZy6dIlcubMyS+//MKTTz5J4cKF6dGjB+3ateNCidvo/dcaiGdu+aPhoQQeD3JL+VPbtm354YcfiIiIwN/fnwcffJA6derAg+DdzZuRjEz45GicQeaS7qhmW0QyniQsrBNTsx1CCAMHDmT16tVs2rSJyEjnl/Po0aMZNGgQYWFh/P3331StWhVfX99biynu3LkVd0A2oGzZm79mKkpoYZzo8HAiApfjsXAJR/bto2TJkixfvpyiRYsmer3rzX2cWtJyzXF6kJrvX3h4OAsXLmTmzJn89NNPDB48mCFDhhAWFsb69eupW7cuHh4eSZpbPqUH94aGhhIYGMiCBQvYuXMnv/7qfLI2cOBAoqKiaN68OXXr1iVLliyXT7qJ9QkkdWm5dhGRGNlxpve73i8uf/DHnw8//BBw5vP+66+/WLNmDffd59RJrlu3jvvvvx8vLy8qV65MrVq1uOeee2jWrBn/b+/O46Oq7v+Pvz5ZSdgVhAAhIIgEkUVccCEGiFWo0roA+nOvVhRttaL4rShFq7QVqqIVwX7160bVSqtSRVCQTakgWAISpCJbwhZAIIGEmOX8/pibOCaTZIBMZoD3k0ceZO4998xnhkvymXM/95wWLVrUHkt1UxAWjIAU4Nv54Z2CMAj+y71XFtWgAQ0G/YSTL/85z+YXMWPGDNq2bQvAzJkz6dmzZ8Vjf+VzHx8L0wdKaDnnuPXWW3n77bfJz8+nRYsWXH/99Vx00UWAr8Sp/P8r/Hhu+eqsP5DPwp07uPCkur2CNXv2bJ566inmz59PUVERiYmJDBw4kIKCAhITE/njH/9Y/cHl6w8Emq60mvUJ5OigkW0ROTbV0Tzb+/btY/78+Xz++ecsWbKEpUuXcuDAAT777DPOO+88PvvsM+bMmcM555zD2WefXXVRiWpHq9J9N2k+Nj/iR6sW5G7n5iWLany7HPB/5/SrSF6Kiopo06YNeXl5XH311YwaNYpevXr52laa+zic0wdqZPvIHM77V9tVjeLiYubOncvy5csZM2YMADfccANxcXEMGzaMAQMG1FiqdDhzy1cIYvXGcoWFhSxYsICZM2fy61//ms6dOzNt2jR+//vfM3jwYAYNGkRaWhrx8fG1xlIlhnc54vUJpO5p6j8RkUDq+BdXaWkpWVlZdOnShfj4eCZOnMjo0aMrZuQ45ZRT6Nu3L5MnT6aRa1RDOUu676/E+eGdgjAIh5u8bNiwgUmTJvHiiy+yf/9+BgwYwIQJE9jbNqmiJCXc0wcq2T4yh/P+BVoUqaSkhAULFvDWW2/xz3/+k927d9O0aVM2bdpE06ZNQxB5JUF+OM/Ly+O1115j5syZzJs3j8LCQhISEnj99de54oorwnOztdQbJdsiImGSn5/PsmXLKka/v/nmG7766ivsNWPkLSPJLMmkL305h3PoTnc605g4Tgf2Q9R5MOltuKtVuF9GyOzdu5cXXniBZ555hnfffZcH8naxOyuLp/4yhbM257C+88mc/tEcLNQ3pQagZPvIHOr7539V4+SEhszsN5D4+HimTp3K7bffTsOGDRkyZAjDhw/n4osvpkGDBqEL3l81V6CKKGJR/CKir4um///2Z8+ePbRs2ZIOHTowePBgBg8ezIUXXnhk93PIUUPJtohIpHkCJv52Iu+UvcOXfMlBDgLQk4as4AAAW4GomAQa9kglMTGR6GuugZEjoaAABg+u2udNN/m+du2Cq66quv+OO2D4cMjOhusDrH4xapRvJpS1a2HEiKr7H3oIMjJgxQq4556q+8ePh/POg8WL4cEHq+5/+mno1QvmzIHHfjyzgnOOJeMf45Z9uxg+9FrSCwp5FrgqyujX50zaLF1atb8QU7J9ZA71/ft4Sza3vfEauxd+SuFnn3P3Q2OY+JtR7Ny5k4ULFzJo0CASExNDF3AglW6o3sAGPuIjZjKTuczlAAe4KOoiPtr3ETSCnJycWm8AlmOTbpAUEYk0reG+xPu4b/99FFPMV3xFFllEcWtFk01AUUkhfPklAB9/9RVR27bx+9/6Crnz8vJokJBAXGxsoGc4NKXAJ8AafJfNS/FdMq8vZjy/bi0FJzTlZ98XcwpwD3BBmaPxF19w67338uSTT9baTaTMZCLBKykp4corr+SDuXMoPVAAsbEk9unNPFeKc46WLVty5ZVX1mtM+fn5rFq1isypmWwv2c4jPALACEbwMR/TgQ7cyI0MYhD9E/r7armvR4m2HDKNbIuIhEq1UxCmAf8GSigmmnW9erHm4QdZs2YNa9as4ayzzuLuu+/m4MGDNGzYkLKyMlq0aEFqaiqpqakMHTqUjIyMijrxWhPOOrpZ9Ej5Tx/41v+M5cysrzFgthlTmjah8c0389qTT1FWVsbo0aP56U9/SlpaGtHR0VX6qVzze7g0sn1kKr9/zjmysrKYN28en3zyCYmJibz++usAnD/oEtaYI+b0biSc0YuoxMR6qdkvKytjw4YNnHzyyZgZzzzzDJMmTWL9+vUVbVrQgq1sJZZYlrKUxjSmK12x8v8YMcDjwOiQhSlHAY1si4hEmmqnIHwbGAqsIDalF6mz3ia1VdWa7aioKN5///2KJHzNmjVMnz6dU089lYyMDDZu3Mjpp59O165dKxLx1NRUzj//fE466aQfOvqjF4N/0u8t+FOxhkaIZ0SpPH3gnQ/cy9w77qbhwSJO6NqFLQ/cS9N2yTjnWLduHVOmTOHPf/4zrVu3ZtiwYVx99dX07dsXgMdXZwKEfSXAY9XhXjl45JFHmDx5Mrm5uQCkpKQwZMiQij4b3H8PTSvNfV2xomNCa+xdC2oWkNps3LiRDz/8kMzMTFauXMmqVavYv38/GzduJCUlhWbNmtGnTx9+8Ytf0LNnT3p+05N2D7fDDvhe69mcXbVTrd4oR0Aj2yIioVTHo8rOOUpLS4mJiSE7O5uJEydWJOI5OTkAvPXWWwwbNowvv/yS8Y+OJ/WDVFJLUkkllVM5lUQq1cR6C/yEckaUQNMHTntwHADXjvf97T99YEFBAR988AFvvPEGM2fOpKioiFmzZhHbqwd3fb6IAoOGMTFHPCqqke2qartysGnTJj755BPmzZvHa699xoEDq0hMTOTpp59m+fLl9O/fn/79+9OxY8cf9RloUSSAxNJonp1wLgNWJgX9/6N8tLo8oc7MzGTs2LH07t2bN998k2uuuYZmzZrRo0cPX0LdsydXXHEFzZs3r9rZISyCFcmzBknoaWRbRCQSGb5R47uokykIzaxijuHk5GQmTZpUsS8/P5+vv/6aTp06AbBz505Wfr6Sd0reoYwyLxxjOcvpTW8WsIAZzKBdSTuSf5tM8nXJtGvXjqSkJKKialoS5NClNGzEfV27QxGQBeRDcllDSIRRXbv/qB1AYmIiQ4cOZejQoezbt48ZM2aQnp7O4M/msXXamxxYtJgGp6Vy1xmf8a8RIytKBILhP3Ib8SsK1bPyKxDww5UD8J13s2bNYuTIkWzYsAGAli1bAuns2bOHxMRE7gl0Qy01L4oEUBBdyvhrM+m/uLWvbKPSVZf8u/JZuXIlSUlJnHzyyaxYsYJ+/fqxf//+iti6dOnCrl27ABg8eDCbNm0iOTk5uHPiEBbBEjkcGtkWETmWPQFFDxbxTek3rPH+3MVdnMAJ/IW/MJrRFFYa0tuyZQtt2rThlVdeYdasWbRr147k5GSSk33JeJ8+fQ49GQ80wh89GcqAR0YGNcJfPjq6c8FCDiz8jIOrv6Ys31eW0L17d1auXImZsX37dk466aRqY/QfuR3YOumoHtmuk5tF/RZy+aTdNu4o+5A9q1ZR8lUWjf77LZOemMDll19OZmYm48aNY8CAAfTv35/TTjuNqCir9f2rcVGkUu91GLw07gLSVyRRSCF/4k9kkkmmZbLB+ZL7sWPH8sgjj7B3717Gjh1bMWp92mmnHfkMJhFyX4NENk39JyIiVb0K3MkPo4WVOBzfNfyOnN/mkN0zm+zsbG677Taio6OZOHEiU6ZMIScnh6KiIgBiYmIoKioiKiqKhx9+mAULFlQk4snJyXTs2JHBgaYsrHYlTX4YOayhbtx/fuaKbWVlFOdsofE367mlbQr3338/AN26dWPHjh3069ePtLQ00tLS6NWrFzExMT9evbK0MXMvvwT3CodUI1wXCa5zjo82bOUnn7bBttth1ykf7s2izjm2bd1G1tgsmk9rTp/YPuws3EnbhM4U788DwBISOKFHd958bDwZGRkB+wmmDOebvXv4+6oVlBaX0CLZN5PHrOensGtFDvu+zmVfwU72FeZySfRg3i58nTLKaE5zkkiiZ0xPevy8Bz1u6MFZZ51F61DPxa7VG6UGSrZFRKSqOqhHdc6xa9cusrOz2blzJxdffDEAEyZM4F//+hfZ2dls2bKF4uJiUlJS2LhxIwBXXHEFK1euJLlNMsmLk0kuTaY73bmGa4Ad5HIpCayhEb2xhOmQ26raGGqs+fWb0cI5x6uvvsqCBQtYuHAh3377LQA333wzL730EgtXZvLNz35GxvYd5KZ04NK189nRqNUhjWAe8WwoDj75yzZu6fApLz5xAQM+TzqsUdRglr13zpGfn0+TJk0AuOOOO8jMzCQrK4t9+/YBcCM38jIvM7fPVoaeeAskt6JB1y7EdT6ZhnFx1dbF++4dyGXZsq1s3boV51zFDZG33347S5YsYdu2beTm5uKcY+DAgcyZMweA1NRU8rbm0SavDeV/LuACruVaAL7ne+KI0ywgElGUbIuISGBHOKocjLKyMnJzc9m7dy9du3YF4Mknn2Tp0qXkfJlD9rpstrgtnMu5LGIRkMZSFtEFyMSXU8XENqB5yxPoMmYMjBzJuNGjueHNN4mOiWHH999THAUWF88/L72EfwxMp8nWbUx9dgqYkRAdTY9mJ/hyVL+FfYqGD2ff3r3Ex8fTpGlTvluylJsOFvI+0BRoRSN6MoiRjCQ9MZ2DDxwk96Zc2rZtW2XKQQguwa2N+4Mjo/ls1rfNp1N2Yz6+8+KKKeamxU5jTMMxbN63mfbt2/P4449z7bXXBuzH/wNI+QcOVq9h2bJlZGVlkZWVxZo1azjnnHMqkty0tDSioqLo1rkb3V7tRrfibnSnOy1pScZzs1mf7LtyUJq/n5Kduyj97jtO2F/I1U2aU1xczGPeQkXDhw9n+vTplJWVVcTTpUsX1q5dC8CIESMqypGSkpJo06YNp556Kunp6RXvo71mNV51AXwfviYDAdZnEqlvukFSREQC+x/v70D1qA/57T8CUVFRtG7d+keX+e+9917fN08AY6C0pJR8ystAVrAe35X69kAxRklcE+Lj4yuOf/fdd+mfk4P/oFB0s6ZEAVHA1l+N4mBxCUQZRVHRLI2Lo03r1iTjS/4fe/RRbti2jZiYGMqcY2/BQZoXHWQasA/f54/1FLA4fjlXF30HBbBk/BLSf5dOXFwcHTp0oFOnTnTq1Ik777yTrs2bs+2yy3hj1So2ntyB+x68n3m52w9tdDsf5r2/ne13+y41bGtRwLwztzNgWRLTmMZtxbdRsNf3qWjTpk388pe/ZOPGjYwZMwaA2bNns3z5cnbv3s3fVq9i3549gOPEkbfx0Mcfkvjy35g7dy6tWrUiKSmJtLQ02rdvz9SpUyksLGTOnDnExcXx3j3vMcvN4gu+oIACspvuYeWzWznpT+MwM/a89Cr7584HIBcYh28qv/Jk+6KLLqJLly489lgb3n23DW3atKFt27YVL3Pq1Kk1vg1m5ivRuL2W96sMXzuRo5hGtkVEjhfhqkcNWDf+w8I+EANR58LLC6uMYDrn+HrXTt5Zu4aCvH3ExTegRXvffNwLXptGQV4eBXl5FObl0fj7Yq689DJGjBhBXl4ebdu2rZixotwDMTH8oaQEByz02x6F8Q5xtIh9mKSrm3L+nPHs2LED55xvjuj4eD5wjn3FxTzrHDH48kAXE0N8TAx9+/alefPmnHHGGcydO5eSkhI2b95MbGwssbGxpKWl0bhxY3rm9+R32+awO2YPRd98C8XFxB4o5d6c63iap8kjL+Bb2KdPHw4ePEhqairTp08nJjaWkuLiKu0mzXiPG/qlMXny5IoE3d/OnTtp0aIFj/7kUZ77+DkSSSSBBHKSiyk+MZGTxowmKj6Og1//l9Lv9hB9QnNiTjyBU9q2Y+5PLq0yin/EUyfWw1UXkbqiMhIREYlMAevGd1C+sA/0goS3a6zZPlwlJSXs3buXD9f9l98t+pSZD4+la1ERJcBWoARjW4sTab4vjqzirrSMHsuF486iaGYGG9avr0i2y5xj7u7dJDjHLmAj8AGwo1lTGkVFk9zGd7PkZZddxqeffsrOnTtZt24dZWVlOOcqVgI9t9slzPniH4f8OgYNGkRiYiLjxo2jc+fOXPDX51m3aBEWH4/Fx2FxcUTFx3PagP7Mu/QKcnJy2Lp1KwkJCSQmJlZ8NWnSxDdLi98HoAW9t3Pz7xZhgdKBKMB+PAe6vyNOtjULiBxFVEYiIiKRKeA8xq2oGFsO4TzGMTExnHjiiby8Mg/XtSN5nTpS/PV/iS0rIykqin+Xnc+NL/3qh9rpBIMUiF+8mK5+/TjnKOt5Oqmr1xBbVkZxVBS3du3C8D8+GnTttnOOjPdmk+KupOz7Yiwm2pepljk67TiBb389ks1srnJcSkoKM2fOrHj8yY5tFHbqQPMO7aq03RltvtIWb3aYavmVcKRsb8R9r3ev2iYWGAPEee0ahuAfqI7noReJREq2RUQk9Oqhbrw6C3fuYMOBfKKAu+6/l79MeJJuGzaR1TGFoVlv06h0Ievb5rOw9w4uXNs6YI3wvNztjHtgFBPHP1Fx7J0P+GrStx0sCKp2e17udrbHFmJlMUTH/PjX745WRVzbcTSTNoymwK+mIjExkccff7zica0LxJQvf17bMvZ+H4A6bGvEyOmpP95f/gHotBpfUt1pjG6ClGOWykhERKT+hKFufOOB/czcmu17MB+YB3jlzndOT+W5q9YAMHh5Mh1+2ahKjXCgOb4rq210O6g+shtz8z27a5yNpMYFYsqfi8AlHwEbHmEJh5a7l+OJarZFRERqUynBtP3gGlFjglkXCW6VPhy+Oyz9+zD4v839eGb+nQD84x9Va7t/9MGhBoPbJNMh2LKPI/gApGRbjieq2RYREalN5RrhG/DN41xDgpnSsBH3dQ1Q0xygXU37qvRRBGThS3YbA6dBSkYjdv9jd7X9dGjYiJGnpFa7/7CohEMkpJRsi4jI8ac8wbyBWhPNukhwq+2j9hxeRI5yUeEOQERERETkWBWyZNvMGpjZUjPLNLPVZvaIt72jmS0xs3Vm9paZxXnb7zWzLDNbaWZzzSwlVLGJiIiIiNSHUI5sFwEDnHM9gV7AJWbWF/gT8JRzrjOwB7jFa/8f4EznXA9gOr4FfkVERI4rAwcOZODAgeEOQ0TqSMhqtp1vmpPydXJjvS8HDAD+n7f9FWAc8Lxzbp7f4Z8D14UqNhERkUj18MMPhzsEEalDIa3ZNrNoM1sB5AIfA98Ce51z5bPx5wBtAxx6C/BhKGMTEREREQm1kM5G4pwrBXqZWTPgHfjR6rcBmdl1wJnAhdXsvw24DaB9+/Z1FquIiEgkGDRoEAAffqgxJ5FjQb3MRuKc24tvza5zgWZmVp7ktwO2lLczswxgDDDEOVdUTV8vOOfOdM6d2bJly9AGLiIiUs8KCwspLCwMdxgiUkdCORtJS29EGzNLAC4C1uBLuq/ymt0IvOe16Q1MxZdo54YqLhERERGR+hLKMpIk4BUzi8aX1P/dOfe+mWUBb5rZY/hmIHnRaz8B3/pdb5sZwGbn3JAQxiciIiIiElKhnI1kJdA7wPb1wNkBtmeEKhYRERERkXDQcu0iIiIR5NJLLw13CCJSh5Rsi4jIcSslBXyVi5HkPgDuvz/MYQQhRWs9i9RKybaIiBy3Nm4MdwQicqyrl6n/REREJDjp6emkp6eHOwwRqSNKtkVEREREQkTJtoiIiIhIiCjZFhEREREJESXbIiIiIiIhotlIREREIsiwYcPCHYKI1CEl2yIiIhFk5MiR4Q5BROqQykhEREQiSEFBAQUFBeEOQ0TqiEa2RUREIsjgwYMBmD9/fngDEZE6oZFtEREREZEQUbItIiIiIhIiSrZFREREREJEybaIiIiISIjoBkkREZEIctNNN4U7BBGpQ0q2RUREIoiSbZFji8pIREREIsiuXbvYtWtXuMMQkTqikW0REZEIctVVVwGaZ1vkWKGRbRERERGREFGyLSIiIiISIkq2RURERERCRMm2iIiIiEiI6AZJERGRCHLHHXeEOwQRqUNKtkVERCLI8OHDwx2CiNQhlZGIiIhEkOzsbLKzs8MdhojUEY1si4iIRJDrr78e0DzbIscKjWyLiIiIiISIkm0RERERkRBRsi0iIiIiEiJKtkVEREREQkQ3SIqIiESQUaNGhTsEEalDSrZFREQiyGWXXRbuEESkDqmMREREJIKsXbuWtWvXhjsMEakjGtkWERGJICNGjAA0z7bIsUIj2yIiIiIiIaJkW0REREQkRJRsi4iIiIiEiJJtEREREZEQ0Q2SIiIiEeShhx4KdwgiUoeUbIuIiESQjIyMcIcgInVIZSQiIiIRZMWKFaxYsSLcYYhIHdHItoiISAS55557AM2zLXKs0Mi2iIiIiEiIKNkWEREREQkRJdsiIiIiIiGiZFtEREREJER0g6SIiEgEGT9+fLhDEJE6pGRbREQkgpx33nnhDkFE6pDKSERERCLI4sWLWbx4cbjDEJE6opFtERGRCPLggw8Cmmdb5FihkW0RERERkRAJWbJtZg3MbKmZZZrZajN7xNve0cyWmNk6M3vLzOK87fHe43Xe/g6hik1EREREpD6EcmS7CBjgnOsJ9AIuMbO+wJ+Ap5xznYE9wC1e+1uAPd72p7x2IiIiIiJHrZAl285nv/cw1vtywABgurf9FeDn3vc/8x7j7R9oZhaq+EREREREQi2kN0iaWTSwHOgMPAd8C+x1zpV4TXKAtt73bYFsAOdciZntA04EdoUyRhERkUjy9NNPhzsEEalDIU22nXOlQC8zawa8A3Q90j7N7DbgNu9hkZl9daR9yjGnBfqQJlXpvJBAdF5IIDovJJBTD+egepn6zzm318zmAecCzcwsxhvdbgds8ZptAZKBHDOLAZoCuwP09QLwAoCZLXPOnVkfr0GOHjovJBCdFxKIzgsJROeFBGJmyw7nuFDORtLSG9HGzBKAi4A1wDzgKq/ZjcB73vczvMd4+z9xzrlQxSciIiIiEmqhHNlOAl7x6rajgL875943syzgTTN7DPgP8KLX/kXgNTNbB3wHXB3C2EREREREQi5kybZzbiXQO8D29cDZAbYfBIYe4tO8cHjRyTFO54UEovNCAtF5IYHovJBADuu8MFVqiIiIiIiEhpZrFxEREREJkaMi2TazS8xsrbeU+/8E2K+l3o9DQZwX95pZlpmtNLO5ZpYSjjilftV2Xvi1u9LMnJlpxoHjQDDnhZkN835mrDazv9V3jFL/gvg90t7M5pnZf7zfJYPDEafUHzN7ycxyq5ta2nye8c6ZlWZ2Rm19Rnyy7d1g+RwwCOgGXGNm3So101Lvx5kgz4v/AGc653rgW5X0ifqNUupbkOcFZtYYuBtYUr8RSjgEc16Y2SnAb4HznXOnAffUd5xSv4L8efEQvgkeeuObuGFy/UYpYfAycEkN+wcBp3hftwHP19ZhxCfb+G6mXOecW++c+x54E9/S7v601Pvxp9bzwjk3zzlX4D38HN+87nJsC+bnBcDv8X0oP1ifwUnYBHNe/BJ4zjm3B8A5l1vPMUr9C+a8cEAT7/umwNZ6jE/CwDm3EN+seNX5GfCq8/kc3/oxSTX1eTQk2xXLuHv8l3iv0sZbLKd8qXc5dgVzXvi7BfgwpBFJJKj1vPAu+SU75z6oz8AkrIL5edEF6GJmn5nZ52ZW08iWHBuCOS/GAdeZWQ4wE/hV/YQmEexQ84/6WUFSJJzM7DrgTODCcMci4WVmUcCTwE1hDkUiTwy+y8Lp+K6CLTSz051ze8MZlITdNcDLzrk/m9m5+NYD6e6cKwt3YHL0OBpGtsuXcS/nv8R7lTY1LfUux5RgzgvMLAMYAwxxzhXVU2wSPrWdF42B7sB8M9sI9AVm6CbJY14wPy9ygBnOuWLn3Abgv/iSbzl2BXNe3AL8HcA592+gAdCiXqKTSBVU/uHvaEi2vwBOMbOOZhaH7waFGZXaaKn340+t54WZ9Qam4ku0VX95fKjxvHDO7XPOtXDOdXDOdcBXyz/EObcsPOFKPQnm98i7+Ea1MbMW+MpK1tdjjFL/gjkvNgMDAcwsFV+yvbNeo5RIMwO4wZuVpC+wzzm3raYDIr6MxDlXYmZ3AbOBaOAl59xqM3sUWOacm4GWej/uBHleTAAaAW9798tuds4NCVvQEnJBnhdynAnyvJgN/MTMsoBS4H7nnK6QHsOCPC9GAX81s9/gu1nyJg3mHdvM7A18H7xbeLX6vwNiAZxzU/DV7g8G1gEFwM219qlzRkREREQkNI6GMhIRERERkaOSkm0RERERkRBRsi0iIiIiEiJKtkVEREREQkTJtoiIiIhIiCjZFhGpA2aWYGYLzCzazDqYmTOzx/z2tzCzYjP7Sy39pJvZeX6PXzazq0Ice8VzmNmbZhZwMRcz22hmq+piESDvPfqq0rblZhZ/hP2mm9n73vfDzWxd+WMRkXBQsi0iUjd+AfzTOVfqPd4A/NRv/1BgdRD9pAPn1dYohJ4HRtewv38oFgEys47Alrpc6dU59xZwa131JyJyOJRsi8hxy8zOMrOVZtbAzBqa2Woz616pzaNmdo/f48fN7O4A3V0LvOf3uABY4zcKPBxv2Wevn5Zm9g8z+8L7Ot/MOgC3A78xsxVm1s9rnmZmi81svd8IdCMzm2tmX3qjzT/ztncwszVm9lfv9XxkZgnevl5m9rn3mt8xs+YBXsciIMPMal30zBvp/oMX6zIzO8PMZpvZt2Z2u9fGzGyCmX3lxTm8mu4uAWZ5x+z3jlltZnPM7Gwzm++9/iFemwZm9n9en/8xs/61xSsiEg5KtkXkuOWc+wLf0ruPAU8ArzvnvqrU7CXgBgAzi8K3Qu3r/g28pZ5Pds5trHTsm8DVZpaMb1XCrX77JgFPOefOAq4E/tc7foq3vZdzbpHXNgm4ALgU+KO37SBwuXPuDKA/8GfzlkoFTgGec86dBuz1+gd4FXjAOdcDWIVvZbTK70kZvpXRelbeV43Nzrle+JL0l4GrgL7AI97+K4BeXn8ZwAQzSwrQT0WyDTQEPvHiz8f373MRcDnwqNfmTl+47nTgGuAVM2sQZMwiIvUm4pdrFxEJsUeBL/Alr7+uvNM5t9HMdptZb6AV8J8Ay3i3wJfUVjYL+D2wA3ir0r4MoNsP+TFNzKxRNTG+6yXBWWbWyttmwHgzSwPKgLZefAAbnHMrvO+XAx3MrCnQzDm3wNv+CvB2Nc+XC7Txjq3NDO/vVUAj51w+kG9mRWbWDN+HhDe88podZrYAOAtYWd6B92GlnXNuvbfpe35IvFcBRc65YjNbBXTwtl8APAvgnPvazDYBXYKIV0SkXinZFpHj3YlAIyAWaAAcCNDmf4GbgNb4RrorK/SO/RHn3PdmthwYBXQDhvjtjgL6OucO+h/jl3z7869jLm9wLdAS6OMlohv9YvBvXwokBOq0Bg3wvaZglD9XWaXnLSP43zH9gE/9Hhc751zlfp1zZcGUt4iIRBKVkYjI8W4q8DAwDfhT+UYz+9qvzTv4yhzOAmZX7sA5tweIrqaM4c/4Sje+q7T9I+BXfs/Xy/s2H2gcRNxNgVwv0e4PpNTU2Dm3D9jjVwd+PbCgmuZdgMrlNIdrETDcm6WlJZAGLK3U5hLgw8Po91oAM+sCtAfWHmGsIiJ1TiMEInLcMrMb8I2i/s3MooHFZjYAX4lDxRCzN0I9D9jrN9tIZR/hK22Y47/RObeawLOQ/Bp4zsxW4vtZvBDfzZH/AqZ7Nzz+KsBx5aYB//JKK5YBX9fQttyNwBQzSwTWAzdXbuCVqRQ657YH0V8w3gHOBTIBB4x2zm33bgYtlw6MPcR+JwPPe6+/BLjJOVdUzZUBEZGwsR+u1ImICICZXYrvhsdnvMdRwJfAUOfcN9UccwbwG+fc9fUXad0zs98Aec65FwPs2wic6ZzbVYfP1w74q3NuUF31Wan/dOA+59yloehfRKQ2KiMREanEOfe+X6LdDd/sHHOrS7S9Y74E5nkj5EezvfhungxkJzDX6mBRm3LOuZwQJtrD8Y2A7wlF/yIiwdDItoiIiIhIiGhkW0REREQkRJRsi4iIiIiEiJJtEREREZEQUbItIiIiIhIiSrZFREREREJEybaIiIiISIj8fwoGV+DCOvh7AAAAAElFTkSuQmCC\n",
      "text/plain": [
       "<Figure size 864x576 with 1 Axes>"
      ]
     },
     "metadata": {
      "needs_background": "light"
     },
     "output_type": "display_data"
    }
   ],
   "source": [
    "# Identificação das colunas do dataframe\n",
    "x = misturinha['x1'] \n",
    "T = misturinha['Temperature'] \n",
    "y = misturinha['y1'] \n",
    "\n",
    "\n",
    "# Plot da Figura \n",
    "fig = plt.figure(figsize=(12,8))\n",
    "\n",
    "\n",
    "# Criar primeiro conjunto de dados da mistura em estado liquído\n",
    "plt.plot(x, T, linestyle='--', label=\"Dados coletados\", color = 'black', alpha=1) # Colocar a linha do conjunto de dados\n",
    "plt.scatter(x, T, color='fuchsia', s=80) # Marcar os pontos determinados do dataframe \n",
    "\n",
    "# Criar primeiro conjunto de dados da mistura em estado gasoso\n",
    "plt.plot(y,T, linestyle='--', label=\"Dados coletados\", color = 'black', alpha=1) # Colocar a linha do conjunto de dados\n",
    "plt.scatter(y, T, marker='^', color='lightseagreen', s=80) # Marcar os pontos determinados do dataframe \n",
    "\n",
    "\n",
    "# Criar título central e título dos eixos\n",
    "plt.title(\"Diagrama de Fases: Ethyl Acetate + Methanol\")\n",
    "plt.xlabel('x,y (Methanol) [mol/mol]')\n",
    "plt.ylabel('Temperatura [K]')\n",
    "\n",
    "# Delimitar o limite dos eixos\n",
    "plt.ylim(300, 314)\n",
    "plt.xlim(0, 1)\n",
    "\n",
    "# Colocar um quadrado ao entorno da possível zona azotópica\n",
    "ax = plt.gca()\n",
    "quadradinho = patches.Rectangle((0.60, 301.8), 0.12, 1.4, linewidth=1,edgecolor='blue', facecolor='none') \n",
    "ax.add_patch(quadradinho)\n",
    "\n",
    "#Marcar por meio de um circúlo (o), o ponto azotópico da mistura\n",
    "plt.plot([0.65663, 0.65663], [1, 302.366 ], ls=\"--\", c=\"black\")\n",
    "plt.plot(0.65663, 302.366,  \"o\", color = 'black')\n",
    "plt.text(0.59, 303.5, \"PONTO AZEÓTOPO\")\n",
    "plt.text(0.100, 307.500, \"a1\")\n",
    "plt.text(0.274827, 307.500, \"a1'\")\n",
    "\n",
    "upSpline, downSpline, cons, temps = escada(ax, .1, misturinha, iteracoes=5, make_first_trail= False)\n",
    "\n",
    "#Legenda do gráfico plotado\n",
    "legend_elements = [Line2D([0], [0], marker='o', color='fuchsia', label='Liquído'),\n",
    "                   Line2D([0], [0], marker='^', color='lightseagreen', label='Vapor')]\n",
    "\n",
    "plt.legend(handles=legend_elements)\n",
    "\n",
    "plt.step(x, y)\n",
    "\n",
    "# Plotar todo o gráfico com os comandos determinados anteriormente\n",
    "plt.show()"
   ]
  },
  {
   "cell_type": "markdown",
   "metadata": {
    "id": "gaILvSbA8jGx"
   },
   "source": [
    "<h4 p align=\"justify\"> ANÁLISE DO DIAGRAMA DE FASES </h4>\n",
    "<p style=\"text-align: justify\"> Os diagramas de fases de Temperatura [K] x Fração Molar [mol] são ótimos para a identificação de destilação de substâncias, devido a ideia geral do diagrama consistir na variação do ponto de ebulição da mistura a cada composição molar e de  temperatura. Os pontos em rosa representam o estado líquido da mistura e os azuis o estado de vapor, afim de compreender melhor a destilação usa-se da ideia de \"Linhas de Amarração\" - as linhas vermelhas tracejadas no gráfico; responsáveis para a determinação da composição do líquido e do vapor em equilíbrio para uma determinada concentração de temperatura. </p>\n",
    "<p style=\"text-align: justify\"> Exemplificando a situação, temos que a mistura líquida atinge a temperatura de 307K, correspondente ao ponto a1, quando se inicia a sua ebulição, por sua vez, ao analisarmos a linha de amarração sabemos que o vapor em equilíbrio tem composição a1´. O vapor gerado irá para uma região de temperatura mais fria, aproximadamente 304L, repetindo o processo, de forma a purificar a amostra até chegar no ponto máximo da destilação: o ponto azeótopo, um ponto em que há uma interseção entre os valores de vapor e líquido, sendo esse, o ponto azeótopo que corresponde a uma fração molar de 0. 641121 Methanol."
   ]
  },
  {
   "cell_type": "markdown",
   "metadata": {
    "id": "aUlrIXvkRiRx"
   },
   "source": [
    "<h2 p align=\"justify\"> <b> VOLUME DA MISTURA </b> </h2>"
   ]
  },
  {
   "cell_type": "markdown",
   "metadata": {
    "id": "8OLRZnQZfl3G"
   },
   "source": [
    "\n",
    "<p style=\"text-align: justify\"> Para começar a definir os parâmetros de funcionamento da nossa Termoelétrica e a separação dos combustíveis, definiu-se a massa da mistura, a qual possui o valor de 1 tonelada da mistura combustível. Com base nisso, inicia-se uma discussão acerca das propriedades da mistura, e a dinâmica delas com o Ciclo de Rankine. </p> \n",
    "\n",
    "<p style=\"text-align: justify\"> No que diz respeito aos primeiros passos para tratar a mistura, consideramos as propriedades individuais de cada substância, analisando seus volumes, molaridades e pressões para construir, desta forma, a dinâmica de nossa mistura combustível.</p>\n",
    "\n",
    "<p style=\"text-align: justify\">Sendo assim, iniciamos nosso estudo com uma discussão acerca da definição das propriedades fundamentais dos gases, afim de obter o volume de cada componente na mistura de substâncias. Para isso, entende-se, primeiramente, que as propridades fundamentais são descritas por representações matemáticas, desta forma, podemos definir o volume como uma função $V(u, S, n_{1}, n_{2}, ... n_{n})$, onde $u$ representa energia, $S$ a entropia do sistema e $n_{n}$, o número de partículas referente a cada substância. No entanto, nesta função do volume, as variaveis se tratam de parâmetros extensivos, dificeis de serem controlados. Convém, portanto, buscar formas de trabalhar com parâmetros que possamos regular para o melhor funcionamento da termoelética.</p>\n",
    "\n",
    "<p style=\"text-align: justify\">Entretanto, por propriedades matemáticas, a <i>Transformação de Legendre</i> permite substituir os parâmetros extensivos da função por variaveis intensivas. Desta forma, ao aplicar a transformada na função volume, o que se obtém é uma representação dos parâmetros extencivo em conceitos deriváveis, tal que: </p>\n",
    "\n",
    "<p style=\"text-align: center\"> $dv = u\\ d \\left(\\frac{δV}{δu} \\right) + S\\ d(\\frac{δV}{δS}) + \\sum_{j=1}^{N} \\left(\\frac{δV}{δn_{j}}\\right) dn_{j}$. </p>\n",
    "\n",
    "<p style=\"text-align: justify\"> Sabe-se, porém que os valores das derivadas $\\frac{δv}{δu}=\\frac{-1}{P}$ e $\\frac{δv}{δS}=\\frac{T}{P}$ (onde $T$ corresponde à temperatura, e $P$ corresponde à pressão do sistema), neste caso, vale lembrar que, por hora, trabalhamos com valores de temperatura e pressão constante, portanto esta variação é nula. Assim, pode-se reescrever a equação do volume para o presente sistema de duas substâncias de forma que: </p>\n",
    "\n",
    "<p style=\"text-align: center\"> $dv = \\left (\\frac{δV}{δn_{1}}\\right) dn_{1} + \\left (\\frac{δV}{δn_{2}}\\right ) dn_{2}$ </p>\n",
    "\n",
    "<p style=\"text-align: justify\"> Nesta transformação, contudo, podemos representar as derivadas dos parâmetros extensivos como valores parciais de volume, portanto: </p>\n",
    "\n",
    "<p style=\"text-align: center\"> $V =\\overset{-}V_{1} n_{1} + \\overset{-}V_{2} n_{2}$ </p>\n",
    "\n",
    "<p style=\"text-align: justify\"> Temos, desta forma, determinado o volume da mistura baseado no número de partículas de cada composto presentes no sistema. De forma análoga, pode-se obter o volume relativo a cada mol da mistura, considerando as frações molares dos compostos $x_{1}$ e $x_{2}$. Assim, entende-se que o volume por mol da mistura é dado pela soma dos volumes parciais de cada composto, vezes as respectivas frações molares: </p>\n",
    "\n",
    "<p style=\"text-align: center\"> $V_{M} =\\overset{-}V_{1} x_{1} + \\overset{-}V_{2} x_{2}$. </p>\n",
    "\n",
    "<p style=\"text-align: justify\"> Como conhecemos a densidade da mistura em parâmetros pré-estabelecidos, podemos relacioná-la com com o volume parcial molar dos compostos, de forma que: </p>\n",
    "\n",
    "<p style=\"text-align: center\">$ρ_{mistura} = \\frac{M_{1}}{\\overset{-}V_{1} (x_{1})}$</p>  \n",
    "<p style=\"text-align: center\"> $ρ_{mistura} = \\frac{M_{2}}{\\overset{-}V_{2} (x_{1})}$</p>\n",
    "\n",
    "<p style=\"text-align: justify\"> assim, se isolarmos os volumes parciais em cada caso, teremos que o volume total por mols será a soma das massas molares vezes a fração molar, dividido pela densidade referente a $x_{1}$:</p>\n",
    "\n",
    "<p style=\"text-align: center\">$V_{M} = \\frac{M_{1} x_{1} + M_{2}(1 - x_{1})}{ρ_{mistura}}$</p>\n",
    "\n",
    "<p style=\"text-align: justify\"> Conhecendo este valor, podemos determinar o volume total de mistura calculando o número de mols presentes na massa de combustível. Para isso determina-se primeiro a massa molar da mistura, baseada na fração molar, já citada, de cada composto: </p>\n",
    "    \n",
    "<p style=\"text-align: center\"> $M_{mistura} = \\sum\\limits_{i=1}^{\\mbox{n}}x_{i}M_{i}$ </p>\n",
    "\n",
    "<p style=\"text-align: justify\"> onde $n$ corresponde ao número de compostos na mistura, $x$, a fração molar de cada composto na mistura e $M$, a massa molar de cada composto. Assim, tendo a massa molar da mistura, basta calcular o número de mols dado por: </p>\n",
    "\n",
    "<p style=\"text-align: center\"> $n_{mistura} = \\frac{m_{total}}{M_{mistura}}$ </p>\n",
    "\n",
    "<p style=\"text-align: justify\">Desta forma, chegamos ao volume final da mistura combustível, a partir da fração molar de cada componente, determinada pelo diagrama de fases. </p>"
   ]
  },
  {
   "cell_type": "code",
   "execution_count": 5,
   "metadata": {
    "colab": {
     "base_uri": "https://localhost:8080/"
    },
    "id": "AbRmHQtaK1mu",
    "outputId": "a19b4dc9-5656-4f42-9a33-89739ee204de"
   },
   "outputs": [
    {
     "name": "stdout",
     "output_type": "stream",
     "text": [
      "A massa molar da mistura é 52.162192256 g/mol.\n",
      "O número de mols da mistura é 19170.973395677676 .\n",
      "O volume por mol da mistura é, portanto, 62.29809179027827 cm3/mol.\n",
      "O volume total da mistura é 1194315.0603129107 cm3, ou  1194.3150603129106 litros.\n"
     ]
    }
   ],
   "source": [
    "# VALORES CONSTANTES DO PROBLEMA\n",
    "\n",
    "X1 = 0.641121\n",
    "DENSIDADE = 0.83730 # g/cm3\n",
    "MASSA_METANOL = 32.042 # g\n",
    "MASSA_ETIL = 88.106 # g\n",
    "MASSA_MISTURA = 1000000 # g\n",
    "\n",
    "# FUNÇÕES \n",
    "\n",
    "def molaridade_mistura(x1, M1, M2, massa_mistura):\n",
    "    \"\"\" \n",
    "    Calcula massa molar e número de mol da mistura\n",
    "\n",
    "      args: \n",
    "        x1: fração molar do composto 1\n",
    "        M1: massa molar do composto 1\n",
    "        M2: massa molar do composto 2\n",
    "        massa_mistura: massa total da mistura\n",
    "\n",
    "      return:\n",
    "        número de mols da mistura \n",
    "  \"\"\"\n",
    "\n",
    "    massa_molar = (x1*M1) + ((1-x1)*M2)\n",
    "\n",
    "    num_mols = massa_mistura/massa_molar\n",
    "\n",
    "    return num_mols, massa_molar \n",
    "\n",
    "\n",
    "def volume_parcial(M1, M2, x1, densidade):\n",
    "    \"\"\" \n",
    "    calcula o volume da mistura a partir da massa e densidade \n",
    "\n",
    "      Args: \n",
    "        M1: massa molar da primeira substância \n",
    "        M2: massa molar da segunda substância\n",
    "        x1: proporção da mistura em relação a primeira substância\n",
    "        densidade: densidade relativa da mistura \n",
    "\n",
    "      Returns: \n",
    "        volume da mistura \n",
    "  \"\"\"\n",
    "    a = M1 * x1\n",
    "    b = M2 * (1 - x1)\n",
    "\n",
    "    volume = (a + b)/densidade \n",
    "\n",
    "    return volume\n",
    "\n",
    "\n",
    "def volume_total(volume_parcial, num_mols):\n",
    "    \"\"\"\n",
    "    calcula o volume total da mistura a partir do volume por mol\n",
    "\n",
    "  \"\"\"\n",
    "\n",
    "    volume = volume_parcial * num_mols\n",
    "\n",
    "    return volume\n",
    "\n",
    "# VALORES OBTIDOS \n",
    "\n",
    "VOLUME_POR_MOL = volume_parcial(MASSA_METANOL, MASSA_ETIL, X1, DENSIDADE)\n",
    "\n",
    "NUMERO_DE_MOLS = molaridade_mistura(X1, MASSA_METANOL, MASSA_ETIL, MASSA_MISTURA)[0]\n",
    "\n",
    "VOLUME_TOTAL = volume_total(VOLUME_POR_MOL, NUMERO_DE_MOLS)\n",
    "\n",
    "MASSA_MOLAR = molaridade_mistura(X1, MASSA_METANOL, MASSA_ETIL, MASSA_MISTURA)[1]\n",
    "\n",
    "\n",
    "print(\"A massa molar da mistura é\", MASSA_MOLAR, \"g/mol.\")\n",
    "\n",
    "print(\"O número de mols da mistura é\", NUMERO_DE_MOLS, \".\")\n",
    "\n",
    "print(\"O volume por mol da mistura é, portanto,\", VOLUME_POR_MOL,\"cm3/mol.\")\n",
    "\n",
    "print(\"O volume total da mistura é\", VOLUME_TOTAL, \"cm3, ou \",VOLUME_TOTAL/1000, \"litros.\")"
   ]
  },
  {
   "cell_type": "markdown",
   "metadata": {
    "id": "UTJGvsO4ShLw"
   },
   "source": [
    "<h2 p align=\"justify\"> <b> A PRESSÃO DE VALOR DOS COMPOSTOS </b> </h2>\n",
    "\n",
    "<p style=\"text-align: justify\"> Nos estudos, não foi possível a determinação de um diagrama de vaporização da mistura real, desse modo, para o cálculo de pressão de valor dos compostos é necessário se considerar uma mistura em um estado ideal, desse modo, utiliza-se da Lei de Raoult. Essa lei diz respeito a determinação da pressão máxima de vapor de uma solução multiplicando a fração molar do solvente com a pressão máxima de vapor do solvente puro. Em termos matemáticos, a fórmula pode ser descrita da seguinte forma:  </p>\n",
    "\n",
    "<p style=\"text-align: center\">  $P_1 = X_1 . P^*_1 $. </p>\n",
    "\n",
    "<p style=\"text-align: justify\"> Em que $P_1$  diz respeito a pressão do solvente na solução, $X_1$ é referente a pressão molar do solvente na solução e por fim, $P^*_1 $, diz respeito a pressão do solvente na solução pura. </p>\n",
    "\n",
    "<p style=\"text-align: justify\">  Como temos uma mistura binária, devemos realizar o cálculo de $P_1$ para o caso do Methanol e o caso do Ethyl Acetate e por fim, realizar a somatória da pressão de cada mistura, a fim de se obter a pressão total do valor dos compostos. Para a realização dos cálculos, desenvolve-se a função:</p>\n"
   ]
  },
  {
   "cell_type": "code",
   "execution_count": 6,
   "metadata": {
    "id": "tzuuHmaHlys5"
   },
   "outputs": [],
   "source": [
    "def raoult_law(x1,p1):\n",
    "    '''\n",
    "    Determina-se a pressão do solvente na solução binária por meio da Lei de Raoult.\n",
    "  Args: \n",
    "    X1: Fração Molar do solvente.\n",
    "    p1: Pressão do solvente da solução pura.\n",
    "\n",
    "  Return:\n",
    "    Lei de Raoult \n",
    "  '''\n",
    "    P_1 = x1 * p1\n",
    "    return P_1"
   ]
  },
  {
   "cell_type": "markdown",
   "metadata": {
    "id": "n_D3BMWrlzWS"
   },
   "source": [
    "<p align=\"justify\"> A fim de determinar  a pressão molar do solvente na solução pura, utiliza-se do database <a href=\"http://azeotrope.info/\"> Azeotrope</a>. Neste database, é possível obter informações de misturas azeótropicas a partir da determinação do tipo de gráfico e pressão utilizada. Na Figura 1, apresentou-se as condições azeotrópicas da mistura, assim, utilizou-se como fração molar do Methanol e do Ethyl Acetate, respectivamente, os valores de 0.641121 mol e 0.358879 mol. As respectivas pressões do solvente puro são de 21.0317 kPa e 15.4404 kPa. Obtida as informações, realiza-se os cálculos de pressão.</p>"
   ]
  },
  {
   "cell_type": "markdown",
   "metadata": {
    "id": "F1V-uNI_l5Hh"
   },
   "source": [
    "<h4 p align=\"justify\">  VAMOS CALCULAR? </h4>\n",
    "<h4 p align=\"justify\">  PRESSÃO DO METHANOL </h4>"
   ]
  },
  {
   "cell_type": "code",
   "execution_count": 7,
   "metadata": {
    "colab": {
     "base_uri": "https://localhost:8080/"
    },
    "id": "3Kg2xtDL-xo6",
    "outputId": "e634799c-0460-455e-ee6a-458bfb6e83fe"
   },
   "outputs": [
    {
     "name": "stdout",
     "output_type": "stream",
     "text": [
      "A pressão do composto Methanol da mistura é de 13.483864535700002 kPa.\n"
     ]
    }
   ],
   "source": [
    "# Constantes\n",
    "x1 = 0.641121 # fração molar\n",
    "p1 = 21.0317  # pressão molar do solvente na solução pura #kPa\n",
    "print(\"A pressão do composto Methanol da mistura é de\", raoult_law(x1,p1), \"kPa.\")"
   ]
  },
  {
   "cell_type": "markdown",
   "metadata": {
    "id": "Lwppj37cl8I6"
   },
   "source": [
    "<h4 p align=\"justify\"> PRESSÃO DO ETHYL ACETATE </h4>"
   ]
  },
  {
   "cell_type": "code",
   "execution_count": 8,
   "metadata": {
    "colab": {
     "base_uri": "https://localhost:8080/"
    },
    "id": "DgOHBuBql-J_",
    "outputId": "526a4d00-118d-40ec-e9b8-bb1593c5a7ee"
   },
   "outputs": [
    {
     "name": "stdout",
     "output_type": "stream",
     "text": [
      "A pressão do composto Ethyl Acetate da mistura é de 5.5412353116 kPa.\n"
     ]
    }
   ],
   "source": [
    "# Constantes\n",
    "x2 = 0.358879\t# fração molar\n",
    "p2 = 15.4404\t#pressão molar do solvente na solução pura #kPA\n",
    "print(\"A pressão do composto Ethyl Acetate da mistura é de\", raoult_law(x2,p2),\"kPa.\")"
   ]
  },
  {
   "cell_type": "markdown",
   "metadata": {
    "id": "Ceabno1Rl__O"
   },
   "source": [
    "<h4 p align=\"justify\">  PRESSÃO TOTAL DA MISTURA </h4>"
   ]
  },
  {
   "cell_type": "code",
   "execution_count": 9,
   "metadata": {
    "colab": {
     "base_uri": "https://localhost:8080/"
    },
    "id": "Uy5eD3klmCbV",
    "outputId": "114c124e-3e9f-4c54-b2b8-0745f15237ed"
   },
   "outputs": [
    {
     "name": "stdout",
     "output_type": "stream",
     "text": [
      "A pressão total dos compostos é de 19.0250998473 kPa.\n"
     ]
    }
   ],
   "source": [
    "PT = raoult_law(x1,p1) + raoult_law(x2,p2)\n",
    "print(\"A pressão total dos compostos é de\", PT, \"kPa.\")"
   ]
  },
  {
   "cell_type": "markdown",
   "metadata": {
    "id": "yQNgZ4Yj01mT"
   },
   "source": [
    "<h4 p align=\"justify\">  VAMOS FAZER GRÁFICOS? </h4>\n",
    "<p style=\"text-align: justify\"> De modo a ilustrar a Lei de Raoult, simula-se os dados de pressão como se estes estivessem uma mistura ideal - já que não se encontrou o dataset com os valores reais de pressão. Para a simulação, determina-se vários pontos de pressão do solvente sobre a fração molar e plota-se os gráficos. </p>\n"
   ]
  },
  {
   "cell_type": "code",
   "execution_count": 10,
   "metadata": {
    "colab": {
     "base_uri": "https://localhost:8080/"
    },
    "id": "3rioTEUwryN6",
    "outputId": "b49b8c93-03ec-413e-c86d-f5e7bccd92e9"
   },
   "outputs": [
    {
     "name": "stdout",
     "output_type": "stream",
     "text": [
      "[0.0, 0.0210317, 0.0420634, 0.0630951, 0.0841268, 0.1261902, 0.1682536, 0.210317, 0.420634, 0.630951, 0.841268, 1.261902, 1.682536, 2.10317, 3.154755, 4.20634, 5.257925, 6.30951, 7.361095, 8.41268, 9.464265000000001, 10.51585, 11.567435000000001, 12.61902, 13.670605, 14.72219, 15.773775, 16.82536, 17.876945, 18.928530000000002, 19.349164000000002, 19.769797999999998, 20.190432, 20.400749, 20.611066, 20.821383, 20.8634464, 20.9055098, 20.9475732, 20.9686049, 20.9896366, 21.0106683, 21.0317]\n",
      "[0.0, 0.0154404, 0.0308808, 0.0463212, 0.0617616, 0.0926424, 0.1235232, 0.154404, 0.308808, 0.463212, 0.617616, 0.926424, 1.235232, 1.54404, 2.31606, 3.08808, 3.8601, 4.63212, 5.40414, 6.17616, 6.948180000000001, 7.7202, 8.492220000000001, 9.26424, 10.03626, 10.80828, 11.580300000000001, 12.35232, 13.12434, 13.896360000000001, 14.205168, 14.513976, 14.822784, 14.977188, 15.131592, 15.285996, 15.316876800000001, 15.3477576, 15.3786384, 15.3940788, 15.4095192, 15.424959600000001, 15.4404]\n",
      "[15.4404, 15.445991300000001, 15.4515826, 15.4571739, 15.4627652, 15.4739478, 15.485130400000001, 15.496313, 15.552226, 15.608139, 15.664052, 15.775877999999999, 15.887704000000001, 15.999530000000002, 16.279095, 16.55866, 16.838225, 17.11779, 17.397355, 17.67692, 17.956485, 18.23605, 18.515615000000004, 18.795180000000002, 19.074745, 19.354309999999998, 19.633875, 19.91344, 20.193005, 20.47257, 20.584396, 20.696222, 20.808048000000003, 20.863961, 20.919874, 20.975787, 20.986969600000002, 20.9981522, 21.0093348, 21.0149261, 21.0205174, 21.026108699999998, 21.0317]\n"
     ]
    }
   ],
   "source": [
    "#Fração molar \n",
    "fracao_molar = pd.read_csv('fracao_molar.txt', sep='\\t')\n",
    "x = fracao_molar['x1']\n",
    "\n",
    "#Pressão de Methanol\n",
    "pressions = [raoult_law(frac, 21.0317) for frac in x]\n",
    "\n",
    "#Pressão de Ethyl Acetate\n",
    "pressionss = [raoult_law(frac, 15.4404) for frac in x] \n",
    "\n",
    "pression_total = [elemA + elemB for elemA, elemB in zip(pressions, pressionss[::-1])]\n",
    "\n",
    "# Lista de pressão do solvente 1\n",
    "print(pressions)\n",
    "# Lista de pressão do solvente 2\n",
    "print(pressionss)\n",
    "# Analisar a somátoria das listas de pressão\n",
    "print(pression_total)"
   ]
  },
  {
   "cell_type": "markdown",
   "metadata": {
    "id": "ihBkzCsV2fsS"
   },
   "source": [
    "<p align=\"justify\"> Realizado os pontos, realiza-se o plot no gráfico com a biblioteca matplotlib. </p>\n"
   ]
  },
  {
   "cell_type": "code",
   "execution_count": 11,
   "metadata": {
    "colab": {
     "base_uri": "https://localhost:8080/",
     "height": 718
    },
    "id": "Hj4l0r2Orxcx",
    "outputId": "d1d0bf9c-999e-465d-f7db-c4666cc50091"
   },
   "outputs": [
    {
     "data": {
      "image/png": "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\n",
      "text/plain": [
       "<Figure size 864x576 with 1 Axes>"
      ]
     },
     "metadata": {
      "needs_background": "light"
     },
     "output_type": "display_data"
    }
<<<<<<< HEAD
   ],
   "source": [
    "# Plot da Figura \n",
    "fig = plt.figure(figsize=(12,8))\n",
    "\n",
    "# Criar primeiro conjunto de dados da pressão do Methanol\n",
    "plt.plot(x, pressions, linestyle='--', label=\"Dados coletados\", color = 'black', alpha=1) # Colocar a linha do conjunto de dados\n",
    "plt.scatter(x, pressions, color='fuchsia', s=80) # Marcar os pontos determinados do dataframe \n",
    "plt.text(0.05, 12, \"P1 = x1 . P1*\")\n",
    "\n",
    "# Criar o segundo conjunto de dados da pressão do Ethyl Acetate\n",
    "plt.plot(x[::-1], pressionss, linestyle='--', label=\"Dados coletados\", color = 'black', alpha=1) # Colocar a linha do conjunto de dados\n",
    "plt.scatter(x[::-1], pressionss, color='lightseagreen', s=80) # Marcar os pontos determinados do dataframe \n",
    "plt.text(0.8, 15, \"P2 = x2 . P2*\")\n",
    "\n",
    "# Somar o conjunto de dados de pressão da mistura Methanol + Ethyl Acetate\n",
    "plt.plot(x, pression_total, linestyle='--', label=\"Dados coletados\", color = 'black', alpha=1) # Colocar a linha do conjunto de dados\n",
    "plt.scatter(x, pression_total, color='darkorchid', s=80) # Marcar os pontos determinados do dataframe \n",
    "plt.text(0.4, 20, \"PT = P1 + P2\")\n",
    "\n",
    "# Criar título central e título dos eixos\n",
    "plt.title(\"LEI DE RAOULT: METHANOL + ETHYL ACETATE\")\n",
    "plt.xlabel(' Fração Molar [mol/mol]')\n",
    "plt.ylabel('Pressão [kPA]')\n",
    "\n",
    "\n",
    "# Plotar todo o gráfico com os comandos determinados anteriormente\n",
    "plt.show()"
   ]
  },
  {
   "cell_type": "markdown",
   "metadata": {
    "id": "katimc2N-y1A"
   },
   "source": [
    "<h4 p align=\"justify\"> <b> Referências Bibliográficas </b> </h4>\n",
    "\n",
    "- Azeotrope.info. Disponível em: <http://azeotrope.info/>. Acesso em: 23 abr. 2023.\n",
    "\n",
    "- CALLISTER, William D.; RETHWISCH, David G. Materials Science and Engineering: an Introduction. 8. ed. [S. l.]: John Wiley & Sons, Inc, 2009. 885 p. ISBN 978-0-470-55673-3\n",
    "\n",
    "- DDBST GMBH. Vapor-Liquid Equilibrium Data of Ethyl acetate + Methanol from Dortmund Data Bank. Disponível em: <http://unifac.ddbst.de/en/EED/VLE/VLE%20Ethyl%20acetate%3BMethanol.php>. Acesso em: 22 mar. 2023.\n",
    "\n",
    "- González, Begoña, Noelia Calvar, Elena Gómez, and Ángeles Domínguez. \"Density, Dynamic Viscosity, and Derived Properties of Binary Mixtures of Methanol or Ethanol with Water, Ethyl Acetate, and Methyl Acetate at T = (293.15, 298.15, and 303.15) K.\" The Journal of Chemical Thermodynamics 39.12 (2007): 1578-588. Web. \n",
    "\n",
    "- MLA. Schroeder, Daniel V. An Introduction to Thermal Physics. San Francisco, CA :Addison Wesley, 1999. APA. Schroeder, Daniel V. (1999).\n",
    "\n",
    "- VLE phase diagram, residue curve map. Disponível em: <http://vle-calc.com/phase_diagram.html>. Acesso em: 23 abr. 2023.\n",
    "\n",
    "‌\n"
   ]
  }
 ],
 "metadata": {
  "colab": {
   "provenance": []
  },
  "kernelspec": {
   "display_name": "Python 3 (ipykernel)",
   "language": "python",
   "name": "python3"
  },
  "language_info": {
   "codemirror_mode": {
    "name": "ipython",
    "version": 3
   },
   "file_extension": ".py",
   "mimetype": "text/x-python",
   "name": "python",
   "nbconvert_exporter": "python",
   "pygments_lexer": "ipython3",
   "version": "3.9.7"
  }
 },
 "nbformat": 4,
 "nbformat_minor": 4
=======
  ]
>>>>>>> 3482f7b023946d3d861e0df44b2917cf181d27e5
}
