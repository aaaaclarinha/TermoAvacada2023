{
  "nbformat": 4,
  "nbformat_minor": 2,
  "metadata": {
    "colab": {
      "provenance": []
    },
    "kernelspec": {
      "name": "python3",
      "display_name": "Python 3"
    },
    "language_info": {
      "name": "python"
    }
  },
  "cells": [
    {
      "cell_type": "markdown",
      "source": [
        "<h2 align=\"center\"> Estudo da termodinâmica de uma usina elétrica a vapor </h3>\n",
        "\n",
        "<h4 align=\"center\"> Ilum - Escola de Ciência | Curso: Termodinâmica Avançada (2023) | Ministrada pelo Profº Amauri Jardim de Paula </h3>\n"
      ],
      "metadata": {
        "id": "7t6J26sF20ul"
      }
    },
    {
      "cell_type": "markdown",
      "source": [
        "<h3 align=\"justify\">  Descrição da Atividade <h3>\n",
        "\n",
        "<p align=\"justify\">  As usinas termoelétricas são instalações industriais utilizadas para a geração de energia elétrica, por meio de um processo que libera energia pela queima de algum tipo de combustível, seja este, renovável ou não. No Brasil, a usina termoelétrica é utilizada desde o final do século XIX, e hoje seu uso é feito de modo estratégico, para suprir as demandas de energia nos períodos de seca. </p>\n",
        "\n",
        "<p align=\"justify\"> Dada a relevância deste método de geração de energia e a vasta gama de conceitos da termodinâmica envoltos no processo desta, a disciplina tem como objetivo o estabelecimento dos parâmetros relevantes envolvidos no funcionamento de um sistema composto por uma usina elétrica a vapor operando a partir da combustão de uma mistura líquida de combustíveis. Logo, as discentes irão desenvolver um projeto de estudo do funcionamento de uma usina termoelétrica que é divido em seis etapadas nomeadas de Desafio. </p> \n",
        "<p align=\"justify\"> No presente arquivo, introduz-se os cálculos dos processos  que irão fornecer energia ao ciclo de Rankine (Desafio 2). </p>\n",
        "\n",
        "**Desafio 2 - Calculo das variaveis envolvidas no processo termodinâmicos que fornecem energia ao Ciclo de Rankine** \n",
        "<p align=\"justify\"> O segundo desafio para solução do problema principal da disciplina envolve: </p>\n",
        "\n",
        "- A separação dos líquidos na mistura e a evaporação do combustível.\n",
        "\n",
        "  Para tal, alguns aspectos importantes devem ser considerados.\n",
        "\n",
        "- O volume final da mistura calculado a partir dos volumes parciais molares.\n",
        "\n",
        "- O comportamento da mistura de líquido (ideal ou não ideal).\n",
        "\n",
        "- As características do diagrama de fases da mistura líquida.\n",
        "\n",
        "- A pressão de vapor dos compostos.\n",
        "<p align=\"center\"><img src=\"https://user-images.githubusercontent.com/106619091/225313553-b47b8234-48aa-4ef2-aeb5-2177a5c42312.png\" witdh = \"300\" height = \"300\" ></p>\n",
        "\n",
        "<h2 align=\"center\"> <img src=\"https://user-images.githubusercontent.com/106678040/226234219-007276df-12e9-46ee-af02-68471b39f593.png\" witdh = \"100\" height = \"100\"/>  </h2>\n",
        "\n",
        "\n",
        "\n",
        " <hr>"
      ],
      "metadata": {
        "id": "fPCAau8z6k9w"
      }
    },
    {
      "cell_type": "markdown",
      "source": [
        "<h2 align=\"center\"> <b> PLANO DE PROJETO: TERMOELÉTRICA BELA PIT S.A. </b>  </h3>\n",
        "\n",
        "<p align=\"justify\"> \n",
        "Termoelétricas produzem energia a partir do ciclo de potência a vapor, sendo o vapor gerado pela queima de combustíveis que fazem girar as turbinas convertendo este trabalho em energia. O processo que faz essa produção de energia é denominado de Ciclo Rankine que aproveita o vapor que sai das turbinas condensando-o e transformando-o em líquido para realizar o ciclo repetidamente.</p>\n",
        "<p align=\"justify\"> \n",
        "Em síntese, ele possibilita por meio de ciclos termodinâmicos que o trabalho mecânico seja extraído de um fluido à medida que ele se move entre uma fonte de calor e um dissipador de calor. A fim de se ter essa energia é necessário ter uma boa queima de combustíveis com o intuito de promover uma grande quantidade de calor e energia, desse modo, o questionamento que se perpetua é:</p>\n",
        "<p align=\"center\"> \n",
        "\"Como determinar bons combustíveis para a geração de energia?\"\n",
        "\n",
        "<p align=\"justify\"> No Desafio 1, determinou-se como mistura ideal para o projeto, a mistura: Methanol + Ethyl Acetate. Esses combustíveis foram determinados por meio de conceitos termodinâmicos, como a Entalpia - a quantidade de calor (energia) recebida ou absorvida no sistema por conta de uma mudança no próprio sistema ou pela quantidade de calor expelido pelo sistema como resultado da alteração deste; e a Entalpia de Combustão - utilizada para comparar quais combustíveis ou substâncias liberam mais energia quando são queimados. Nesse contexto, identificou-se na Tabela 1, as características gerais do composto que se apresentaram como bons candidatos de combustível para uso na Termoelétrica Bela Pit. </p>\n",
        "\n",
        "<br align=\"center\">\n",
        "\n",
        "<th> <table border=\"1\">\n",
        "    <tr>\n",
        "        <td>Fórmula </td>\n",
        "        <td>Massa Molar</td>\n",
        "        <td>Nome do composto</td>\n",
        "        <td>Entalpia de combustão</td>\n",
        "    </tr>\n",
        "    <tr>\n",
        "        <td>CH4O</td>\n",
        "        <td>32.042 g/mol</td>\n",
        "        <td>Methanol</td>\n",
        "        <td>−715,0 kJ/mol</td>\n",
        "    </tr>\n",
        "    <tr>\n",
        "        <td>C4H8O2</td>\n",
        "        <td>88.106 g/mol</td>\n",
        "        <td>Ethyl acetate</td>\n",
        "        <td>-478,82 kJ/mol</td>\n",
        "    </tr>\n",
        "</table>\n",
        "</th>\n",
        "\n",
        "</br> \n",
        "\n",
        "<p align=\"justify\"> \n",
        "Tabela 1. Características gerais dos compostos puros Methanol e Ethyl acetate.\n",
        "</p>\n",
        "\n",
        "<p align=\"justify\"> Destaca-se que esta mistura é composta por dois compostos utilizados como combustíveis o que contribui para a formação de combustão destes e consequentemente, a liberação de energia. A entalpia dos compostos apresenta um valor médio-alto de excecução, sendo o do Methanol de -715 kJ/mol e do Ethyl acetate cerca de -478 kJ/mol - os valores são negativos, pois apresentam a liberação da energia.</p>\n",
        "\n",
        "<p align=\"justify\"> Retomada as discussões abordadas no Desafio 1, o próximo desafio consiste no desenvolvimento e atuação de ações que visem a separação dos líquidos na mistura e a evaporação do combustível. De modo a descrever esses procedimentos, deve-se determinar o volume total da mistura calculado a partir dos volumes parciais molares, o comportamento dessa mistura e as características de seu diagrama de fases, além da determinação da pressão de vapor dos compostos.\n",
        "</p>\n"
      ],
      "metadata": {
        "id": "NLICWTv33GXC"
      }
    },
    {
      "cell_type": "markdown",
      "source": [
        "<h2 p align=\"justify\"> <b> PARÂMETROS INICIAS </b> </p> </h4>\n",
        "\n",
        "<p align=\"justify\"> Os valores de densidade utilizados nesse estudo são valores mensurados pelo estudo de Gonzáléz et al. (2007) que em uma mistura de Methanol e Ethyl Acetate, apresentam o valor de densidade de 0.83730 g/ cm-3. A fim de se obter esses valores, opta-se pelo valor de Pressão da mistura de 24318 Pascal - condição de baixa pressão a fim dos valores baterem com a densidade teórica encontrada pelos estudos de Gonzaléz et al. (2007). </p>\n",
        "\n",
        "<p align=\"justify\"> O conjunto de dados que determina os valores de temperatura necessária do solvente puro e a fração molar de cada composto para a mistura é obtido por meio do database <a href=\"http://azeotrope.info/\"> Azeotrope</a> que utiliza o modelo UNIFAC. Porque utilizamos a database Azeotrope? Isso ocorre, porque a nossa mistura é azeotrópica - vamos comentar um pouco mais sobre isso em uma seção posterior; e esse database informa características de amostras azeotopas. Os valores de temperatura e fração molar são observados na Figura 1.  </p>\n",
        " </p>\n",
        "<p align=\"center\"><img src=\"https://user-images.githubusercontent.com/106678040/233070033-aa24f4d9-3890-4bdd-8aa6-87f560146e00.png\"></p>\n",
        "\n",
        "Figura 1. Tabela de informações da mistura azeotropica do Methanol + Ethyl Acetate de acordo com a pressão constante determinada.\n"
      ],
      "metadata": {
        "id": "vWhyvnRakdIu"
      }
    },
    {
      "cell_type": "markdown",
      "source": [
        "<h2 p align=\"justify\"> <b> COMPORTAMENTO DA MISTURA </b> </p> </h4>\r\n",
        "\r\n",
        "<p align=\"justify\"> De modo a compreender o comportamento da mistura, inicialmente, deve-se caracteriza-la como uma mistura ideal ou não-ideal. As misturas ideais são aquelas que apresentam partículas similares, no que diz respeito a sua forma, tamanho e interações moleculares, por sua vez, as misturas não-ideais são aquelas em que as partículas não apresentam propriedades similares. </p>\r\n",
        "<p align=\"justify\"> As misturas não-ideias podem ocorrer de duas maneiras, isto é, quando as forças intermoleculares entre moléculas de soluto e solvente são menos fortes do que entre moléculas de moléculas semelhantes (do mesmo tipo) e quando as forças intermoleculares entre as moléculas diferentes são maiores. </p>\r\n",
        "\r\n",
        "<p align=\"justify\">  Além do mais, pensando a respeito da pressão, observa-se que as misturas não-ideais, não obedecem à lei de Raoult para todas as faixas de concentração e temperatura, pois podem demonstrar desvios positivos ou negativos de acordo com a faixa considerada ideal pela lei. Por fim, observa-se que soluções não-ideais apresentam azeótopos e a nossa mistura combustível, Methanol + Ethyl Acetate se apresenta como uma mistura azeotrópica, sendo portanto, uma mistura não-ideal.</p>\r\n",
        "\r\n",
        "\r\n",
        "<h4 p align=\"justify\"> <b> Mistura Azeotrópica </b> </p> </h4>\r\n",
        "\r\n",
        "<p align=\"justify\"> Azeótropos são misturas não-ideias de dois ou mais líquidos que se desviam da Lei de Raoult. O ponto azeotrópico é considerado como o ponto de interseção encontrado no diagrama de fases VLE da mistura binária, sendo o momento em que a mistura atinge a pureza máxima, a partir desse ponto, não se pode cometer mais a destilação simples, sendo necessário utilizar a destilação azeótropica.  </p>\r\n",
        "<p align=\"justify\"> Essas características nos permitem determinar que como a sua composição é inalterada, em um determinado ponto, pela destilação simples, os azeótopos podem ser considerados como uma mistura de ponto de ebulição constante (fixo).  </p>\r\n",
        "<p align=\"justify\"> Existem dois tipos de azéotopos: os de ebulição máxima e os de ebulição mínima. Azéotopos de ebulição mínima, apresentam um maior desvio positivo da lei de Raoult. Este caso, é o da nossa mistura: Methanol + Ethyl Acetate (a seção que descreve a Lei de Raoult se encontra no final do notebook). </p>\r\n",
        "<p align=\"justify\"> Os azéotopos de ponto de ebulição mínima apresentam uma menor temperatura de ebulição do que a composição pura dos seus compostos, esse tipo de azéotopo também pode ser considerado como azéotopo positivo. </p>\r\n",
        "<p align=\"justify\"> Dissertado brevemente a respeito do comportamento da mistura, iremos comentar sobre o seu diagrama de fases, corelacionando os conceitos teóricos de azeótopos e o comportamento do diagrama de fases da nossa mistura. </p>\r\n"
      ],
      "metadata": {
        "id": "fh8k2k42N2B3"
      }
    },
    {
      "cell_type": "markdown",
      "source": [
        "<h2 p align=\"justify\"> <b> DIAGRAMA DE FASES </b> </p> </h4>\n",
        "\n",
        "<p align=\"justify\"> Os diagramas de fase apresentam suma relevância na compreensão de um sistema de misturas, já que eles demonstras as elações entre as fases de um sistema em função da temperatura, pressão e fração molar. Neste projeto, demonstramos a relação de um diagrama de fases Isobárico, isto é, a relação da fração molar da substância binária: Ethyl Acetate + Methanol em função da diferença de temperatura sobre um pressão constante de 24,318 kPa (24318 Pascal). </p>\n",
        "<p align=\"justify\"> De modo a plotar o gráfico, importa-se as bibliotecas do pandas e matplotlib para criar um dataframe com os dados txt da fração molar e das temperaturas da mistura no estado liquído e no estado de vapor. Os dados em .txt foram retirados do database <a href=\"http://vle-calc.com/phase_diagram.html \"> VLE-Calc</a>.  </p>\n"
      ],
      "metadata": {
        "id": "AUBWs8cqOTrJ"
      }
    },
    {
      "cell_type": "code",
      "execution_count": null,
      "source": [
        "# Import das bibliotecas\r\n",
        "# Para uso gráfico\r\n",
        "import pandas as pd\r\n",
        "import matplotlib.pyplot as plt\r\n",
        "import matplotlib.patches as patches\r\n",
        "from matplotlib.lines import Line2D\r\n",
        "\r\n",
        "# Para uso matemático\r\n",
        "import numpy as np\r\n",
        "import math"
      ],
      "outputs": [],
      "metadata": {
        "id": "r1M0bMRZOWTA"
      }
    },
    {
      "cell_type": "code",
      "execution_count": null,
      "source": [
        "# Vamos entender o nosso diagrama de fases?\r\n",
        "# Criação do dataframe a partir dos dados retirados da database VLE-CALC.\r\n",
        "misturinha = pd.read_csv('misturinha_acetato_methanol_303k.txt', sep='\\t')\r\n",
        "# misturinha "
      ],
      "outputs": [
        {
          "output_type": "execute_result",
          "data": {
            "text/html": [
              "\n",
              "  <div id=\"df-fba277ef-3057-493d-a9d1-0db170777229\">\n",
              "    <div class=\"colab-df-container\">\n",
              "      <div>\n",
              "<style scoped>\n",
              "    .dataframe tbody tr th:only-of-type {\n",
              "        vertical-align: middle;\n",
              "    }\n",
              "\n",
              "    .dataframe tbody tr th {\n",
              "        vertical-align: top;\n",
              "    }\n",
              "\n",
              "    .dataframe thead th {\n",
              "        text-align: right;\n",
              "    }\n",
              "</style>\n",
              "<table border=\"1\" class=\"dataframe\">\n",
              "  <thead>\n",
              "    <tr style=\"text-align: right;\">\n",
              "      <th></th>\n",
              "      <th>Temperature</th>\n",
              "      <th>x1</th>\n",
              "      <th>y1</th>\n",
              "    </tr>\n",
              "  </thead>\n",
              "  <tbody>\n",
              "    <tr>\n",
              "      <th>0</th>\n",
              "      <td>312.441</td>\n",
              "      <td>0.000</td>\n",
              "      <td>0.000000</td>\n",
              "    </tr>\n",
              "    <tr>\n",
              "      <th>1</th>\n",
              "      <td>312.364</td>\n",
              "      <td>0.001</td>\n",
              "      <td>0.004454</td>\n",
              "    </tr>\n",
              "    <tr>\n",
              "      <th>2</th>\n",
              "      <td>312.285</td>\n",
              "      <td>0.002</td>\n",
              "      <td>0.008853</td>\n",
              "    </tr>\n",
              "    <tr>\n",
              "      <th>3</th>\n",
              "      <td>312.206</td>\n",
              "      <td>0.003</td>\n",
              "      <td>0.013198</td>\n",
              "    </tr>\n",
              "    <tr>\n",
              "      <th>4</th>\n",
              "      <td>312.129</td>\n",
              "      <td>0.004</td>\n",
              "      <td>0.017490</td>\n",
              "    </tr>\n",
              "    <tr>\n",
              "      <th>5</th>\n",
              "      <td>311.976</td>\n",
              "      <td>0.006</td>\n",
              "      <td>0.025919</td>\n",
              "    </tr>\n",
              "    <tr>\n",
              "      <th>6</th>\n",
              "      <td>311.827</td>\n",
              "      <td>0.008</td>\n",
              "      <td>0.034146</td>\n",
              "    </tr>\n",
              "    <tr>\n",
              "      <th>7</th>\n",
              "      <td>311.680</td>\n",
              "      <td>0.010</td>\n",
              "      <td>0.042179</td>\n",
              "    </tr>\n",
              "    <tr>\n",
              "      <th>8</th>\n",
              "      <td>310.990</td>\n",
              "      <td>0.020</td>\n",
              "      <td>0.079651</td>\n",
              "    </tr>\n",
              "    <tr>\n",
              "      <th>9</th>\n",
              "      <td>310.363</td>\n",
              "      <td>0.030</td>\n",
              "      <td>0.113146</td>\n",
              "    </tr>\n",
              "    <tr>\n",
              "      <th>10</th>\n",
              "      <td>309.793</td>\n",
              "      <td>0.040</td>\n",
              "      <td>0.143255</td>\n",
              "    </tr>\n",
              "    <tr>\n",
              "      <th>11</th>\n",
              "      <td>308.796</td>\n",
              "      <td>0.060</td>\n",
              "      <td>0.195163</td>\n",
              "    </tr>\n",
              "    <tr>\n",
              "      <th>12</th>\n",
              "      <td>307.958</td>\n",
              "      <td>0.080</td>\n",
              "      <td>0.238332</td>\n",
              "    </tr>\n",
              "    <tr>\n",
              "      <th>13</th>\n",
              "      <td>307.246</td>\n",
              "      <td>0.100</td>\n",
              "      <td>0.274827</td>\n",
              "    </tr>\n",
              "    <tr>\n",
              "      <th>14</th>\n",
              "      <td>305.877</td>\n",
              "      <td>0.150</td>\n",
              "      <td>0.345663</td>\n",
              "    </tr>\n",
              "    <tr>\n",
              "      <th>15</th>\n",
              "      <td>304.913</td>\n",
              "      <td>0.200</td>\n",
              "      <td>0.397605</td>\n",
              "    </tr>\n",
              "    <tr>\n",
              "      <th>16</th>\n",
              "      <td>304.210</td>\n",
              "      <td>0.250</td>\n",
              "      <td>0.438133</td>\n",
              "    </tr>\n",
              "    <tr>\n",
              "      <th>17</th>\n",
              "      <td>303.686</td>\n",
              "      <td>0.300</td>\n",
              "      <td>0.471466</td>\n",
              "    </tr>\n",
              "    <tr>\n",
              "      <th>18</th>\n",
              "      <td>303.287</td>\n",
              "      <td>0.350</td>\n",
              "      <td>0.500181</td>\n",
              "    </tr>\n",
              "    <tr>\n",
              "      <th>19</th>\n",
              "      <td>302.981</td>\n",
              "      <td>0.400</td>\n",
              "      <td>0.525974</td>\n",
              "    </tr>\n",
              "    <tr>\n",
              "      <th>20</th>\n",
              "      <td>302.748</td>\n",
              "      <td>0.450</td>\n",
              "      <td>0.550043</td>\n",
              "    </tr>\n",
              "    <tr>\n",
              "      <th>21</th>\n",
              "      <td>302.575</td>\n",
              "      <td>0.500</td>\n",
              "      <td>0.573307</td>\n",
              "    </tr>\n",
              "    <tr>\n",
              "      <th>22</th>\n",
              "      <td>302.454</td>\n",
              "      <td>0.550</td>\n",
              "      <td>0.596534</td>\n",
              "    </tr>\n",
              "    <tr>\n",
              "      <th>23</th>\n",
              "      <td>302.384</td>\n",
              "      <td>0.600</td>\n",
              "      <td>0.620438</td>\n",
              "    </tr>\n",
              "    <tr>\n",
              "      <th>24</th>\n",
              "      <td>302.366</td>\n",
              "      <td>0.650</td>\n",
              "      <td>0.645752</td>\n",
              "    </tr>\n",
              "    <tr>\n",
              "      <th>25</th>\n",
              "      <td>302.407</td>\n",
              "      <td>0.700</td>\n",
              "      <td>0.673312</td>\n",
              "    </tr>\n",
              "    <tr>\n",
              "      <th>26</th>\n",
              "      <td>302.516</td>\n",
              "      <td>0.750</td>\n",
              "      <td>0.704166</td>\n",
              "    </tr>\n",
              "    <tr>\n",
              "      <th>27</th>\n",
              "      <td>302.712</td>\n",
              "      <td>0.800</td>\n",
              "      <td>0.739743</td>\n",
              "    </tr>\n",
              "    <tr>\n",
              "      <th>28</th>\n",
              "      <td>303.022</td>\n",
              "      <td>0.850</td>\n",
              "      <td>0.782152</td>\n",
              "    </tr>\n",
              "    <tr>\n",
              "      <th>29</th>\n",
              "      <td>303.491</td>\n",
              "      <td>0.900</td>\n",
              "      <td>0.834768</td>\n",
              "    </tr>\n",
              "    <tr>\n",
              "      <th>30</th>\n",
              "      <td>303.739</td>\n",
              "      <td>0.920</td>\n",
              "      <td>0.859861</td>\n",
              "    </tr>\n",
              "    <tr>\n",
              "      <th>31</th>\n",
              "      <td>304.032</td>\n",
              "      <td>0.940</td>\n",
              "      <td>0.888040</td>\n",
              "    </tr>\n",
              "    <tr>\n",
              "      <th>32</th>\n",
              "      <td>304.378</td>\n",
              "      <td>0.960</td>\n",
              "      <td>0.920051</td>\n",
              "    </tr>\n",
              "    <tr>\n",
              "      <th>33</th>\n",
              "      <td>304.575</td>\n",
              "      <td>0.970</td>\n",
              "      <td>0.937796</td>\n",
              "    </tr>\n",
              "    <tr>\n",
              "      <th>34</th>\n",
              "      <td>304.791</td>\n",
              "      <td>0.980</td>\n",
              "      <td>0.956904</td>\n",
              "    </tr>\n",
              "    <tr>\n",
              "      <th>35</th>\n",
              "      <td>305.027</td>\n",
              "      <td>0.990</td>\n",
              "      <td>0.977564</td>\n",
              "    </tr>\n",
              "    <tr>\n",
              "      <th>36</th>\n",
              "      <td>305.077</td>\n",
              "      <td>0.992</td>\n",
              "      <td>0.981901</td>\n",
              "    </tr>\n",
              "    <tr>\n",
              "      <th>37</th>\n",
              "      <td>305.128</td>\n",
              "      <td>0.994</td>\n",
              "      <td>0.986311</td>\n",
              "    </tr>\n",
              "    <tr>\n",
              "      <th>38</th>\n",
              "      <td>305.180</td>\n",
              "      <td>0.996</td>\n",
              "      <td>0.990796</td>\n",
              "    </tr>\n",
              "    <tr>\n",
              "      <th>39</th>\n",
              "      <td>305.206</td>\n",
              "      <td>0.997</td>\n",
              "      <td>0.993067</td>\n",
              "    </tr>\n",
              "    <tr>\n",
              "      <th>40</th>\n",
              "      <td>305.233</td>\n",
              "      <td>0.998</td>\n",
              "      <td>0.995358</td>\n",
              "    </tr>\n",
              "    <tr>\n",
              "      <th>41</th>\n",
              "      <td>305.260</td>\n",
              "      <td>0.999</td>\n",
              "      <td>0.997669</td>\n",
              "    </tr>\n",
              "    <tr>\n",
              "      <th>42</th>\n",
              "      <td>305.284</td>\n",
              "      <td>1.000</td>\n",
              "      <td>1.000000</td>\n",
              "    </tr>\n",
              "  </tbody>\n",
              "</table>\n",
              "</div>\n",
              "      <button class=\"colab-df-convert\" onclick=\"convertToInteractive('df-fba277ef-3057-493d-a9d1-0db170777229')\"\n",
              "              title=\"Convert this dataframe to an interactive table.\"\n",
              "              style=\"display:none;\">\n",
              "        \n",
              "  <svg xmlns=\"http://www.w3.org/2000/svg\" height=\"24px\"viewBox=\"0 0 24 24\"\n",
              "       width=\"24px\">\n",
              "    <path d=\"M0 0h24v24H0V0z\" fill=\"none\"/>\n",
              "    <path d=\"M18.56 5.44l.94 2.06.94-2.06 2.06-.94-2.06-.94-.94-2.06-.94 2.06-2.06.94zm-11 1L8.5 8.5l.94-2.06 2.06-.94-2.06-.94L8.5 2.5l-.94 2.06-2.06.94zm10 10l.94 2.06.94-2.06 2.06-.94-2.06-.94-.94-2.06-.94 2.06-2.06.94z\"/><path d=\"M17.41 7.96l-1.37-1.37c-.4-.4-.92-.59-1.43-.59-.52 0-1.04.2-1.43.59L10.3 9.45l-7.72 7.72c-.78.78-.78 2.05 0 2.83L4 21.41c.39.39.9.59 1.41.59.51 0 1.02-.2 1.41-.59l7.78-7.78 2.81-2.81c.8-.78.8-2.07 0-2.86zM5.41 20L4 18.59l7.72-7.72 1.47 1.35L5.41 20z\"/>\n",
              "  </svg>\n",
              "      </button>\n",
              "      \n",
              "  <style>\n",
              "    .colab-df-container {\n",
              "      display:flex;\n",
              "      flex-wrap:wrap;\n",
              "      gap: 12px;\n",
              "    }\n",
              "\n",
              "    .colab-df-convert {\n",
              "      background-color: #E8F0FE;\n",
              "      border: none;\n",
              "      border-radius: 50%;\n",
              "      cursor: pointer;\n",
              "      display: none;\n",
              "      fill: #1967D2;\n",
              "      height: 32px;\n",
              "      padding: 0 0 0 0;\n",
              "      width: 32px;\n",
              "    }\n",
              "\n",
              "    .colab-df-convert:hover {\n",
              "      background-color: #E2EBFA;\n",
              "      box-shadow: 0px 1px 2px rgba(60, 64, 67, 0.3), 0px 1px 3px 1px rgba(60, 64, 67, 0.15);\n",
              "      fill: #174EA6;\n",
              "    }\n",
              "\n",
              "    [theme=dark] .colab-df-convert {\n",
              "      background-color: #3B4455;\n",
              "      fill: #D2E3FC;\n",
              "    }\n",
              "\n",
              "    [theme=dark] .colab-df-convert:hover {\n",
              "      background-color: #434B5C;\n",
              "      box-shadow: 0px 1px 3px 1px rgba(0, 0, 0, 0.15);\n",
              "      filter: drop-shadow(0px 1px 2px rgba(0, 0, 0, 0.3));\n",
              "      fill: #FFFFFF;\n",
              "    }\n",
              "  </style>\n",
              "\n",
              "      <script>\n",
              "        const buttonEl =\n",
              "          document.querySelector('#df-fba277ef-3057-493d-a9d1-0db170777229 button.colab-df-convert');\n",
              "        buttonEl.style.display =\n",
              "          google.colab.kernel.accessAllowed ? 'block' : 'none';\n",
              "\n",
              "        async function convertToInteractive(key) {\n",
              "          const element = document.querySelector('#df-fba277ef-3057-493d-a9d1-0db170777229');\n",
              "          const dataTable =\n",
              "            await google.colab.kernel.invokeFunction('convertToInteractive',\n",
              "                                                     [key], {});\n",
              "          if (!dataTable) return;\n",
              "\n",
              "          const docLinkHtml = 'Like what you see? Visit the ' +\n",
              "            '<a target=\"_blank\" href=https://colab.research.google.com/notebooks/data_table.ipynb>data table notebook</a>'\n",
              "            + ' to learn more about interactive tables.';\n",
              "          element.innerHTML = '';\n",
              "          dataTable['output_type'] = 'display_data';\n",
              "          await google.colab.output.renderOutput(dataTable, element);\n",
              "          const docLink = document.createElement('div');\n",
              "          docLink.innerHTML = docLinkHtml;\n",
              "          element.appendChild(docLink);\n",
              "        }\n",
              "      </script>\n",
              "    </div>\n",
              "  </div>\n",
              "  "
            ],
            "text/plain": [
              "    Temperature     x1        y1\n",
              "0       312.441  0.000  0.000000\n",
              "1       312.364  0.001  0.004454\n",
              "2       312.285  0.002  0.008853\n",
              "3       312.206  0.003  0.013198\n",
              "4       312.129  0.004  0.017490\n",
              "5       311.976  0.006  0.025919\n",
              "6       311.827  0.008  0.034146\n",
              "7       311.680  0.010  0.042179\n",
              "8       310.990  0.020  0.079651\n",
              "9       310.363  0.030  0.113146\n",
              "10      309.793  0.040  0.143255\n",
              "11      308.796  0.060  0.195163\n",
              "12      307.958  0.080  0.238332\n",
              "13      307.246  0.100  0.274827\n",
              "14      305.877  0.150  0.345663\n",
              "15      304.913  0.200  0.397605\n",
              "16      304.210  0.250  0.438133\n",
              "17      303.686  0.300  0.471466\n",
              "18      303.287  0.350  0.500181\n",
              "19      302.981  0.400  0.525974\n",
              "20      302.748  0.450  0.550043\n",
              "21      302.575  0.500  0.573307\n",
              "22      302.454  0.550  0.596534\n",
              "23      302.384  0.600  0.620438\n",
              "24      302.366  0.650  0.645752\n",
              "25      302.407  0.700  0.673312\n",
              "26      302.516  0.750  0.704166\n",
              "27      302.712  0.800  0.739743\n",
              "28      303.022  0.850  0.782152\n",
              "29      303.491  0.900  0.834768\n",
              "30      303.739  0.920  0.859861\n",
              "31      304.032  0.940  0.888040\n",
              "32      304.378  0.960  0.920051\n",
              "33      304.575  0.970  0.937796\n",
              "34      304.791  0.980  0.956904\n",
              "35      305.027  0.990  0.977564\n",
              "36      305.077  0.992  0.981901\n",
              "37      305.128  0.994  0.986311\n",
              "38      305.180  0.996  0.990796\n",
              "39      305.206  0.997  0.993067\n",
              "40      305.233  0.998  0.995358\n",
              "41      305.260  0.999  0.997669\n",
              "42      305.284  1.000  1.000000"
            ]
          },
          "metadata": {},
          "execution_count": 30
        }
      ],
      "metadata": {
        "id": "qwp8dxCFOPVa",
        "colab": {
          "base_uri": "https://localhost:8080/",
          "height": 1000
        },
        "outputId": "c9b881ad-b525-4272-a08f-a8d8a5e54161"
      }
    },
    {
      "cell_type": "markdown",
      "source": [
        "<p align=\"justify\"> A fim de demonstrar o comportamento de destilação da mistura até o ponto azeótopo, desenvolve-se a função de escada. É possível identificar o ponto de concentração inicial da mistura de 0.1 molar de Methanol e o seu comportamento de pureza até o ponto azeótopo de 0.64 molar. </p>"
      ],
      "metadata": {
        "id": "oSK63_9N7nYE"
      }
    },
    {
      "cell_type": "code",
      "execution_count": null,
      "source": [
        "def escada(ax, con, df, iteracoes=10, df_up_label='y1', df_down_label='x1', df_temp_label='Temperature', make_first_trail=True):\r\n",
        "    from scipy.interpolate import CubicSpline as CS\r\n",
        "    from copy import deepcopy as dc\r\n",
        "    \r\n",
        "    upSpline = CS(df[df_up_label], df[df_temp_label])\r\n",
        "    downSpline = CS(df[df_down_label], df[df_temp_label])\r\n",
        "    \r\n",
        "    concentracoes = [con]\r\n",
        "    temperaturas = [upSpline(con)]\r\n",
        "    \r\n",
        "    first = True\r\n",
        "    \r\n",
        "    for _ in range(iteracoes):\r\n",
        "        x1 = con\r\n",
        "        y1 = downSpline(x1)\r\n",
        "        ax.scatter(x1, y1, c='#ff0000', s=15)\r\n",
        "        \r\n",
        "        y2 = y1\r\n",
        "        x2 = upSpline.solve(y2)\r\n",
        "        \r\n",
        "        x2_c = dc(x2)\r\n",
        "        dist = float('+inf')\r\n",
        "        for i, x in enumerate(x2_c):\r\n",
        "            if x < 0:\r\n",
        "                continue\r\n",
        "            if abs(x - x1) < dist:\r\n",
        "                dist = abs(x - x1)\r\n",
        "                x2 = x2_c[i]\r\n",
        "        ax.scatter(x2, y2, c='#ff0000', s=15)\r\n",
        "        \r\n",
        "        ymin_vert = upSpline(x1)\r\n",
        "        if first and make_first_trail:\r\n",
        "            first = False\r\n",
        "            ymin_vert = min(df[df_temp_label]) - 1\r\n",
        "        elif first and not make_first_trail:\r\n",
        "            first = False\r\n",
        "            ymin_vert = downSpline(x1)\r\n",
        "        \r\n",
        "        ax.vlines(x=x1, ymin=ymin_vert, ymax=y2, ls='--', color='#ff0000')\r\n",
        "        ax.hlines(y=y1, xmin=x1, xmax=x2, ls='--', color='#ff0000')\r\n",
        "        \r\n",
        "        concentracoes.append(x2)\r\n",
        "        temperaturas.append(y2)\r\n",
        "        \r\n",
        "        con = x2\r\n",
        "    \r\n",
        "    return upSpline, downSpline, concentracoes, temperaturas"
      ],
      "outputs": [],
      "metadata": {
        "id": "esFG1M63mzSw"
      }
    },
    {
      "cell_type": "markdown",
      "source": [
        "<p align=\"justify\"> Definido os dados e realizada a função de escada da destilação, plota-se o diagrama de fases da mistura. </p>"
      ],
      "metadata": {
        "id": "7suzHn1R8Z8U"
      }
    },
    {
      "cell_type": "code",
      "execution_count": null,
      "source": [
        "# Identificação das colunas do dataframe\r\n",
        "x = misturinha['x1'] \r\n",
        "T = misturinha['Temperature'] \r\n",
        "y = misturinha['y1'] \r\n",
        "\r\n",
        "\r\n",
        "# Plot da Figura \r\n",
        "fig = plt.figure(figsize=(12,8))\r\n",
        "\r\n",
        "\r\n",
        "# Criar primeiro conjunto de dados da mistura em estado liquído\r\n",
        "plt.plot(x, T, linestyle='--', label=\"Dados coletados\", color = 'black', alpha=1) # Colocar a linha do conjunto de dados\r\n",
        "plt.scatter(x, T, color='fuchsia', s=80) # Marcar os pontos determinados do dataframe \r\n",
        "\r\n",
        "# Criar primeiro conjunto de dados da mistura em estado gasoso\r\n",
        "plt.plot(y,T, linestyle='--', label=\"Dados coletados\", color = 'black', alpha=1) # Colocar a linha do conjunto de dados\r\n",
        "plt.scatter(y, T, marker='^', color='lightseagreen', s=80) # Marcar os pontos determinados do dataframe \r\n",
        "\r\n",
        "\r\n",
        "# Criar título central e título dos eixos\r\n",
        "plt.title(\"Diagrama de Fases: Ethyl Acetate + Methanol\")\r\n",
        "plt.xlabel('x,y (Methanol) [mol/mol]')\r\n",
        "plt.ylabel('Temperatura [K]')\r\n",
        "\r\n",
        "# Delimitar o limite dos eixos\r\n",
        "plt.ylim(300, 314)\r\n",
        "plt.xlim(0, 1)\r\n",
        "\r\n",
        "# Colocar um quadrado ao entorno da possível zona azotópica\r\n",
        "ax = plt.gca()\r\n",
        "quadradinho = patches.Rectangle((0.60, 301.8), 0.12, 1.4, linewidth=1,edgecolor='blue', facecolor='none') \r\n",
        "ax.add_patch(quadradinho)\r\n",
        "\r\n",
        "#Marcar por meio de um circúlo (o), o ponto azotópico da mistura\r\n",
        "plt.plot([0.65663, 0.65663], [1, 302.366 ], ls=\"--\", c=\"black\")\r\n",
        "plt.plot(0.65663, 302.366,  \"o\", color = 'black')\r\n",
        "plt.text(0.59, 303.5, \"PONTO AZEÓTOPO\")\r\n",
        "plt.text(0.100, 307.500, \"a1\")\r\n",
        "plt.text(0.274827, 307.500, \"a1'\")\r\n",
        "\r\n",
        "upSpline, downSpline, cons, temps = escada(ax, .1, misturinha, iteracoes=5, make_first_trail= False)\r\n",
        "\r\n",
        "#Legenda do gráfico plotado\r\n",
        "legend_elements = [Line2D([0], [0], marker='o', color='fuchsia', label='Liquído'),\r\n",
        "                   Line2D([0], [0], marker='^', color='lightseagreen', label='Vapor')]\r\n",
        "\r\n",
        "plt.legend(handles=legend_elements)\r\n",
        "\r\n",
        "plt.step(x, y)\r\n",
        "\r\n",
        "# Plotar todo o gráfico com os comandos determinados anteriormente\r\n",
        "plt.show()"
      ],
      "outputs": [
        {
          "output_type": "display_data",
          "data": {
            "image/png": "[encoded data removed]",
            "text/plain": [
              "<Figure size 1200x800 with 1 Axes>"
            ]
          },
          "metadata": {}
        }
      ],
      "metadata": {
        "id": "SgnchIG-Okoz",
        "colab": {
          "base_uri": "https://localhost:8080/",
          "height": 718
        },
        "outputId": "ad96d82c-85b1-4eb4-f403-4f7057b26b5b"
      }
    },
    {
      "cell_type": "markdown",
      "source": [
        "<h4 p align=\"justify\"> ANÁLISE DO DIAGRAMA DE FASES </p> </h4>\r\n",
        "\r\n",
        "<p align= \"justify\"> Os diagramas de fases de Temperatura [K] x Fração Molar [mol] são ótimos para a identificação de destilação de substâncias, devido a ideia geral do diagrama consistir na variação do ponto de ebulição da\r\n",
        "mistura a cada composição molar e de  temperatura. Os pontos em rosa representam o estado líquido da mistura e os azuis o estado de vapor, afim de compreender melhor a destilação usa-se da ideia de \"Linhas de Amarração\" - as linhas vermelhas tracejadas no gráfico; responsáveis para a determinação da composição do líquido e do vapor em equilíbrio para uma determinada concentração de temperatura. </p>\r\n",
        "<p align=\"justify\"> Exemplificando a situação, temos que a mistura líquida atinge a temperatura de 307K, correspondente ao ponto a1, quando se inicia a sua ebulição, por sua vez, ao analisarmos a linha de amarração sabemos que o vapor em equilíbrio tem composição a1´. O vapor gerado irá para uma região de temperatura mais fria, aproximadamente 304L, repetindo o processo, de forma a purificar a amostra até chegar no ponto máximo da destilação: o ponto azeótopo, um ponto em que há uma interseção entre os valores de vapor e líquido, sendo esse, o ponto azeótopo que corresponde a uma fração molar de 0. 641121 Methanol. </p>"
      ],
      "metadata": {
        "id": "gaILvSbA8jGx"
      }
    },
    {
      "cell_type": "markdown",
      "source": [
        "<h2 p align=\"justify\"> <b> VOLUME DA MISTURA </b> </p> </h4>\r\n"
      ],
      "metadata": {
        "id": "aUlrIXvkRiRx"
      }
    },
    {
      "cell_type": "markdown",
      "source": [
        "\r\n",
        "<p align= \"justify\"> Para começar a definir os parâmetros de funcionamento da nossa Termoelétrica e a separação dos combustíveis, definiu-se a massa da mistura, a qual possui o valor de 1 tonelada da mistura combustível. Com base nisso, inicia-se uma discussão acerca das propriedades da mistura, e a dinâmica delas com o Ciclo de Rankine. </p> \r\n",
        "\r\n",
        "<p align= \"justify\"> No que diz respeito aos primeiros passos para tratar a mistura, consideramos as propriedades individuais de cada substância, analisando seus volumes, molaridades e pressões para construir, desta forma, a dinâmica de nossa mistura combustível.</p>\r\n",
        "\r\n",
        "<p align= \"justify\"> Sendo assim, iniciamos nosso estudo com uma discussão acerca da definição das propriedades fundamentais dos gases, afim de obter o volume de cada componente na mistura de substâncias. Para isso, entende-se, primeiramente, que as propridades fundamentais são descritas por representações matemáticas, desta forma, podemos definir o volume como uma função $V(u, S, n_{1}, n_{2}, ... n_{n})$, onde $u$ representa energia, $S$ a entropia do sistema e $n_{n}$, o número de partículas referente a cada substância. No entanto, nesta função do volume, as variaveis se tratam de parâmetros extensivos, dificeis de serem controlados. Convém, portanto, buscar formas de trabalhar com parâmetros que possamos regular para o melhor funcionamento da termoelética.</p>\r\n",
        "\r\n",
        "<p align= \"justify\"> Entretanto, por propriedades matemáticas, a <i>Transformação de Legendre</i> permite substituir os parâmetros extensivos da função por variaveis intensivas. Desta forma, ao aplicar a transformada na função volume, o que se obtém é uma representação dos parâmetros extencivo em conceitos deriváveis, tal que\r\n",
        "</p>\r\n",
        "\r\n",
        "<p align=\"center\"> $dv = u\\ d \\left(\\frac{δV}{δu} \\right) + S\\ d(\\frac{δV}{δS}) + \\sum_{j=1}^{N} \\left(\\frac{δV}{δn_{j}}\\right) dn_{j}$. </p>\r\n",
        "\r\n",
        "<p align=\"justify\"> Sabe-se, porém que os valores das derivadas $\\frac{δv}{δu}=\\frac{-1}{P}$ e $\\frac{δv}{δS}=\\frac{T}{P}$ (onde $T$ corresponde à temperatura, e $P$ corresponde à pressão do sistema), neste caso, vale lembrar que, por hora, trabalhamos com valores de temperatura e pressão constante, portanto esta variação é nula. Assim, pode-se reescrever a equação do volume para o presente sistema de duas substâncias de forma que </p>\r\n",
        "\r\n",
        "<p align=\"center\"> $dv = \\left (\\frac{δV}{δn_{1}}\\right) dn_{1} + \\left (\\frac{δV}{δn_{2}}\\right ) dn_{2}$ </p>\r\n",
        "\r\n",
        "<p align=\"justify\"> Nesta transformação, contudo, podemos representar as derivadas dos parâmetros extensivos como valores parciais de volume, portanto\r\n",
        "\r\n",
        "<p align=\"center\"> $V =\\overset{-}V_{1} n_{1} + \\overset{-}V_{2} n_{2}$ </p>\r\n",
        "\r\n",
        "<p align=\"justify\"> Temos, desta forma, determinado o volume da mistura baseado no número de partículas de cada composto presentes no sistema. De forma análoga, pode-se obter o volume relativo a cada mol da mistura, considerando as frações molares dos compostos $x_{1}$ e $x_{2}$. Assim, entende-se que o volume por mol da mistura é dado pela soma dos volumes parciais de cada composto, vezes as respectivas frações molares: </p>\r\n",
        "\r\n",
        "<p align=\"center\"> $V_{M} =\\overset{-}V_{1} x_{1} + \\overset{-}V_{2} x_{2}$. </p>\r\n",
        "\r\n",
        "<p align=\"justify\"> Como conhecemos a densidade da mistura em parâmetros pré-estabelecidos, podemos relacioná-la com com o volume parcial molar dos compostos, de forma que</p>\r\n",
        "\r\n",
        "<p align=\"center\"> $ρ_{mistura} = \\frac{M_{1}}{\\overset{-}V_{1} (x_{1})}$</p>  \r\n",
        "<p align=\"center\"> $ρ_{mistura} = \\frac{M_{2}}{\\overset{-}V_{2} (x_{1})}$</p>\r\n",
        "\r\n",
        "<p align=\"justify\"> assim, se isolarmos os volumes parciais em cada caso, teremos que o volume total por mols será a soma das massas molares vezes a fração molar, dividido pela densidade referente a $x_{1}$:</p>\r\n",
        "\r\n",
        "<p align=\"center\"> $V_{M} = \\frac{M_{1} x_{1} + M_{2}(1 - x_{1})}{ρ_{mistura}}$</p>\r\n",
        "\r\n",
        "<p align=\"justify\"> Conhecendo este valor, podemos determinar o volume total de mistura calculando o número de mols presentes na massa de combustível. Para isso determina-se primeiro a massa molar da mistura, baseada na fração molar, já citada, de cada composto:\r\n",
        "\r\n",
        "<p align=\"center\"> $M_{mistura} = \\sum\\limits_{i=1}^{\\mbox{n}}x_{i}M_{i}$ </p>\r\n",
        "\r\n",
        "<p align=\"justify\"> onde $n$ corresponde ao número de compostos na mistura, $x$, a fração molar de cada composto na mistura e $M$, a massa molar de cada composto. Assim, tendo a massa molar da mistura, basta calcular o número de mols dado por:\r\n",
        "</p>\r\n",
        "\r\n",
        "<p align=\"center\"> $n_{mistura} = \\frac{m_{total}}{M_{mistura}}$ </p>\r\n",
        "\r\n",
        "<p align=\"justify\"> Desta forma, chegamos ao volume final da mistura combustível, a partir da fração molar de cada componente, determinada pelo diagrama de fases. </p>"
      ],
      "metadata": {
        "id": "8OLRZnQZfl3G"
      }
    },
    {
      "cell_type": "code",
      "execution_count": null,
      "source": [
        "# VALORES CONSTANTES DO PROBLEMA\r\n",
        "\r\n",
        "X1 = 0.641121\r\n",
        "DENSIDADE = 0.83730 # g/cm3\r\n",
        "MASSA_METANOL = 32.042 # g\r\n",
        "MASSA_ETIL = 88.106 # g\r\n",
        "MASSA_MISTURA = 1000000 # g\r\n",
        "\r\n",
        "# FUNÇÕES \r\n",
        "\r\n",
        "def molaridade_mistura(x1, M1, M2, massa_mistura):\r\n",
        "    \"\"\" \r\n",
        "    Calcula massa molar e número de mol da mistura\r\n",
        "\r\n",
        "      args: \r\n",
        "        x1: fração molar do composto 1\r\n",
        "        M1: massa molar do composto 1\r\n",
        "        M2: massa molar do composto 2\r\n",
        "        massa_mistura: massa total da mistura\r\n",
        "\r\n",
        "      return:\r\n",
        "        número de mols da mistura \r\n",
        "  \"\"\"\r\n",
        "\r\n",
        "    massa_molar = (x1*M1) + ((1-x1)*M2)\r\n",
        "\r\n",
        "    num_mols = massa_mistura/massa_molar\r\n",
        "\r\n",
        "    return num_mols, massa_molar \r\n",
        "\r\n",
        "\r\n",
        "def volume_parcial(M1, M2, x1, densidade):\r\n",
        "    \"\"\" \r\n",
        "    calcula o volume da mistura a partir da massa e densidade \r\n",
        "\r\n",
        "      Args: \r\n",
        "        M1: massa molar da primeira substância \r\n",
        "        M2: massa molar da segunda substância\r\n",
        "        x1: proporção da mistura em relação a primeira substância\r\n",
        "        densidade: densidade relativa da mistura \r\n",
        "\r\n",
        "      Returns: \r\n",
        "        volume da mistura \r\n",
        "  \"\"\"\r\n",
        "    a = M1 * x1\r\n",
        "    b = M2 * (1 - x1)\r\n",
        "\r\n",
        "    volume = (a + b)/densidade \r\n",
        "\r\n",
        "    return volume\r\n",
        "\r\n",
        "\r\n",
        "def volume_total(volume_parcial, num_mols):\r\n",
        "    \"\"\"\r\n",
        "    calcula o volume total da mistura a partir do volume por mol\r\n",
        "\r\n",
        "  \"\"\"\r\n",
        "\r\n",
        "    volume = volume_parcial * num_mols\r\n",
        "\r\n",
        "    return volume\r\n",
        "\r\n",
        "# VALORES OBTIDOS \r\n",
        "\r\n",
        "VOLUME_POR_MOL = volume_parcial(MASSA_METANOL, MASSA_ETIL, X1, DENSIDADE)\r\n",
        "\r\n",
        "NUMERO_DE_MOLS = molaridade_mistura(X1, MASSA_METANOL, MASSA_ETIL, MASSA_MISTURA)[0]\r\n",
        "\r\n",
        "VOLUME_TOTAL = volume_total(VOLUME_POR_MOL, NUMERO_DE_MOLS)\r\n",
        "\r\n",
        "MASSA_MOLAR = molaridade_mistura(X1, MASSA_METANOL, MASSA_ETIL, MASSA_MISTURA)[1]\r\n",
        "\r\n",
        "\r\n",
        "print(\"A massa molar da mistura é\", MASSA_MOLAR, \"g/mol.\")\r\n",
        "\r\n",
        "print(\"O número de mols da mistura é\", NUMERO_DE_MOLS, \".\")\r\n",
        "\r\n",
        "print(\"O volume por mol da mistura é, portanto,\", VOLUME_POR_MOL,\"cm3/mol.\")\r\n",
        "\r\n",
        "print(\"O volume total da mistura é\", VOLUME_TOTAL, \"cm3, ou \",VOLUME_TOTAL/1000, \"litros.\")"
      ],
      "outputs": [
        {
          "output_type": "stream",
          "name": "stdout",
          "text": [
            "A massa molar da mistura é 52.162192256 g/mol.\n",
            "O número de mols da mistura é 19170.973395677676 .\n",
            "O volume por mol da mistura é, portanto, 62.29809179027827 cm3/mol.\n",
            "O volume total da mistura é 1194315.0603129107 cm3. Em litros esse valor é 1194.3150603129106 L.\n"
          ]
        }
      ],
      "metadata": {
        "colab": {
          "base_uri": "https://localhost:8080/"
        },
        "id": "AbRmHQtaK1mu",
        "outputId": "a19b4dc9-5656-4f42-9a33-89739ee204de"
      }
    },
    {
      "cell_type": "markdown",
      "source": [
        "<h2 p align=\"justify\"> <b> A PRESSÃO DE VALOR DOS COMPOSTOS </b> </p> </h4>\n",
        "\n",
        "<p align=\"justify\"> Nos estudos, não foi possível a determinação de um diagrama de vaporização da mistura real, desse modo, para o cálculo de pressão de valor dos compostos é necessário se considerar uma mistura em um estado ideal, desse modo, utiliza-se da Lei de Raoult. Essa lei diz respeito a determinação da pressão máxima de vapor de uma solução multiplicando a fração molar do solvente com a pressão máxima de vapor do solvente puro. Em termos matemáticos, a fórmula pode ser descrita da seguinte forma:  </p>\n",
        "\n",
        "<p align=\"center\">  $P_1 = X_1 . P^*_1 $. </p>\n",
        "\n",
        "<p align=\"justify\">  Em que $P_1$  diz respeito a pressão do solvente na solução, $X_1$ é referente a pressão molar do solvente na solução e por fim, $P^*_1 $, diz respeito a pressão do solvente na solução pura. </p>\n",
        "\n",
        "<p align=\"justify\">  Como temos uma mistura binária, devemos realizar o cálculo de $P_1$ para o caso do Methanol e o caso do Ethyl Acetate e por fim, realizar a somatória da pressão de cada mistura, a fim de se obter a pressão total do valor dos compostos. Para a realização dos cálculos, desenvolve-se a função:</p>\n"
      ],
      "metadata": {
        "id": "UTJGvsO4ShLw"
      }
    },
    {
      "cell_type": "code",
      "execution_count": null,
      "source": [
        "def raoult_law(x1,p1):\r\n",
        "  ''' \r\n",
        "  Determina-se a pressão do solvente na solução binária por meio da Lei de Raoult.\r\n",
        "  Args: \r\n",
        "    X1: Fração Molar do solvente.\r\n",
        "    p1: Pressão do solvente da solução pura.\r\n",
        "\r\n",
        "  Return:\r\n",
        "    Lei de Raoult \r\n",
        "  '''\r\n",
        "  P_1 = x1 * p1\r\n",
        "  return P_1"
      ],
      "outputs": [],
      "metadata": {
        "id": "tzuuHmaHlys5"
      }
    },
    {
      "cell_type": "markdown",
      "source": [
        "<p align=\"justify\"> A fim de determinar  a pressão molar do solvente na solução pura, utiliza-se do database <a href=\"http://azeotrope.info/\"> Azeotrope</a>. Neste database, é possível obter informações de misturas azeótropicas a partir da determinação do tipo de gráfico e pressão utilizada. Na Figura 1, apresentou-se as condições azeotrópicas da mistura, assim, utilizou-se como fração molar do Methanol e do Ethyl Acetate, respectivamente, os valores de 0.641121 mol e 0.358879 mol. As respectivas pressões do solvente puro são de 21.0317 kPa e 15.4404 kPa. Obtida as informações, realiza-se os cálculos de pressão.</p>"
      ],
      "metadata": {
        "id": "n_D3BMWrlzWS"
      }
    },
    {
      "cell_type": "markdown",
      "source": [
        "<h4 p align=\"justify\">  VAMOS CALCULAR? </p>\n",
        "<h4 p align=\"justify\">  PRESSÃO DO METHANOL </p>"
      ],
      "metadata": {
        "id": "F1V-uNI_l5Hh"
      }
    },
    {
      "cell_type": "code",
      "execution_count": null,
      "source": [
        "# Constantes\r\n",
        "x1 = 0.641121 # fração molar\r\n",
        "p1 = 21.0317  # pressão molar do solvente na solução pura #kPa\r\n",
        "print(\"A pressão do composto Methanol da mistura é de\", raoult_law(x1,p1), \"kPa.\")"
      ],
      "outputs": [
        {
          "output_type": "stream",
          "name": "stdout",
          "text": [
            "A pressão do composto Methanol da mistura é de 13.483864535700002 kPa.\n"
          ]
        }
      ],
      "metadata": {
        "id": "3Kg2xtDL-xo6",
        "colab": {
          "base_uri": "https://localhost:8080/"
        },
        "outputId": "e634799c-0460-455e-ee6a-458bfb6e83fe"
      }
    },
    {
      "cell_type": "markdown",
      "source": [
        "\n",
        "<h4 p align=\"justify\"> PRESSÃO DO ETHYL ACETATE </p>\n"
      ],
      "metadata": {
        "id": "Lwppj37cl8I6"
      }
    },
    {
      "cell_type": "code",
      "execution_count": null,
      "source": [
        "# Constantes\r\n",
        "x2 = 0.358879\t# fração molar\r\n",
        "p2 = 15.4404\t#pressão molar do solvente na solução pura #kPA\r\n",
        "print(\"A pressão do composto Ethyl Acetate da mistura é de\", raoult_law(x2,p2),\"kPa.\")"
      ],
      "outputs": [
        {
          "output_type": "stream",
          "name": "stdout",
          "text": [
            "A pressão do composto Ethyl Acetate da mistura é de 5.5412353116 kPa.\n"
          ]
        }
      ],
      "metadata": {
        "id": "DgOHBuBql-J_",
        "colab": {
          "base_uri": "https://localhost:8080/"
        },
        "outputId": "526a4d00-118d-40ec-e9b8-bb1593c5a7ee"
      }
    },
    {
      "cell_type": "markdown",
      "source": [
        "\n",
        "<h4 p align=\"justify\">  PRESSÃO TOTAL DA MISTURA </p>\n"
      ],
      "metadata": {
        "id": "Ceabno1Rl__O"
      }
    },
    {
      "cell_type": "code",
      "execution_count": null,
      "source": [
        "PT = raoult_law(x1,p1) + raoult_law(x2,p2)\r\n",
        "print(\"A pressão total dos compostos é de\", PT, \"kPa.\")"
      ],
      "outputs": [
        {
          "output_type": "stream",
          "name": "stdout",
          "text": [
            "A pressão total dos compostos é de 19.0250998473 kPa.\n"
          ]
        }
      ],
      "metadata": {
        "id": "Uy5eD3klmCbV",
        "colab": {
          "base_uri": "https://localhost:8080/"
        },
        "outputId": "114c124e-3e9f-4c54-b2b8-0745f15237ed"
      }
    },
    {
      "cell_type": "markdown",
      "source": [
        "<h4 p align=\"justify\">  VAMOS FAZER GRÁFICOS? </p> </h4>\r\n",
        "<p align=\"justify\"> De modo a ilustrar a Lei de Raoult, simula-se os dados de pressão como se estes estivessem uma mistura ideal - já que não se encontrou o dataset com os valores reais de pressão. Para a simulação, determina-se vários pontos de pressão do solvente sobre a fração molar e plota-se os gráficos. </p>\r\n"
      ],
      "metadata": {
        "id": "yQNgZ4Yj01mT"
      }
    },
    {
      "cell_type": "code",
      "execution_count": null,
      "source": [
        "#Fração molar \r\n",
        "fracao_molar = pd.read_csv('fracao_molar.txt', sep='\\t')\r\n",
        "x = fracao_molar['x1']\r\n",
        "\r\n",
        "#Pressão de Methanol\r\n",
        "pressions = [raoult_law(frac, 21.0317) for frac in x]\r\n",
        "\r\n",
        "#Pressão de Ethyl Acetate\r\n",
        "pressionss = [raoult_law(frac, 15.4404) for frac in x] \r\n",
        "\r\n",
        "pression_total = [elemA + elemB for elemA, elemB in zip(pressions, pressionss[::-1])]\r\n",
        "\r\n",
        "# Lista de pressão do solvente 1\r\n",
        "print(pressions)\r\n",
        "# Lista de pressão do solvente 2\r\n",
        "print(pressionss)\r\n",
        "# Analisar a somátoria das listas de pressão\r\n",
        "print(pression_total)"
      ],
      "outputs": [
        {
          "output_type": "stream",
          "name": "stdout",
          "text": [
            "[0.0, 0.0210317, 0.0420634, 0.0630951, 0.0841268, 0.1261902, 0.1682536, 0.210317, 0.420634, 0.630951, 0.841268, 1.261902, 1.682536, 2.10317, 3.154755, 4.20634, 5.257925, 6.30951, 7.361095, 8.41268, 9.464265000000001, 10.51585, 11.567435000000001, 12.61902, 13.670605, 14.72219, 15.773775, 16.82536, 17.876945, 18.928530000000002, 19.349164000000002, 19.769797999999998, 20.190432, 20.400749, 20.611066, 20.821383, 20.8634464, 20.9055098, 20.9475732, 20.9686049, 20.9896366, 21.0106683, 21.0317]\n",
            "[0.0, 0.0154404, 0.0308808, 0.0463212, 0.0617616, 0.0926424, 0.1235232, 0.154404, 0.308808, 0.463212, 0.617616, 0.926424, 1.235232, 1.54404, 2.31606, 3.08808, 3.8601, 4.63212, 5.40414, 6.17616, 6.948180000000001, 7.7202, 8.492220000000001, 9.26424, 10.03626, 10.80828, 11.580300000000001, 12.35232, 13.12434, 13.896360000000001, 14.205168, 14.513976, 14.822784, 14.977188, 15.131592, 15.285996, 15.316876800000001, 15.3477576, 15.3786384, 15.3940788, 15.4095192, 15.424959600000001, 15.4404]\n",
            "[15.4404, 15.445991300000001, 15.4515826, 15.4571739, 15.4627652, 15.4739478, 15.485130400000001, 15.496313, 15.552226, 15.608139, 15.664052, 15.775877999999999, 15.887704000000001, 15.999530000000002, 16.279095, 16.55866, 16.838225, 17.11779, 17.397355, 17.67692, 17.956485, 18.23605, 18.515615000000004, 18.795180000000002, 19.074745, 19.354309999999998, 19.633875, 19.91344, 20.193005, 20.47257, 20.584396, 20.696222, 20.808048000000003, 20.863961, 20.919874, 20.975787, 20.986969600000002, 20.9981522, 21.0093348, 21.0149261, 21.0205174, 21.026108699999998, 21.0317]\n"
          ]
        }
      ],
      "metadata": {
        "colab": {
          "base_uri": "https://localhost:8080/"
        },
        "id": "3rioTEUwryN6",
        "outputId": "b49b8c93-03ec-413e-c86d-f5e7bccd92e9"
      }
    },
    {
      "cell_type": "markdown",
      "source": [
        "<p align=\"justify\"> Realizado os pontos, realiza-se o plot no gráfico com a biblioteca matplotlib. </p>\n"
      ],
      "metadata": {
        "id": "ihBkzCsV2fsS"
      }
    },
    {
      "cell_type": "code",
      "execution_count": null,
      "source": [
        "# Plot da Figura \r\n",
        "fig = plt.figure(figsize=(12,8))\r\n",
        "\r\n",
        "# Criar primeiro conjunto de dados da pressão do Methanol\r\n",
        "plt.plot(x, pressions, linestyle='--', label=\"Dados coletados\", color = 'black', alpha=1) # Colocar a linha do conjunto de dados\r\n",
        "plt.scatter(x, pressions, color='fuchsia', s=80) # Marcar os pontos determinados do dataframe \r\n",
        "plt.text(0.05, 12, \"P1 = x1 . P1*\")\r\n",
        "\r\n",
        "# Criar o segundo conjunto de dados da pressão do Ethyl Acetate\r\n",
        "plt.plot(x[::-1], pressionss, linestyle='--', label=\"Dados coletados\", color = 'black', alpha=1) # Colocar a linha do conjunto de dados\r\n",
        "plt.scatter(x[::-1], pressionss, color='lightseagreen', s=80) # Marcar os pontos determinados do dataframe \r\n",
        "plt.text(0.8, 15, \"P2 = x2 . P2*\")\r\n",
        "\r\n",
        "# Somar o conjunto de dados de pressão da mistura Methanol + Ethyl Acetate\r\n",
        "plt.plot(x, pression_total, linestyle='--', label=\"Dados coletados\", color = 'black', alpha=1) # Colocar a linha do conjunto de dados\r\n",
        "plt.scatter(x, pression_total, color='darkorchid', s=80) # Marcar os pontos determinados do dataframe \r\n",
        "plt.text(0.4, 20, \"PT = P1 + P2\")\r\n",
        "\r\n",
        "# Criar título central e título dos eixos\r\n",
        "plt.title(\"LEI DE RAOULT: METHANOL + ETHYL ACETATE\")\r\n",
        "plt.xlabel(' Fração Molar [mol/mol]')\r\n",
        "plt.ylabel('Pressão [kPA]')\r\n",
        "\r\n",
        "\r\n",
        "# Plotar todo o gráfico com os comandos determinados anteriormente\r\n",
        "plt.show()"
      ],
      "outputs": [
        {
          "output_type": "display_data",
          "data": {
            "image/png": "[encoded data removed]",
            "text/plain": [
              "<Figure size 1200x800 with 1 Axes>"
            ]
          },
          "metadata": {}
        }
      ],
      "metadata": {
        "colab": {
          "base_uri": "https://localhost:8080/",
          "height": 718
        },
        "id": "Hj4l0r2Orxcx",
        "outputId": "d1d0bf9c-999e-465d-f7db-c4666cc50091"
      }
    },
    {
      "cell_type": "markdown",
      "source": [
        "<h4 p align=\"justify\"> <b> Referências Bibliográficas </b> </p> </h4>\n",
        "\n",
        "- Azeotrope.info. Disponível em: <http://azeotrope.info/>. Acesso em: 23 abr. 2023.\n",
        "\n",
        "- CALLISTER, William D.; RETHWISCH, David G. Materials Science and Engineering: an Introduction. 8. ed. [S. l.]: John Wiley & Sons, Inc, 2009. 885 p. ISBN 978-0-470-55673-3\n",
        "\n",
        "- DDBST GMBH. Vapor-Liquid Equilibrium Data of Ethyl acetate + Methanol from Dortmund Data Bank. Disponível em: <http://unifac.ddbst.de/en/EED/VLE/VLE%20Ethyl%20acetate%3BMethanol.php>. Acesso em: 22 mar. 2023.\n",
        "\n",
        "- González, Begoña, Noelia Calvar, Elena Gómez, and Ángeles Domínguez. \"Density, Dynamic Viscosity, and Derived Properties of Binary Mixtures of Methanol or Ethanol with Water, Ethyl Acetate, and Methyl Acetate at T = (293.15, 298.15, and 303.15) K.\" The Journal of Chemical Thermodynamics 39.12 (2007): 1578-588. Web. \n",
        "\n",
        "- MLA. Schroeder, Daniel V. An Introduction to Thermal Physics. San Francisco, CA :Addison Wesley, 1999. APA. Schroeder, Daniel V. (1999).\n",
        "\n",
        "- VLE phase diagram, residue curve map. Disponível em: <http://vle-calc.com/phase_diagram.html>. Acesso em: 23 abr. 2023.\n",
        "\n",
        "‌\n"
      ],
      "metadata": {
        "id": "katimc2N-y1A"
      }
    }
  ]
}